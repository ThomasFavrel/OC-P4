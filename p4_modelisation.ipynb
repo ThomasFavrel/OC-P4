{
 "cells": [
  {
   "cell_type": "markdown",
   "metadata": {},
   "source": [
    "# MODÉLISATION"
   ]
  },
  {
   "cell_type": "code",
   "execution_count": 133,
   "metadata": {},
   "outputs": [],
   "source": [
    "import pandas as pd\n",
    "import numpy as np\n",
    "import matplotlib.pyplot as plt\n",
    "\n",
    "from sklearn import preprocessing\n",
    "from sklearn import model_selection\n",
    "from sklearn import linear_model\n",
    "from sklearn import model_selection\n",
    "from sklearn import neighbors, metrics\n",
    "from sklearn.ensemble import RandomForestRegressor\n",
    "from sklearn.ensemble import GradientBoostingRegressor\n",
    "from sklearn.metrics import r2_score\n",
    "from sklearn.model_selection import cross_val_score\n",
    "from pprint import pprint"
   ]
  },
  {
   "cell_type": "code",
   "execution_count": 136,
   "metadata": {},
   "outputs": [],
   "source": [
    "def Calcul_Erreur(Y_test,y_pred):\n",
    "    print(\"MAE : {:.4f}\".format( np.mean(abs(y_pred-Y_test)) ))\n",
    "    print(\"R-squared : {:.4f}\".format (r2_score(Y_test,y_pred)))\n",
    "    print(\"MSE : {:.4f}\".format( metrics.mean_squared_error(Y_test, y_pred) ))\n",
    "    print(\"RMSE : {:.4f}\".format(np.sqrt( metrics.mean_squared_error(Y_test, y_pred) )))\n",
    "    \n",
    "def Return_Erreur(Y_test,y_pred):\n",
    "    MAE =(np.mean(abs(y_pred-Y_test)) )\n",
    "    #R_squared = (r2_score(Y_test,y_pred))\n",
    "    MSE = (metrics.mean_squared_error(Y_test, y_pred) )\n",
    "    RMSE = (np.sqrt( metrics.mean_squared_error(Y_test, y_pred) ))\n",
    "    return ( MAE, MSE, RMSE)\n",
    "#,R_squared\n"
   ]
  },
  {
   "cell_type": "code",
   "execution_count": 46,
   "metadata": {},
   "outputs": [],
   "source": [
    "df = pd.read_csv('df_clean.csv')"
   ]
  },
  {
   "cell_type": "code",
   "execution_count": 95,
   "metadata": {},
   "outputs": [],
   "source": [
    "df.dropna(axis=0, inplace=True)"
   ]
  },
  {
   "cell_type": "code",
   "execution_count": 96,
   "metadata": {},
   "outputs": [
    {
     "data": {
      "text/html": [
       "<div>\n",
       "<style scoped>\n",
       "    .dataframe tbody tr th:only-of-type {\n",
       "        vertical-align: middle;\n",
       "    }\n",
       "\n",
       "    .dataframe tbody tr th {\n",
       "        vertical-align: top;\n",
       "    }\n",
       "\n",
       "    .dataframe thead th {\n",
       "        text-align: right;\n",
       "    }\n",
       "</style>\n",
       "<table border=\"1\" class=\"dataframe\">\n",
       "  <thead>\n",
       "    <tr style=\"text-align: right;\">\n",
       "      <th></th>\n",
       "      <th>PrimaryPropertyType</th>\n",
       "      <th>Latitude</th>\n",
       "      <th>NumberofFloors</th>\n",
       "      <th>ComplianceStatus</th>\n",
       "      <th>BuildingType</th>\n",
       "      <th>CouncilDistrictCode</th>\n",
       "      <th>OSEBuildingID</th>\n",
       "      <th>Neighborhood</th>\n",
       "      <th>PropertyGFAParking</th>\n",
       "      <th>TotalGHGEmissions</th>\n",
       "      <th>...</th>\n",
       "      <th>Nonresidential COS</th>\n",
       "      <th>Nonresidential WA</th>\n",
       "      <th>SPS-District K-12</th>\n",
       "      <th>CSC 2</th>\n",
       "      <th>CSC 3</th>\n",
       "      <th>CSC 4</th>\n",
       "      <th>CSC 5</th>\n",
       "      <th>CSC 6</th>\n",
       "      <th>CSC 7</th>\n",
       "      <th>Age</th>\n",
       "    </tr>\n",
       "  </thead>\n",
       "  <tbody>\n",
       "    <tr>\n",
       "      <th>0</th>\n",
       "      <td>Low-Rise Multifamily</td>\n",
       "      <td>47.609736</td>\n",
       "      <td>1.252468</td>\n",
       "      <td>1</td>\n",
       "      <td>Multifamily LR (1-4)</td>\n",
       "      <td>CSC 7</td>\n",
       "      <td>61</td>\n",
       "      <td>Downtown</td>\n",
       "      <td>0.0</td>\n",
       "      <td>112.06</td>\n",
       "      <td>...</td>\n",
       "      <td>0</td>\n",
       "      <td>0</td>\n",
       "      <td>0</td>\n",
       "      <td>0</td>\n",
       "      <td>0</td>\n",
       "      <td>0</td>\n",
       "      <td>0</td>\n",
       "      <td>0</td>\n",
       "      <td>1</td>\n",
       "      <td>116</td>\n",
       "    </tr>\n",
       "    <tr>\n",
       "      <th>1</th>\n",
       "      <td>Low-Rise Multifamily</td>\n",
       "      <td>47.544238</td>\n",
       "      <td>1.252468</td>\n",
       "      <td>1</td>\n",
       "      <td>Multifamily LR (1-4)</td>\n",
       "      <td>CSC 1</td>\n",
       "      <td>266</td>\n",
       "      <td>Delridge</td>\n",
       "      <td>0.0</td>\n",
       "      <td>8.45</td>\n",
       "      <td>...</td>\n",
       "      <td>0</td>\n",
       "      <td>0</td>\n",
       "      <td>0</td>\n",
       "      <td>0</td>\n",
       "      <td>0</td>\n",
       "      <td>0</td>\n",
       "      <td>0</td>\n",
       "      <td>0</td>\n",
       "      <td>0</td>\n",
       "      <td>9</td>\n",
       "    </tr>\n",
       "  </tbody>\n",
       "</table>\n",
       "<p>2 rows × 63 columns</p>\n",
       "</div>"
      ],
      "text/plain": [
       "    PrimaryPropertyType   Latitude  NumberofFloors  ComplianceStatus  \\\n",
       "0  Low-Rise Multifamily  47.609736        1.252468                 1   \n",
       "1  Low-Rise Multifamily  47.544238        1.252468                 1   \n",
       "\n",
       "           BuildingType CouncilDistrictCode  OSEBuildingID Neighborhood  \\\n",
       "0  Multifamily LR (1-4)               CSC 7             61     Downtown   \n",
       "1  Multifamily LR (1-4)               CSC 1            266     Delridge   \n",
       "\n",
       "   PropertyGFAParking  TotalGHGEmissions  ...  Nonresidential COS  \\\n",
       "0                 0.0             112.06  ...                   0   \n",
       "1                 0.0               8.45  ...                   0   \n",
       "\n",
       "   Nonresidential WA  SPS-District K-12  CSC 2  CSC 3  CSC 4  CSC 5  CSC 6  \\\n",
       "0                  0                  0      0      0      0      0      0   \n",
       "1                  0                  0      0      0      0      0      0   \n",
       "\n",
       "   CSC 7  Age  \n",
       "0      1  116  \n",
       "1      0    9  \n",
       "\n",
       "[2 rows x 63 columns]"
      ]
     },
     "execution_count": 96,
     "metadata": {},
     "output_type": "execute_result"
    }
   ],
   "source": [
    "df.head(2)"
   ]
  },
  {
   "cell_type": "code",
   "execution_count": 97,
   "metadata": {},
   "outputs": [
    {
     "data": {
      "text/plain": [
       "Index(['PrimaryPropertyType', 'Latitude', 'NumberofFloors', 'ComplianceStatus',\n",
       "       'BuildingType', 'CouncilDistrictCode', 'OSEBuildingID', 'Neighborhood',\n",
       "       'PropertyGFAParking', 'TotalGHGEmissions', 'PropertyGFATotal',\n",
       "       'PropertyGFABuilding(s)', 'SiteEnergyUse(kBtu)', 'NumberofBuildings',\n",
       "       'Longitude', 'RecentUpgrade', 'Central', 'Delridge', 'Downtown', 'East',\n",
       "       'Greater duwamish', 'Lake union', 'Magnolia / queen anne', 'North',\n",
       "       'Northeast', 'Northwest', 'Southeast', 'Southwest',\n",
       "       'High-Rise Multifamily', 'Hospital', 'Hotel', 'K-12 School',\n",
       "       'Laboratory', 'Low-Rise Multifamily', 'Medical Office',\n",
       "       'Mid-Rise Multifamily', 'Mixed Use Property', 'Office', 'Other',\n",
       "       'Refrigerated Warehouse', 'Residence Hall', 'Restaurant',\n",
       "       'Retail Store', 'Self-Storage Facility', 'Senior Care Community',\n",
       "       'Supermarket / Grocery Store', 'University', 'Warehouse',\n",
       "       'Worship Facility', 'Multifamily HR (10+)', 'Multifamily LR (1-4)',\n",
       "       'Multifamily MR (5-9)', 'NonResidential', 'Nonresidential COS',\n",
       "       'Nonresidential WA', 'SPS-District K-12', 'CSC 2', 'CSC 3', 'CSC 4',\n",
       "       'CSC 5', 'CSC 6', 'CSC 7', 'Age'],\n",
       "      dtype='object')"
      ]
     },
     "execution_count": 97,
     "metadata": {},
     "output_type": "execute_result"
    }
   ],
   "source": [
    "df.columns"
   ]
  },
  {
   "cell_type": "code",
   "execution_count": 98,
   "metadata": {},
   "outputs": [],
   "source": [
    "data = df.drop(columns=['TotalGHGEmissions', 'SiteEnergyUse(kBtu)'], axis=1)"
   ]
  },
  {
   "cell_type": "code",
   "execution_count": 99,
   "metadata": {},
   "outputs": [],
   "source": [
    "data.drop(columns=['BuildingType',\n",
    "                   'OSEBuildingID',\n",
    "                   'ComplianceStatus',\n",
    "                   'Neighborhood',\n",
    "                   'NumberofBuildings',\n",
    "                   'NumberofFloors',\n",
    "                   'PrimaryPropertyType',\n",
    "                   'CouncilDistrictCode'],\n",
    "         axis=1,\n",
    "         inplace=True)"
   ]
  },
  {
   "cell_type": "code",
   "execution_count": 100,
   "metadata": {
    "scrolled": true
   },
   "outputs": [
    {
     "name": "stdout",
     "output_type": "stream",
     "text": [
      "<class 'pandas.core.frame.DataFrame'>\n",
      "Int64Index: 3271 entries, 0 to 3272\n",
      "Data columns (total 53 columns):\n",
      " #   Column                       Non-Null Count  Dtype  \n",
      "---  ------                       --------------  -----  \n",
      " 0   Latitude                     3271 non-null   float64\n",
      " 1   PropertyGFAParking           3271 non-null   float64\n",
      " 2   PropertyGFATotal             3271 non-null   float64\n",
      " 3   PropertyGFABuilding(s)       3271 non-null   float64\n",
      " 4   Longitude                    3271 non-null   float64\n",
      " 5   RecentUpgrade                3271 non-null   int64  \n",
      " 6   Central                      3271 non-null   int64  \n",
      " 7   Delridge                     3271 non-null   int64  \n",
      " 8   Downtown                     3271 non-null   int64  \n",
      " 9   East                         3271 non-null   int64  \n",
      " 10  Greater duwamish             3271 non-null   int64  \n",
      " 11  Lake union                   3271 non-null   int64  \n",
      " 12  Magnolia / queen anne        3271 non-null   int64  \n",
      " 13  North                        3271 non-null   int64  \n",
      " 14  Northeast                    3271 non-null   int64  \n",
      " 15  Northwest                    3271 non-null   int64  \n",
      " 16  Southeast                    3271 non-null   int64  \n",
      " 17  Southwest                    3271 non-null   int64  \n",
      " 18  High-Rise Multifamily        3271 non-null   int64  \n",
      " 19  Hospital                     3271 non-null   int64  \n",
      " 20  Hotel                        3271 non-null   int64  \n",
      " 21  K-12 School                  3271 non-null   int64  \n",
      " 22  Laboratory                   3271 non-null   int64  \n",
      " 23  Low-Rise Multifamily         3271 non-null   int64  \n",
      " 24  Medical Office               3271 non-null   int64  \n",
      " 25  Mid-Rise Multifamily         3271 non-null   int64  \n",
      " 26  Mixed Use Property           3271 non-null   int64  \n",
      " 27  Office                       3271 non-null   int64  \n",
      " 28  Other                        3271 non-null   int64  \n",
      " 29  Refrigerated Warehouse       3271 non-null   int64  \n",
      " 30  Residence Hall               3271 non-null   int64  \n",
      " 31  Restaurant                   3271 non-null   int64  \n",
      " 32  Retail Store                 3271 non-null   int64  \n",
      " 33  Self-Storage Facility        3271 non-null   int64  \n",
      " 34  Senior Care Community        3271 non-null   int64  \n",
      " 35  Supermarket / Grocery Store  3271 non-null   int64  \n",
      " 36  University                   3271 non-null   int64  \n",
      " 37  Warehouse                    3271 non-null   int64  \n",
      " 38  Worship Facility             3271 non-null   int64  \n",
      " 39  Multifamily HR (10+)         3271 non-null   int64  \n",
      " 40  Multifamily LR (1-4)         3271 non-null   int64  \n",
      " 41  Multifamily MR (5-9)         3271 non-null   int64  \n",
      " 42  NonResidential               3271 non-null   int64  \n",
      " 43  Nonresidential COS           3271 non-null   int64  \n",
      " 44  Nonresidential WA            3271 non-null   int64  \n",
      " 45  SPS-District K-12            3271 non-null   int64  \n",
      " 46  CSC 2                        3271 non-null   int64  \n",
      " 47  CSC 3                        3271 non-null   int64  \n",
      " 48  CSC 4                        3271 non-null   int64  \n",
      " 49  CSC 5                        3271 non-null   int64  \n",
      " 50  CSC 6                        3271 non-null   int64  \n",
      " 51  CSC 7                        3271 non-null   int64  \n",
      " 52  Age                          3271 non-null   int64  \n",
      "dtypes: float64(5), int64(48)\n",
      "memory usage: 1.3 MB\n"
     ]
    }
   ],
   "source": [
    "data.info()"
   ]
  },
  {
   "cell_type": "code",
   "execution_count": 101,
   "metadata": {},
   "outputs": [],
   "source": [
    "X = data.values\n",
    "y_e = df['SiteEnergyUse(kBtu)'].values\n",
    "y_g = df['TotalGHGEmissions'].values"
   ]
  },
  {
   "cell_type": "code",
   "execution_count": 102,
   "metadata": {},
   "outputs": [
    {
     "data": {
      "image/png": "[encoded data removed]",
      "text/plain": [
       "<Figure size 1152x864 with 5 Axes>"
      ]
     },
     "metadata": {
      "needs_background": "light"
     },
     "output_type": "display_data"
    }
   ],
   "source": [
    "fig = plt.figure(figsize=(16, 12))\n",
    "for feat_idx in range(data.loc[:, :'Longitude'].shape[1]):\n",
    "    ax = fig.add_subplot(3,4, (feat_idx+1))\n",
    "    h = ax.hist(X[:, feat_idx], bins=50, color='steelblue', density=True, edgecolor='none')\n",
    "    ax.set_title(data.columns[feat_idx], fontsize=14)"
   ]
  },
  {
   "cell_type": "code",
   "execution_count": 103,
   "metadata": {},
   "outputs": [],
   "source": [
    "std_scale = preprocessing.StandardScaler().fit(X)\n",
    "X = std_scale.transform(X)"
   ]
  },
  {
   "cell_type": "code",
   "execution_count": 104,
   "metadata": {},
   "outputs": [
    {
     "data": {
      "image/png": "[encoded data removed]",
      "text/plain": [
       "<Figure size 1152x864 with 5 Axes>"
      ]
     },
     "metadata": {
      "needs_background": "light"
     },
     "output_type": "display_data"
    }
   ],
   "source": [
    "fig = plt.figure(figsize=(16, 12))\n",
    "for feat_idx in range(data.loc[:, :'Longitude'].shape[1]):\n",
    "    ax = fig.add_subplot(3,4, (feat_idx+1))\n",
    "    h = ax.hist(X[:, feat_idx], bins=50, color='steelblue', density=True, edgecolor='none')\n",
    "    ax.set_title(data.columns[feat_idx], fontsize=14)"
   ]
  },
  {
   "cell_type": "code",
   "execution_count": 123,
   "metadata": {},
   "outputs": [],
   "source": [
    "X_train, X_test, y_train_e, y_test_e = model_selection.train_test_split(X, y_e, test_size=0.3, random_state = 9 )"
   ]
  },
  {
   "cell_type": "code",
   "execution_count": 135,
   "metadata": {},
   "outputs": [],
   "source": [
    "lr = linear_model.LinearRegression()\n",
    "lr.fit(X_train, y_train_e)\n",
    "y_pred_rli = lr.predict(X_test)"
   ]
  },
  {
   "cell_type": "code",
   "execution_count": 138,
   "metadata": {},
   "outputs": [],
   "source": [
    "Abs = \"log Site Energy Use (kBtu) \"\n",
    "Ord = \"Prédiction de log Site Energy Use (kBtu)\""
   ]
  },
  {
   "cell_type": "code",
   "execution_count": 144,
   "metadata": {},
   "outputs": [
    {
     "data": {
      "text/plain": [
       "<matplotlib.collections.PathCollection at 0x29a40e7fbe0>"
      ]
     },
     "execution_count": 144,
     "metadata": {},
     "output_type": "execute_result"
    },
    {
     "data": {
      "image/png": "[encoded data removed]",
      "text/plain": [
       "<Figure size 1080x504 with 1 Axes>"
      ]
     },
     "metadata": {
      "needs_background": "light"
     },
     "output_type": "display_data"
    }
   ],
   "source": [
    "fig, ax = plt.subplots(figsize=(15,7))\n",
    "ax.set_xlabel(Abs, fontsize = 11)\n",
    "ax.set_ylabel(Ord, fontsize = 11)\n",
    "plt.title(\"Prédiction de l'énergie utilisée avec le régresseur linéaire\", fontsize = 12)\n",
    "plt.scatter(y_test_e, y_pred_rli, color='coral', alpha=0.8)"
   ]
  },
  {
   "cell_type": "code",
   "execution_count": 143,
   "metadata": {},
   "outputs": [
    {
     "name": "stdout",
     "output_type": "stream",
     "text": [
      "MAE : 5876667.6722\n",
      "R-squared : 0.2345\n",
      "MSE : 820777300863592.2500\n",
      "RMSE : 28649211.1735\n"
     ]
    }
   ],
   "source": [
    "Calcul_Erreur(y_test_e, y_pred_rli)"
   ]
  },
  {
   "cell_type": "code",
   "execution_count": null,
   "metadata": {},
   "outputs": [],
   "source": []
  }
 ],
 "metadata": {
  "kernelspec": {
   "display_name": "Python 3",
   "language": "python",
   "name": "python3"
  },
  "language_info": {
   "codemirror_mode": {
    "name": "ipython",
    "version": 3
   },
   "file_extension": ".py",
   "mimetype": "text/x-python",
   "name": "python",
   "nbconvert_exporter": "python",
   "pygments_lexer": "ipython3",
   "version": "3.8.5"
  }
 },
 "nbformat": 4,
 "nbformat_minor": 4
}
