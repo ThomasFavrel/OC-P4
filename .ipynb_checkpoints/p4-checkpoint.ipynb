{
 "cells": [
  {
   "cell_type": "markdown",
   "metadata": {
    "id": "5NOCVQLXLMzE"
   },
   "source": [
    "# Anticipez les besoins en consommation électrique de bâtiments"
   ]
  },
  {
   "cell_type": "markdown",
   "metadata": {
    "id": "VGaXePggLMzL"
   },
   "source": [
    "* Ville neutre en emissione de carbonne en 2050  \n",
    "* Prédire les émission de co2 et la consommation totale d'énergie des batiments pour lesquelles pas de mesure  \n",
    "* Évaluer l'interet de l'ENERGY STAR SCORE pour la prédiction d'émissions"
   ]
  },
  {
   "cell_type": "markdown",
   "metadata": {
    "id": "q1QJ_qG4LMzM"
   },
   "source": [
    "* **1. Réaliser une courte analyse exploratoire**  \n",
    "* **2. Tester différents modèles de prédiction afin de réponf=dre au mieux à la problématique**\n",
    "* **3. Attention à la fuite de données**"
   ]
  },
  {
   "cell_type": "markdown",
   "metadata": {
    "id": "Dz_J80ffLMzM"
   },
   "source": [
    "* choisir les variables à utiliser\n",
    "* data leak\n",
    "* regresseur differents (min 1 linéaire, 1 non linéaire\n",
    "* validation croisée lors de l'optimisation des hyperparams\n",
    "* justifier le choix de l'un des regresseurs\n",
    "* choisir métrique poour l'optimisation\n",
    "* Explorer differents score et indic de performances\n",
    "* présentation du plus simple au plus complexe\n",
    "* encodage adapté des var catégorielles\n",
    "* Normalisation des variables ou transformation de leur distrib si besoin"
   ]
  },
  {
   "cell_type": "code",
   "execution_count": 1,
   "metadata": {},
   "outputs": [],
   "source": [
    "import dill\n",
    "dill.load_session('kernels/p4_explor_kernel.db')"
   ]
  },
  {
   "cell_type": "code",
   "execution_count": 3,
   "metadata": {
    "executionInfo": {
     "elapsed": 2785,
     "status": "ok",
     "timestamp": 1607545546941,
     "user": {
      "displayName": "Thomas Favrel",
      "photoUrl": "",
      "userId": "00853056097421135069"
     },
     "user_tz": -60
    },
    "id": "a0wU8AiKLMzM"
   },
   "outputs": [],
   "source": [
    "import os\n",
    "\n",
    "import numpy as np\n",
    "import pandas as pd\n",
    "import json\n",
    "\n",
    "import matplotlib.pyplot as plt\n",
    "import seaborn as sns\n",
    "import plotly.graph_objects as go\n",
    "\n",
    "from scipy.stats import shapiro"
   ]
  },
  {
   "cell_type": "code",
   "execution_count": 4,
   "metadata": {
    "executionInfo": {
     "elapsed": 1168,
     "status": "ok",
     "timestamp": 1607545558637,
     "user": {
      "displayName": "Thomas Favrel",
      "photoUrl": "",
      "userId": "00853056097421135069"
     },
     "user_tz": -60
    },
    "id": "lN0Kc_uWLMzN"
   },
   "outputs": [],
   "source": [
    "pd.set_option(\"display.max_colwidth\", 1000)"
   ]
  },
  {
   "cell_type": "markdown",
   "metadata": {
    "id": "A7q6MK5lLMzO"
   },
   "source": [
    "## 1. IMPORT DES DONNÉES"
   ]
  },
  {
   "cell_type": "code",
   "execution_count": 5,
   "metadata": {
    "id": "aPVmDYhKLc73"
   },
   "outputs": [],
   "source": [
    "df_2015 = pd.read_csv(r'D:\\Work\\OC_DS_P4\\2015-building-energy-benchmarking.csv')\n",
    "df_2016 = pd.read_csv(r'D:\\Work\\OC_DS_P4\\2016-building-energy-benchmarking.csv')"
   ]
  },
  {
   "cell_type": "code",
   "execution_count": null,
   "metadata": {
    "colab": {
     "base_uri": "https://localhost:8080/",
     "height": 391
    },
    "executionInfo": {
     "elapsed": 1258,
     "status": "error",
     "timestamp": 1607545560016,
     "user": {
      "displayName": "Thomas Favrel",
      "photoUrl": "",
      "userId": "00853056097421135069"
     },
     "user_tz": -60
    },
    "id": "OcYStq4vLMzO",
    "outputId": "3f87f6cf-328d-4b2e-c5d6-60769dfd7b1d"
   },
   "outputs": [],
   "source": [
    "df_2015 = pd.read_csv(r'E:\\t\\Cours Open Classeroom\\DATA SCIENCE\\Projet 4\\data\\2015-building-energy-benchmarking.csv')\n",
    "df_2016 = pd.read_csv(r'E:\\t\\Cours Open Classeroom\\DATA SCIENCE\\Projet 4\\data\\2016-building-energy-benchmarking.csv')"
   ]
  },
  {
   "cell_type": "code",
   "execution_count": null,
   "metadata": {},
   "outputs": [],
   "source": [
    "df_2015 = pd.read_csv(r':\\Users\\t.favrel\\Downloads\\data p4\\2015-building-energy-benchmarking.csv')\n",
    "df_2016 = pd.read_csv(r'C:\\Users\\t.favrel\\Downloads\\data p4\\2016-building-energy-benchmarking.csv')"
   ]
  },
  {
   "cell_type": "code",
   "execution_count": 6,
   "metadata": {
    "id": "VxldSU69LMzO"
   },
   "outputs": [],
   "source": [
    "with open(r'D:\\Work\\OC_DS_P4\\socrata_metadata_2015-building-energy-benchmarking.json') as json_data:\n",
    "    metaData_2015 = json.load(json_data)\n",
    "    \n",
    "with open(r'D:\\Work\\OC_DS_P4\\socrata_metadata_2016-building-energy-benchmarking.json') as json_data:\n",
    "    metaData_2016 = json.load(json_data)"
   ]
  },
  {
   "cell_type": "code",
   "execution_count": 7,
   "metadata": {
    "id": "RG3lBCAMLMzP"
   },
   "outputs": [],
   "source": [
    "# Données relatives aux colonnes\n",
    "meta_col_2015 = pd.DataFrame.from_dict(metaData_2015['columns'])\n",
    "meta_col_2016 = pd.DataFrame.from_dict(metaData_2016['columns'])"
   ]
  },
  {
   "cell_type": "markdown",
   "metadata": {
    "id": "HywoQjGoLMzP"
   },
   "source": [
    "## 2. APERÇU DES DONNÉES"
   ]
  },
  {
   "cell_type": "code",
   "execution_count": 8,
   "metadata": {
    "id": "L-94MSXYLMzP"
   },
   "outputs": [],
   "source": [
    "def df_display_shape(df, name='_'):\n",
    "    '''\n",
    "    Affiche le nombre de lignes et de colonnes d'un DataFrame\n",
    "    '''\n",
    "    if name != '_':\n",
    "        print(f'{name} contient {df.shape[0]} lignes et {df.shape[1]} colonnes')\n",
    "    else:\n",
    "        print(f'Le DataFrame contient {df.shape[0]} lignes et {df.shape[1]} colonnes')"
   ]
  },
  {
   "cell_type": "code",
   "execution_count": 9,
   "metadata": {
    "id": "10HuzuaoLMzP",
    "outputId": "41ab5cd6-3d5a-4981-c295-eaeec8ebfefa"
   },
   "outputs": [
    {
     "name": "stdout",
     "output_type": "stream",
     "text": [
      "Le DataFrame contient 3340 lignes et 47 colonnes\n"
     ]
    },
    {
     "data": {
      "text/html": [
       "<div>\n",
       "<style scoped>\n",
       "    .dataframe tbody tr th:only-of-type {\n",
       "        vertical-align: middle;\n",
       "    }\n",
       "\n",
       "    .dataframe tbody tr th {\n",
       "        vertical-align: top;\n",
       "    }\n",
       "\n",
       "    .dataframe thead th {\n",
       "        text-align: right;\n",
       "    }\n",
       "</style>\n",
       "<table border=\"1\" class=\"dataframe\">\n",
       "  <thead>\n",
       "    <tr style=\"text-align: right;\">\n",
       "      <th></th>\n",
       "      <th>OSEBuildingID</th>\n",
       "      <th>DataYear</th>\n",
       "      <th>BuildingType</th>\n",
       "      <th>PrimaryPropertyType</th>\n",
       "      <th>PropertyName</th>\n",
       "      <th>TaxParcelIdentificationNumber</th>\n",
       "      <th>Location</th>\n",
       "      <th>CouncilDistrictCode</th>\n",
       "      <th>Neighborhood</th>\n",
       "      <th>YearBuilt</th>\n",
       "      <th>...</th>\n",
       "      <th>GHGEmissionsIntensity(kgCO2e/ft2)</th>\n",
       "      <th>DefaultData</th>\n",
       "      <th>Comment</th>\n",
       "      <th>ComplianceStatus</th>\n",
       "      <th>Outlier</th>\n",
       "      <th>2010 Census Tracts</th>\n",
       "      <th>Seattle Police Department Micro Community Policing Plan Areas</th>\n",
       "      <th>City Council Districts</th>\n",
       "      <th>SPD Beats</th>\n",
       "      <th>Zip Codes</th>\n",
       "    </tr>\n",
       "  </thead>\n",
       "  <tbody>\n",
       "    <tr>\n",
       "      <th>0</th>\n",
       "      <td>1</td>\n",
       "      <td>2015</td>\n",
       "      <td>NonResidential</td>\n",
       "      <td>Hotel</td>\n",
       "      <td>MAYFLOWER PARK HOTEL</td>\n",
       "      <td>659000030</td>\n",
       "      <td>{'latitude': '47.61219025', 'longitude': '-122.33799744', 'human_address': '{\"address\": \"405 OLIVE WAY\", \"city\": \"SEATTLE\", \"state\": \"WA\", \"zip\": \"98101\"}'}</td>\n",
       "      <td>7</td>\n",
       "      <td>DOWNTOWN</td>\n",
       "      <td>1927</td>\n",
       "      <td>...</td>\n",
       "      <td>2.64</td>\n",
       "      <td>No</td>\n",
       "      <td>NaN</td>\n",
       "      <td>Compliant</td>\n",
       "      <td>NaN</td>\n",
       "      <td>NaN</td>\n",
       "      <td>14.0</td>\n",
       "      <td>NaN</td>\n",
       "      <td>31.0</td>\n",
       "      <td>18081</td>\n",
       "    </tr>\n",
       "    <tr>\n",
       "      <th>1</th>\n",
       "      <td>2</td>\n",
       "      <td>2015</td>\n",
       "      <td>NonResidential</td>\n",
       "      <td>Hotel</td>\n",
       "      <td>PARAMOUNT HOTEL</td>\n",
       "      <td>659000220</td>\n",
       "      <td>{'latitude': '47.61310583', 'longitude': '-122.33335756', 'human_address': '{\"address\": \"724 PINE ST\", \"city\": \"SEATTLE\", \"state\": \"WA\", \"zip\": \"98101\"}'}</td>\n",
       "      <td>7</td>\n",
       "      <td>DOWNTOWN</td>\n",
       "      <td>1996</td>\n",
       "      <td>...</td>\n",
       "      <td>2.38</td>\n",
       "      <td>No</td>\n",
       "      <td>NaN</td>\n",
       "      <td>Compliant</td>\n",
       "      <td>NaN</td>\n",
       "      <td>NaN</td>\n",
       "      <td>14.0</td>\n",
       "      <td>NaN</td>\n",
       "      <td>31.0</td>\n",
       "      <td>18081</td>\n",
       "    </tr>\n",
       "    <tr>\n",
       "      <th>2</th>\n",
       "      <td>3</td>\n",
       "      <td>2015</td>\n",
       "      <td>NonResidential</td>\n",
       "      <td>Hotel</td>\n",
       "      <td>WESTIN HOTEL</td>\n",
       "      <td>659000475</td>\n",
       "      <td>{'latitude': '47.61334897', 'longitude': '-122.33769944', 'human_address': '{\"address\": \"1900 5TH AVE\", \"city\": \"SEATTLE\", \"state\": \"WA\", \"zip\": \"98101\"}'}</td>\n",
       "      <td>7</td>\n",
       "      <td>DOWNTOWN</td>\n",
       "      <td>1969</td>\n",
       "      <td>...</td>\n",
       "      <td>1.92</td>\n",
       "      <td>Yes</td>\n",
       "      <td>NaN</td>\n",
       "      <td>Compliant</td>\n",
       "      <td>NaN</td>\n",
       "      <td>NaN</td>\n",
       "      <td>56.0</td>\n",
       "      <td>NaN</td>\n",
       "      <td>31.0</td>\n",
       "      <td>18081</td>\n",
       "    </tr>\n",
       "    <tr>\n",
       "      <th>3</th>\n",
       "      <td>5</td>\n",
       "      <td>2015</td>\n",
       "      <td>NonResidential</td>\n",
       "      <td>Hotel</td>\n",
       "      <td>HOTEL MAX</td>\n",
       "      <td>659000640</td>\n",
       "      <td>{'latitude': '47.61421585', 'longitude': '-122.33660889', 'human_address': '{\"address\": \"620 STEWART ST\", \"city\": \"SEATTLE\", \"state\": \"WA\", \"zip\": \"98101\"}'}</td>\n",
       "      <td>7</td>\n",
       "      <td>DOWNTOWN</td>\n",
       "      <td>1926</td>\n",
       "      <td>...</td>\n",
       "      <td>31.38</td>\n",
       "      <td>No</td>\n",
       "      <td>NaN</td>\n",
       "      <td>Compliant</td>\n",
       "      <td>High Outlier</td>\n",
       "      <td>NaN</td>\n",
       "      <td>56.0</td>\n",
       "      <td>NaN</td>\n",
       "      <td>31.0</td>\n",
       "      <td>18081</td>\n",
       "    </tr>\n",
       "  </tbody>\n",
       "</table>\n",
       "<p>4 rows × 47 columns</p>\n",
       "</div>"
      ],
      "text/plain": [
       "   OSEBuildingID  DataYear    BuildingType PrimaryPropertyType  \\\n",
       "0              1      2015  NonResidential               Hotel   \n",
       "1              2      2015  NonResidential               Hotel   \n",
       "2              3      2015  NonResidential               Hotel   \n",
       "3              5      2015  NonResidential               Hotel   \n",
       "\n",
       "           PropertyName TaxParcelIdentificationNumber  \\\n",
       "0  MAYFLOWER PARK HOTEL                     659000030   \n",
       "1       PARAMOUNT HOTEL                     659000220   \n",
       "2          WESTIN HOTEL                     659000475   \n",
       "3             HOTEL MAX                     659000640   \n",
       "\n",
       "                                                                                                                                                        Location  \\\n",
       "0   {'latitude': '47.61219025', 'longitude': '-122.33799744', 'human_address': '{\"address\": \"405 OLIVE WAY\", \"city\": \"SEATTLE\", \"state\": \"WA\", \"zip\": \"98101\"}'}   \n",
       "1     {'latitude': '47.61310583', 'longitude': '-122.33335756', 'human_address': '{\"address\": \"724 PINE ST\", \"city\": \"SEATTLE\", \"state\": \"WA\", \"zip\": \"98101\"}'}   \n",
       "2    {'latitude': '47.61334897', 'longitude': '-122.33769944', 'human_address': '{\"address\": \"1900 5TH AVE\", \"city\": \"SEATTLE\", \"state\": \"WA\", \"zip\": \"98101\"}'}   \n",
       "3  {'latitude': '47.61421585', 'longitude': '-122.33660889', 'human_address': '{\"address\": \"620 STEWART ST\", \"city\": \"SEATTLE\", \"state\": \"WA\", \"zip\": \"98101\"}'}   \n",
       "\n",
       "   CouncilDistrictCode Neighborhood  YearBuilt  ...  \\\n",
       "0                    7     DOWNTOWN       1927  ...   \n",
       "1                    7     DOWNTOWN       1996  ...   \n",
       "2                    7     DOWNTOWN       1969  ...   \n",
       "3                    7     DOWNTOWN       1926  ...   \n",
       "\n",
       "   GHGEmissionsIntensity(kgCO2e/ft2)  DefaultData  Comment  ComplianceStatus  \\\n",
       "0                               2.64           No      NaN         Compliant   \n",
       "1                               2.38           No      NaN         Compliant   \n",
       "2                               1.92          Yes      NaN         Compliant   \n",
       "3                              31.38           No      NaN         Compliant   \n",
       "\n",
       "        Outlier 2010 Census Tracts  \\\n",
       "0           NaN                NaN   \n",
       "1           NaN                NaN   \n",
       "2           NaN                NaN   \n",
       "3  High Outlier                NaN   \n",
       "\n",
       "  Seattle Police Department Micro Community Policing Plan Areas  \\\n",
       "0                                                          14.0   \n",
       "1                                                          14.0   \n",
       "2                                                          56.0   \n",
       "3                                                          56.0   \n",
       "\n",
       "   City Council Districts SPD Beats  Zip Codes  \n",
       "0                     NaN      31.0      18081  \n",
       "1                     NaN      31.0      18081  \n",
       "2                     NaN      31.0      18081  \n",
       "3                     NaN      31.0      18081  \n",
       "\n",
       "[4 rows x 47 columns]"
      ]
     },
     "execution_count": 9,
     "metadata": {},
     "output_type": "execute_result"
    }
   ],
   "source": [
    "df_display_shape(df_2015)\n",
    "df_2015.head(4)"
   ]
  },
  {
   "cell_type": "code",
   "execution_count": 10,
   "metadata": {
    "id": "vRcpLl7LLMzR",
    "outputId": "ce5fbbe8-e82c-4bef-f2d5-f9066c83edea"
   },
   "outputs": [
    {
     "name": "stdout",
     "output_type": "stream",
     "text": [
      "Le DataFrame contient 3376 lignes et 46 colonnes\n"
     ]
    },
    {
     "data": {
      "text/html": [
       "<div>\n",
       "<style scoped>\n",
       "    .dataframe tbody tr th:only-of-type {\n",
       "        vertical-align: middle;\n",
       "    }\n",
       "\n",
       "    .dataframe tbody tr th {\n",
       "        vertical-align: top;\n",
       "    }\n",
       "\n",
       "    .dataframe thead th {\n",
       "        text-align: right;\n",
       "    }\n",
       "</style>\n",
       "<table border=\"1\" class=\"dataframe\">\n",
       "  <thead>\n",
       "    <tr style=\"text-align: right;\">\n",
       "      <th></th>\n",
       "      <th>OSEBuildingID</th>\n",
       "      <th>DataYear</th>\n",
       "      <th>BuildingType</th>\n",
       "      <th>PrimaryPropertyType</th>\n",
       "      <th>PropertyName</th>\n",
       "      <th>Address</th>\n",
       "      <th>City</th>\n",
       "      <th>State</th>\n",
       "      <th>ZipCode</th>\n",
       "      <th>TaxParcelIdentificationNumber</th>\n",
       "      <th>...</th>\n",
       "      <th>Electricity(kWh)</th>\n",
       "      <th>Electricity(kBtu)</th>\n",
       "      <th>NaturalGas(therms)</th>\n",
       "      <th>NaturalGas(kBtu)</th>\n",
       "      <th>DefaultData</th>\n",
       "      <th>Comments</th>\n",
       "      <th>ComplianceStatus</th>\n",
       "      <th>Outlier</th>\n",
       "      <th>TotalGHGEmissions</th>\n",
       "      <th>GHGEmissionsIntensity</th>\n",
       "    </tr>\n",
       "  </thead>\n",
       "  <tbody>\n",
       "    <tr>\n",
       "      <th>0</th>\n",
       "      <td>1</td>\n",
       "      <td>2016</td>\n",
       "      <td>NonResidential</td>\n",
       "      <td>Hotel</td>\n",
       "      <td>Mayflower park hotel</td>\n",
       "      <td>405 Olive way</td>\n",
       "      <td>Seattle</td>\n",
       "      <td>WA</td>\n",
       "      <td>98101.0</td>\n",
       "      <td>0659000030</td>\n",
       "      <td>...</td>\n",
       "      <td>1.156514e+06</td>\n",
       "      <td>3946027.0</td>\n",
       "      <td>12764.52930</td>\n",
       "      <td>1276453.0</td>\n",
       "      <td>False</td>\n",
       "      <td>NaN</td>\n",
       "      <td>Compliant</td>\n",
       "      <td>NaN</td>\n",
       "      <td>249.98</td>\n",
       "      <td>2.83</td>\n",
       "    </tr>\n",
       "    <tr>\n",
       "      <th>1</th>\n",
       "      <td>2</td>\n",
       "      <td>2016</td>\n",
       "      <td>NonResidential</td>\n",
       "      <td>Hotel</td>\n",
       "      <td>Paramount Hotel</td>\n",
       "      <td>724 Pine street</td>\n",
       "      <td>Seattle</td>\n",
       "      <td>WA</td>\n",
       "      <td>98101.0</td>\n",
       "      <td>0659000220</td>\n",
       "      <td>...</td>\n",
       "      <td>9.504252e+05</td>\n",
       "      <td>3242851.0</td>\n",
       "      <td>51450.81641</td>\n",
       "      <td>5145082.0</td>\n",
       "      <td>False</td>\n",
       "      <td>NaN</td>\n",
       "      <td>Compliant</td>\n",
       "      <td>NaN</td>\n",
       "      <td>295.86</td>\n",
       "      <td>2.86</td>\n",
       "    </tr>\n",
       "    <tr>\n",
       "      <th>2</th>\n",
       "      <td>3</td>\n",
       "      <td>2016</td>\n",
       "      <td>NonResidential</td>\n",
       "      <td>Hotel</td>\n",
       "      <td>5673-The Westin Seattle</td>\n",
       "      <td>1900 5th Avenue</td>\n",
       "      <td>Seattle</td>\n",
       "      <td>WA</td>\n",
       "      <td>98101.0</td>\n",
       "      <td>0659000475</td>\n",
       "      <td>...</td>\n",
       "      <td>1.451544e+07</td>\n",
       "      <td>49526664.0</td>\n",
       "      <td>14938.00000</td>\n",
       "      <td>1493800.0</td>\n",
       "      <td>False</td>\n",
       "      <td>NaN</td>\n",
       "      <td>Compliant</td>\n",
       "      <td>NaN</td>\n",
       "      <td>2089.28</td>\n",
       "      <td>2.19</td>\n",
       "    </tr>\n",
       "    <tr>\n",
       "      <th>3</th>\n",
       "      <td>5</td>\n",
       "      <td>2016</td>\n",
       "      <td>NonResidential</td>\n",
       "      <td>Hotel</td>\n",
       "      <td>HOTEL MAX</td>\n",
       "      <td>620 STEWART ST</td>\n",
       "      <td>Seattle</td>\n",
       "      <td>WA</td>\n",
       "      <td>98101.0</td>\n",
       "      <td>0659000640</td>\n",
       "      <td>...</td>\n",
       "      <td>8.115253e+05</td>\n",
       "      <td>2768924.0</td>\n",
       "      <td>18112.13086</td>\n",
       "      <td>1811213.0</td>\n",
       "      <td>False</td>\n",
       "      <td>NaN</td>\n",
       "      <td>Compliant</td>\n",
       "      <td>NaN</td>\n",
       "      <td>286.43</td>\n",
       "      <td>4.67</td>\n",
       "    </tr>\n",
       "  </tbody>\n",
       "</table>\n",
       "<p>4 rows × 46 columns</p>\n",
       "</div>"
      ],
      "text/plain": [
       "   OSEBuildingID  DataYear    BuildingType PrimaryPropertyType  \\\n",
       "0              1      2016  NonResidential               Hotel   \n",
       "1              2      2016  NonResidential               Hotel   \n",
       "2              3      2016  NonResidential               Hotel   \n",
       "3              5      2016  NonResidential               Hotel   \n",
       "\n",
       "              PropertyName          Address     City State  ZipCode  \\\n",
       "0     Mayflower park hotel    405 Olive way  Seattle    WA  98101.0   \n",
       "1          Paramount Hotel  724 Pine street  Seattle    WA  98101.0   \n",
       "2  5673-The Westin Seattle  1900 5th Avenue  Seattle    WA  98101.0   \n",
       "3                HOTEL MAX   620 STEWART ST  Seattle    WA  98101.0   \n",
       "\n",
       "  TaxParcelIdentificationNumber  ...  Electricity(kWh) Electricity(kBtu)  \\\n",
       "0                    0659000030  ...      1.156514e+06         3946027.0   \n",
       "1                    0659000220  ...      9.504252e+05         3242851.0   \n",
       "2                    0659000475  ...      1.451544e+07        49526664.0   \n",
       "3                    0659000640  ...      8.115253e+05         2768924.0   \n",
       "\n",
       "   NaturalGas(therms)  NaturalGas(kBtu)  DefaultData  Comments  \\\n",
       "0         12764.52930         1276453.0        False       NaN   \n",
       "1         51450.81641         5145082.0        False       NaN   \n",
       "2         14938.00000         1493800.0        False       NaN   \n",
       "3         18112.13086         1811213.0        False       NaN   \n",
       "\n",
       "   ComplianceStatus  Outlier  TotalGHGEmissions  GHGEmissionsIntensity  \n",
       "0         Compliant      NaN             249.98                   2.83  \n",
       "1         Compliant      NaN             295.86                   2.86  \n",
       "2         Compliant      NaN            2089.28                   2.19  \n",
       "3         Compliant      NaN             286.43                   4.67  \n",
       "\n",
       "[4 rows x 46 columns]"
      ]
     },
     "execution_count": 10,
     "metadata": {},
     "output_type": "execute_result"
    }
   ],
   "source": [
    "df_display_shape(df_2016)\n",
    "df_2016.head(4)"
   ]
  },
  {
   "cell_type": "markdown",
   "metadata": {
    "id": "VUyudRUuLMzR"
   },
   "source": [
    "### 2.a Colonnes "
   ]
  },
  {
   "cell_type": "code",
   "execution_count": 11,
   "metadata": {
    "id": "B1BC774fLMzR"
   },
   "outputs": [],
   "source": [
    "col_2015 = set(df_2015.columns)\n",
    "col_2016 = set(df_2016.columns)"
   ]
  },
  {
   "cell_type": "code",
   "execution_count": 12,
   "metadata": {
    "id": "6nIiUe96LMzS"
   },
   "outputs": [],
   "source": [
    "inter = col_2015.intersection(col_2016) # Dans 2015 et 2016\n",
    "only_2015 = col_2015.difference(col_2016) # Uniquement dans 2015\n",
    "only_2016 = col_2016.difference(col_2015) # Uniquement dans 2016"
   ]
  },
  {
   "cell_type": "code",
   "execution_count": 13,
   "metadata": {
    "id": "ien58E1xLMzS",
    "outputId": "bc6351e8-0ef8-422f-904e-aa6a796399b5"
   },
   "outputs": [
    {
     "name": "stdout",
     "output_type": "stream",
     "text": [
      "Il y a 37 colonnes présentes en 2015 et 2016\n",
      "Il y a 10 colonnes uniquement en 2015 et 9 colonnes uniquement en 2016.\n"
     ]
    }
   ],
   "source": [
    "print(f\"Il y a {len(inter)} colonnes présentes en 2015 et 2016\\n\\\n",
    "Il y a {len(only_2015)} colonnes uniquement en 2015 et {len(only_2016)} colonnes uniquement en 2016.\")"
   ]
  },
  {
   "cell_type": "code",
   "execution_count": 14,
   "metadata": {
    "id": "Ruli2pxoLMzS",
    "outputId": "e07963fe-f6f5-4371-fa19-acbb6219f3ad",
    "scrolled": true
   },
   "outputs": [
    {
     "data": {
      "text/plain": [
       "({'BuildingType',\n",
       "  'ComplianceStatus',\n",
       "  'CouncilDistrictCode',\n",
       "  'DataYear',\n",
       "  'DefaultData',\n",
       "  'ENERGYSTARScore',\n",
       "  'Electricity(kBtu)',\n",
       "  'Electricity(kWh)',\n",
       "  'LargestPropertyUseType',\n",
       "  'LargestPropertyUseTypeGFA',\n",
       "  'ListOfAllPropertyUseTypes',\n",
       "  'NaturalGas(kBtu)',\n",
       "  'NaturalGas(therms)',\n",
       "  'Neighborhood',\n",
       "  'NumberofBuildings',\n",
       "  'NumberofFloors',\n",
       "  'OSEBuildingID',\n",
       "  'Outlier',\n",
       "  'PrimaryPropertyType',\n",
       "  'PropertyGFABuilding(s)',\n",
       "  'PropertyGFAParking',\n",
       "  'PropertyGFATotal',\n",
       "  'PropertyName',\n",
       "  'SecondLargestPropertyUseType',\n",
       "  'SecondLargestPropertyUseTypeGFA',\n",
       "  'SiteEUI(kBtu/sf)',\n",
       "  'SiteEUIWN(kBtu/sf)',\n",
       "  'SiteEnergyUse(kBtu)',\n",
       "  'SiteEnergyUseWN(kBtu)',\n",
       "  'SourceEUI(kBtu/sf)',\n",
       "  'SourceEUIWN(kBtu/sf)',\n",
       "  'SteamUse(kBtu)',\n",
       "  'TaxParcelIdentificationNumber',\n",
       "  'ThirdLargestPropertyUseType',\n",
       "  'ThirdLargestPropertyUseTypeGFA',\n",
       "  'YearBuilt',\n",
       "  'YearsENERGYSTARCertified'},\n",
       " {'2010 Census Tracts',\n",
       "  'City Council Districts',\n",
       "  'Comment',\n",
       "  'GHGEmissions(MetricTonsCO2e)',\n",
       "  'GHGEmissionsIntensity(kgCO2e/ft2)',\n",
       "  'Location',\n",
       "  'OtherFuelUse(kBtu)',\n",
       "  'SPD Beats',\n",
       "  'Seattle Police Department Micro Community Policing Plan Areas',\n",
       "  'Zip Codes'},\n",
       " {'Address',\n",
       "  'City',\n",
       "  'Comments',\n",
       "  'GHGEmissionsIntensity',\n",
       "  'Latitude',\n",
       "  'Longitude',\n",
       "  'State',\n",
       "  'TotalGHGEmissions',\n",
       "  'ZipCode'})"
      ]
     },
     "execution_count": 14,
     "metadata": {},
     "output_type": "execute_result"
    }
   ],
   "source": [
    "inter, only_2015, only_2016"
   ]
  },
  {
   "cell_type": "code",
   "execution_count": 15,
   "metadata": {
    "id": "668Vn5Z8LMzT",
    "outputId": "156228c3-8788-43c1-a9bb-98ddc7b9b40a"
   },
   "outputs": [
    {
     "data": {
      "text/html": [
       "<div>\n",
       "<style scoped>\n",
       "    .dataframe tbody tr th:only-of-type {\n",
       "        vertical-align: middle;\n",
       "    }\n",
       "\n",
       "    .dataframe tbody tr th {\n",
       "        vertical-align: top;\n",
       "    }\n",
       "\n",
       "    .dataframe thead th {\n",
       "        text-align: right;\n",
       "    }\n",
       "</style>\n",
       "<table border=\"1\" class=\"dataframe\">\n",
       "  <thead>\n",
       "    <tr style=\"text-align: right;\">\n",
       "      <th></th>\n",
       "      <th>Zip Codes</th>\n",
       "      <th>OSEBuildingID</th>\n",
       "    </tr>\n",
       "  </thead>\n",
       "  <tbody>\n",
       "    <tr>\n",
       "      <th>0</th>\n",
       "      <td>18081</td>\n",
       "      <td>1</td>\n",
       "    </tr>\n",
       "    <tr>\n",
       "      <th>1</th>\n",
       "      <td>18081</td>\n",
       "      <td>2</td>\n",
       "    </tr>\n",
       "    <tr>\n",
       "      <th>2</th>\n",
       "      <td>18081</td>\n",
       "      <td>3</td>\n",
       "    </tr>\n",
       "    <tr>\n",
       "      <th>3</th>\n",
       "      <td>18081</td>\n",
       "      <td>5</td>\n",
       "    </tr>\n",
       "    <tr>\n",
       "      <th>4</th>\n",
       "      <td>19576</td>\n",
       "      <td>8</td>\n",
       "    </tr>\n",
       "    <tr>\n",
       "      <th>...</th>\n",
       "      <td>...</td>\n",
       "      <td>...</td>\n",
       "    </tr>\n",
       "    <tr>\n",
       "      <th>3335</th>\n",
       "      <td>18379</td>\n",
       "      <td>50049</td>\n",
       "    </tr>\n",
       "    <tr>\n",
       "      <th>3336</th>\n",
       "      <td>18383</td>\n",
       "      <td>50055</td>\n",
       "    </tr>\n",
       "    <tr>\n",
       "      <th>3337</th>\n",
       "      <td>19576</td>\n",
       "      <td>50057</td>\n",
       "    </tr>\n",
       "    <tr>\n",
       "      <th>3338</th>\n",
       "      <td>18792</td>\n",
       "      <td>50058</td>\n",
       "    </tr>\n",
       "    <tr>\n",
       "      <th>3339</th>\n",
       "      <td>18792</td>\n",
       "      <td>50059</td>\n",
       "    </tr>\n",
       "  </tbody>\n",
       "</table>\n",
       "<p>3340 rows × 2 columns</p>\n",
       "</div>"
      ],
      "text/plain": [
       "      Zip Codes  OSEBuildingID\n",
       "0         18081              1\n",
       "1         18081              2\n",
       "2         18081              3\n",
       "3         18081              5\n",
       "4         19576              8\n",
       "...         ...            ...\n",
       "3335      18379          50049\n",
       "3336      18383          50055\n",
       "3337      19576          50057\n",
       "3338      18792          50058\n",
       "3339      18792          50059\n",
       "\n",
       "[3340 rows x 2 columns]"
      ]
     },
     "execution_count": 15,
     "metadata": {},
     "output_type": "execute_result"
    }
   ],
   "source": [
    "df_2015.loc[:, ['Zip Codes', 'OSEBuildingID']]"
   ]
  },
  {
   "cell_type": "code",
   "execution_count": 16,
   "metadata": {
    "id": "9IM0RCSFLMzT",
    "outputId": "ebe185bf-ff9d-47b5-f310-5d13978c18b6"
   },
   "outputs": [
    {
     "data": {
      "text/html": [
       "<div>\n",
       "<style scoped>\n",
       "    .dataframe tbody tr th:only-of-type {\n",
       "        vertical-align: middle;\n",
       "    }\n",
       "\n",
       "    .dataframe tbody tr th {\n",
       "        vertical-align: top;\n",
       "    }\n",
       "\n",
       "    .dataframe thead th {\n",
       "        text-align: right;\n",
       "    }\n",
       "</style>\n",
       "<table border=\"1\" class=\"dataframe\">\n",
       "  <thead>\n",
       "    <tr style=\"text-align: right;\">\n",
       "      <th></th>\n",
       "      <th>id</th>\n",
       "      <th>name</th>\n",
       "      <th>dataTypeName</th>\n",
       "      <th>description</th>\n",
       "      <th>fieldName</th>\n",
       "      <th>position</th>\n",
       "      <th>renderTypeName</th>\n",
       "      <th>tableColumnId</th>\n",
       "      <th>width</th>\n",
       "      <th>cachedContents</th>\n",
       "      <th>format</th>\n",
       "      <th>computationStrategy</th>\n",
       "    </tr>\n",
       "  </thead>\n",
       "  <tbody>\n",
       "    <tr>\n",
       "      <th>46</th>\n",
       "      <td>350404106</td>\n",
       "      <td>Zip Codes</td>\n",
       "      <td>number</td>\n",
       "      <td>NaN</td>\n",
       "      <td>:@computed_region_q256_3sug</td>\n",
       "      <td>51</td>\n",
       "      <td>number</td>\n",
       "      <td>62603795</td>\n",
       "      <td>NaN</td>\n",
       "      <td>NaN</td>\n",
       "      <td>{}</td>\n",
       "      <td>{'source_columns': ['location'], 'type': 'georegion_match_on_point', 'parameters': {'region': '_q256-3sug', 'primary_key': '_feature_id'}}</td>\n",
       "    </tr>\n",
       "  </tbody>\n",
       "</table>\n",
       "</div>"
      ],
      "text/plain": [
       "           id       name dataTypeName description  \\\n",
       "46  350404106  Zip Codes       number         NaN   \n",
       "\n",
       "                      fieldName  position renderTypeName  tableColumnId  \\\n",
       "46  :@computed_region_q256_3sug        51         number       62603795   \n",
       "\n",
       "    width cachedContents format  \\\n",
       "46    NaN            NaN     {}   \n",
       "\n",
       "                                                                                                                           computationStrategy  \n",
       "46  {'source_columns': ['location'], 'type': 'georegion_match_on_point', 'parameters': {'region': '_q256-3sug', 'primary_key': '_feature_id'}}  "
      ]
     },
     "execution_count": 16,
     "metadata": {},
     "output_type": "execute_result"
    }
   ],
   "source": [
    "meta_col_2015[meta_col_2015['name'] == 'Zip Codes']"
   ]
  },
  {
   "cell_type": "code",
   "execution_count": 17,
   "metadata": {
    "id": "W2dDdipSLMzT",
    "outputId": "fe8d7060-097b-4195-beb7-03653d37f22e"
   },
   "outputs": [
    {
     "data": {
      "text/html": [
       "<div>\n",
       "<style scoped>\n",
       "    .dataframe tbody tr th:only-of-type {\n",
       "        vertical-align: middle;\n",
       "    }\n",
       "\n",
       "    .dataframe tbody tr th {\n",
       "        vertical-align: top;\n",
       "    }\n",
       "\n",
       "    .dataframe thead th {\n",
       "        text-align: right;\n",
       "    }\n",
       "</style>\n",
       "<table border=\"1\" class=\"dataframe\">\n",
       "  <thead>\n",
       "    <tr style=\"text-align: right;\">\n",
       "      <th></th>\n",
       "      <th>ZipCode</th>\n",
       "      <th>OSEBuildingID</th>\n",
       "    </tr>\n",
       "  </thead>\n",
       "  <tbody>\n",
       "    <tr>\n",
       "      <th>0</th>\n",
       "      <td>98101.0</td>\n",
       "      <td>1</td>\n",
       "    </tr>\n",
       "    <tr>\n",
       "      <th>1</th>\n",
       "      <td>98101.0</td>\n",
       "      <td>2</td>\n",
       "    </tr>\n",
       "    <tr>\n",
       "      <th>2</th>\n",
       "      <td>98101.0</td>\n",
       "      <td>3</td>\n",
       "    </tr>\n",
       "    <tr>\n",
       "      <th>3</th>\n",
       "      <td>98101.0</td>\n",
       "      <td>5</td>\n",
       "    </tr>\n",
       "    <tr>\n",
       "      <th>4</th>\n",
       "      <td>98121.0</td>\n",
       "      <td>8</td>\n",
       "    </tr>\n",
       "    <tr>\n",
       "      <th>...</th>\n",
       "      <td>...</td>\n",
       "      <td>...</td>\n",
       "    </tr>\n",
       "    <tr>\n",
       "      <th>3335</th>\n",
       "      <td>98115.0</td>\n",
       "      <td>50059</td>\n",
       "    </tr>\n",
       "    <tr>\n",
       "      <th>3336</th>\n",
       "      <td>98104.0</td>\n",
       "      <td>50061</td>\n",
       "    </tr>\n",
       "    <tr>\n",
       "      <th>3337</th>\n",
       "      <td>98103.0</td>\n",
       "      <td>50062</td>\n",
       "    </tr>\n",
       "    <tr>\n",
       "      <th>3338</th>\n",
       "      <td>98108.0</td>\n",
       "      <td>50068</td>\n",
       "    </tr>\n",
       "    <tr>\n",
       "      <th>3339</th>\n",
       "      <td>98108.0</td>\n",
       "      <td>50069</td>\n",
       "    </tr>\n",
       "  </tbody>\n",
       "</table>\n",
       "<p>3340 rows × 2 columns</p>\n",
       "</div>"
      ],
      "text/plain": [
       "      ZipCode  OSEBuildingID\n",
       "0     98101.0              1\n",
       "1     98101.0              2\n",
       "2     98101.0              3\n",
       "3     98101.0              5\n",
       "4     98121.0              8\n",
       "...       ...            ...\n",
       "3335  98115.0          50059\n",
       "3336  98104.0          50061\n",
       "3337  98103.0          50062\n",
       "3338  98108.0          50068\n",
       "3339  98108.0          50069\n",
       "\n",
       "[3340 rows x 2 columns]"
      ]
     },
     "execution_count": 17,
     "metadata": {},
     "output_type": "execute_result"
    }
   ],
   "source": [
    "df_2016.loc[:3339, ['ZipCode', 'OSEBuildingID']]"
   ]
  },
  {
   "cell_type": "code",
   "execution_count": null,
   "metadata": {},
   "outputs": [],
   "source": [
    "(2015) GHGEmissions(MetricTonsCO2e) // (2016) TotalGHGEmissions"
   ]
  },
  {
   "cell_type": "code",
   "execution_count": 73,
   "metadata": {},
   "outputs": [],
   "source": [
    "df_2015.rename(columns={'GHGEmissions(MetricTonsCO2e)' : 'TotalGHGEmissions'}\n",
    "              ,inplace=True)"
   ]
  },
  {
   "cell_type": "code",
   "execution_count": 74,
   "metadata": {},
   "outputs": [
    {
     "data": {
      "text/html": [
       "<div>\n",
       "<style scoped>\n",
       "    .dataframe tbody tr th:only-of-type {\n",
       "        vertical-align: middle;\n",
       "    }\n",
       "\n",
       "    .dataframe tbody tr th {\n",
       "        vertical-align: top;\n",
       "    }\n",
       "\n",
       "    .dataframe thead th {\n",
       "        text-align: right;\n",
       "    }\n",
       "</style>\n",
       "<table border=\"1\" class=\"dataframe\">\n",
       "  <thead>\n",
       "    <tr style=\"text-align: right;\">\n",
       "      <th></th>\n",
       "      <th>0</th>\n",
       "      <th>1</th>\n",
       "      <th>2</th>\n",
       "      <th>3</th>\n",
       "      <th>4</th>\n",
       "      <th>5</th>\n",
       "    </tr>\n",
       "  </thead>\n",
       "  <tbody>\n",
       "    <tr>\n",
       "      <th>0</th>\n",
       "      <td>47.61219025</td>\n",
       "      <td>-122.33799744</td>\n",
       "      <td>405 OLIVE WAY</td>\n",
       "      <td>Seattle</td>\n",
       "      <td>WA</td>\n",
       "      <td>98101</td>\n",
       "    </tr>\n",
       "    <tr>\n",
       "      <th>1</th>\n",
       "      <td>47.61310583</td>\n",
       "      <td>-122.33335756</td>\n",
       "      <td>724 PINE ST</td>\n",
       "      <td>Seattle</td>\n",
       "      <td>WA</td>\n",
       "      <td>98101</td>\n",
       "    </tr>\n",
       "    <tr>\n",
       "      <th>2</th>\n",
       "      <td>47.61334897</td>\n",
       "      <td>-122.33769944</td>\n",
       "      <td>1900 5TH AVE</td>\n",
       "      <td>Seattle</td>\n",
       "      <td>WA</td>\n",
       "      <td>98101</td>\n",
       "    </tr>\n",
       "  </tbody>\n",
       "</table>\n",
       "</div>"
      ],
      "text/plain": [
       "             0               1                2        3    4       5\n",
       "0  47.61219025   -122.33799744    405 OLIVE WAY  Seattle   WA   98101\n",
       "1  47.61310583   -122.33335756      724 PINE ST  Seattle   WA   98101\n",
       "2  47.61334897   -122.33769944     1900 5TH AVE  Seattle   WA   98101"
      ]
     },
     "execution_count": 74,
     "metadata": {},
     "output_type": "execute_result"
    }
   ],
   "source": [
    "# On sépare la variable location en différentes variables pour être cohérente au df 2016\n",
    "Adresse = df_2015['Location'].str.split(',',  expand= True)\n",
    "\n",
    "#On enlève les caractères inutiles sur nos nouvelles variables\n",
    "Adresse[0].replace(\"{'latitude': '\",\"\",regex=True,inplace=True)\n",
    "Adresse[0].replace(\"'\",\"\",regex=True,inplace=True)\n",
    "\n",
    "Adresse[1].replace(\"'longitude': '\",\"\",regex=True,inplace=True)\n",
    "Adresse[1].replace(\"'\",\"\",regex=True,inplace=True)\n",
    "\n",
    "Adresse[2].replace(\"'human_address':\",\"\",regex=True,inplace=True)\n",
    "Adresse[2].replace(\"'\",\"\",regex=True,inplace=True)\n",
    "Adresse[2].replace('{\"address\": \"','',regex=True,inplace=True)\n",
    "Adresse[2].replace('\"','',regex=True,inplace=True)\n",
    "\n",
    "\n",
    "Adresse[3].replace('\"','',regex=True,inplace=True)\n",
    "Adresse[3].replace('city: ','',regex=True,inplace=True)\n",
    "Adresse[3].replace(' ','',regex=True,inplace=True)\n",
    "Adresse[3] = Adresse[3].str.capitalize()\n",
    "\n",
    "Adresse[4].replace('\"state\": \"','',regex=True,inplace=True)\n",
    "Adresse[4].replace('\"','',regex=True,inplace=True)\n",
    "\n",
    "Adresse[5].replace('\"zip\": \"','',regex=True,inplace=True)\n",
    "Adresse[5].replace('\"}','',regex=True,inplace=True)\n",
    "Adresse[5].replace(\"'}\",'',regex=True,inplace=True)\n",
    "\n",
    "Adresse.head(3)"
   ]
  },
  {
   "cell_type": "code",
   "execution_count": 75,
   "metadata": {},
   "outputs": [
    {
     "name": "stdout",
     "output_type": "stream",
     "text": [
      "<class 'pandas.core.frame.DataFrame'>\n",
      "RangeIndex: 3340 entries, 0 to 3339\n",
      "Data columns (total 6 columns):\n",
      " #   Column  Non-Null Count  Dtype  \n",
      "---  ------  --------------  -----  \n",
      " 0   0       3340 non-null   float64\n",
      " 1   1       3340 non-null   float64\n",
      " 2   2       3340 non-null   object \n",
      " 3   3       3340 non-null   object \n",
      " 4   4       3340 non-null   object \n",
      " 5   5       3340 non-null   int64  \n",
      "dtypes: float64(2), int64(1), object(3)\n",
      "memory usage: 156.7+ KB\n"
     ]
    }
   ],
   "source": [
    "# Conversion des variables latitude, longitude et Zip Code en float 64\n",
    "Adresse[0] = pd.to_numeric(Adresse[0], errors='coerce')\n",
    "Adresse[1] = pd.to_numeric(Adresse[1], errors='coerce')\n",
    "Adresse[5] = pd.to_numeric(Adresse[5], errors='coerce')\n",
    "Adresse.info()"
   ]
  },
  {
   "cell_type": "code",
   "execution_count": 76,
   "metadata": {},
   "outputs": [
    {
     "data": {
      "text/html": [
       "<div>\n",
       "<style scoped>\n",
       "    .dataframe tbody tr th:only-of-type {\n",
       "        vertical-align: middle;\n",
       "    }\n",
       "\n",
       "    .dataframe tbody tr th {\n",
       "        vertical-align: top;\n",
       "    }\n",
       "\n",
       "    .dataframe thead th {\n",
       "        text-align: right;\n",
       "    }\n",
       "</style>\n",
       "<table border=\"1\" class=\"dataframe\">\n",
       "  <thead>\n",
       "    <tr style=\"text-align: right;\">\n",
       "      <th></th>\n",
       "      <th>OSEBuildingID</th>\n",
       "      <th>DataYear</th>\n",
       "      <th>BuildingType</th>\n",
       "      <th>PrimaryPropertyType</th>\n",
       "      <th>PropertyName</th>\n",
       "      <th>TaxParcelIdentificationNumber</th>\n",
       "      <th>CouncilDistrictCode</th>\n",
       "      <th>Neighborhood</th>\n",
       "      <th>YearBuilt</th>\n",
       "      <th>NumberofBuildings</th>\n",
       "      <th>...</th>\n",
       "      <th>Seattle Police Department Micro Community Policing Plan Areas</th>\n",
       "      <th>City Council Districts</th>\n",
       "      <th>SPD Beats</th>\n",
       "      <th>Zip Codes</th>\n",
       "      <th>Latitude</th>\n",
       "      <th>Longitude</th>\n",
       "      <th>Address</th>\n",
       "      <th>City</th>\n",
       "      <th>State</th>\n",
       "      <th>ZipCode</th>\n",
       "    </tr>\n",
       "  </thead>\n",
       "  <tbody>\n",
       "    <tr>\n",
       "      <th>0</th>\n",
       "      <td>1</td>\n",
       "      <td>2015</td>\n",
       "      <td>NonResidential</td>\n",
       "      <td>Hotel</td>\n",
       "      <td>MAYFLOWER PARK HOTEL</td>\n",
       "      <td>659000030</td>\n",
       "      <td>7</td>\n",
       "      <td>DOWNTOWN</td>\n",
       "      <td>1927</td>\n",
       "      <td>1</td>\n",
       "      <td>...</td>\n",
       "      <td>14.0</td>\n",
       "      <td>NaN</td>\n",
       "      <td>31.0</td>\n",
       "      <td>18081</td>\n",
       "      <td>47.61219</td>\n",
       "      <td>-122.337997</td>\n",
       "      <td>405 OLIVE WAY</td>\n",
       "      <td>Seattle</td>\n",
       "      <td>WA</td>\n",
       "      <td>98101</td>\n",
       "    </tr>\n",
       "  </tbody>\n",
       "</table>\n",
       "<p>1 rows × 52 columns</p>\n",
       "</div>"
      ],
      "text/plain": [
       "   OSEBuildingID  DataYear    BuildingType PrimaryPropertyType  \\\n",
       "0              1      2015  NonResidential               Hotel   \n",
       "\n",
       "           PropertyName TaxParcelIdentificationNumber  CouncilDistrictCode  \\\n",
       "0  MAYFLOWER PARK HOTEL                     659000030                    7   \n",
       "\n",
       "  Neighborhood  YearBuilt  NumberofBuildings  ...  \\\n",
       "0     DOWNTOWN       1927                  1  ...   \n",
       "\n",
       "   Seattle Police Department Micro Community Policing Plan Areas  \\\n",
       "0                                                           14.0   \n",
       "\n",
       "   City Council Districts  SPD Beats  Zip Codes  Latitude   Longitude  \\\n",
       "0                     NaN       31.0      18081  47.61219 -122.337997   \n",
       "\n",
       "           Address     City  State ZipCode  \n",
       "0    405 OLIVE WAY  Seattle     WA   98101  \n",
       "\n",
       "[1 rows x 52 columns]"
      ]
     },
     "execution_count": 76,
     "metadata": {},
     "output_type": "execute_result"
    }
   ],
   "source": [
    "#ON réintègre notre adresse séparée en plusieurs champs dans notre df_2015 et on renomme les variables de gaz a effet de serre\n",
    "df_2015['Latitude'] = Adresse[0]\n",
    "df_2015['Longitude'] = Adresse[1]\n",
    "df_2015['Address'] = Adresse[2]\n",
    "df_2015['City'] = Adresse[3]\n",
    "df_2015['State'] = Adresse[4]\n",
    "df_2015['ZipCode'] = Adresse[5]\n",
    "\n",
    "df_2015.drop(columns =[\"Location\"], inplace = True) \n",
    "\n",
    "df_2015.rename(columns={'GHGEmissions(MetricTonsCO2e)': 'TotalGHGEmissions', \\\n",
    "                        'GHGEmissionsIntensity(kgCO2e/ft2)': 'GHGEmissionsIntensity',\\\n",
    "                       'Comment':'Comments'}, inplace=True)\n",
    "df_2015.head(1)"
   ]
  },
  {
   "cell_type": "markdown",
   "metadata": {
    "id": "jEELrXuPLMzU"
   },
   "source": [
    "### 2.b Lignes - ID"
   ]
  },
  {
   "cell_type": "code",
   "execution_count": 18,
   "metadata": {
    "id": "lz3P1pQOLMzU"
   },
   "outputs": [],
   "source": [
    "ID_2015 = set(df_2015['OSEBuildingID'])\n",
    "ID_2016 = set(df_2016['OSEBuildingID'])"
   ]
  },
  {
   "cell_type": "code",
   "execution_count": 19,
   "metadata": {
    "id": "ErvQgh3kLMzU"
   },
   "outputs": [],
   "source": [
    "ID_inter = ID_2015.intersection(ID_2016) # Dans 2015 et 2016\n",
    "ID_only_2015 = ID_2015.difference(ID_2016) # Uniquement dans 2015\n",
    "ID_only_2016 = ID_2016.difference(ID_2015) # Uniquement dans 2016"
   ]
  },
  {
   "cell_type": "code",
   "execution_count": 20,
   "metadata": {
    "id": "zuq_rckMLMzU",
    "outputId": "1f69f259-2759-4a48-fb45-3981f5ccf22a"
   },
   "outputs": [
    {
     "data": {
      "text/plain": [
       "0    A unique identifier assigned to each property covered by the Seattle Benchmarking Ordinance for tracking and identification purposes.\n",
       "Name: description, dtype: object"
      ]
     },
     "execution_count": 20,
     "metadata": {},
     "output_type": "execute_result"
    }
   ],
   "source": [
    "meta_col_2015.loc[meta_col_2015['name'] == 'OSEBuildingID', 'description']"
   ]
  },
  {
   "cell_type": "code",
   "execution_count": 21,
   "metadata": {
    "id": "raEn0VGzLMzV",
    "outputId": "1a67e4aa-a1ba-4169-f401-87baa2da2f5e"
   },
   "outputs": [
    {
     "name": "stdout",
     "output_type": "stream",
     "text": [
      "Il y a 3284 ID présentes en 2015 et 2016\n",
      "Il y a 56 ID uniquement en 2015 et 92 ID uniquement en 2016.\n"
     ]
    }
   ],
   "source": [
    "print(f\"Il y a {len(ID_inter)} ID présentes en 2015 et 2016\\n\\\n",
    "Il y a {len(ID_only_2015)} ID uniquement en 2015 et {len(ID_only_2016)} ID uniquement en 2016.\")"
   ]
  },
  {
   "cell_type": "markdown",
   "metadata": {
    "id": "VUR8yjz4LMzV"
   },
   "source": [
    "## 3. COMPLÉTUDE"
   ]
  },
  {
   "cell_type": "code",
   "execution_count": 22,
   "metadata": {
    "id": "HeG9dgdeLMzV"
   },
   "outputs": [],
   "source": [
    "def show_values_on_bars(axs, vertical=True, space=0.4):\n",
    "    \"\"\"\n",
    "    Affiche les valeurs d'un barplot.\n",
    "    \"\"\"\n",
    "    def _show_on_single_plot(ax):\n",
    "        if vertical == True:\n",
    "            for p in ax.patches:\n",
    "                _x = p.get_x() + p.get_width() / 2\n",
    "                _y = p.get_y() + p.get_height() + space\n",
    "                value = int(p.get_height())\n",
    "                ax.text(_x, _y, value, ha=\"center\") \n",
    "        elif vertical == False:\n",
    "            for p in ax.patches:\n",
    "                _x = p.get_x() + p.get_width() + space\n",
    "                _y = p.get_y() + p.get_height() / 2\n",
    "                value = int(p.get_width())\n",
    "                ax.text(_x, _y, value, ha=\"left\")\n",
    "\n",
    "    if isinstance(axs, np.ndarray):\n",
    "        for idx, ax in np.ndenumerate(axs):\n",
    "            _show_on_single_plot(ax)\n",
    "    else:\n",
    "        _show_on_single_plot(axs)"
   ]
  },
  {
   "cell_type": "code",
   "execution_count": 23,
   "metadata": {
    "id": "WyW2dyhPLMzV"
   },
   "outputs": [],
   "source": [
    "def display_filling_of_col(df, line=0, color='#3556C8', figsize=(8, 5), show_values=False):\n",
    "    df_tmp = pd.DataFrame()\n",
    "    for col in df.columns:\n",
    "        df_tmp[col] = pd.Series(df[col].count())\n",
    "    x = list(df_tmp.T.sort_values(by=0, ascending=False)[0] / df.shape[0] * 100)\n",
    "    y = list(df_tmp.T.sort_values(by=0, ascending=False).index)\n",
    "    fig, ax = plt.subplots(figsize=figsize)\n",
    "    if line == 0:\n",
    "        sns.barplot(x=x, \n",
    "                    y=y,\n",
    "                   orient='h', color=color)\n",
    "    else:\n",
    "        sns.barplot(x=x[:line], \n",
    "                    y=y[:line],\n",
    "                   orient='h', color=color)\n",
    "    if show_values == True:\n",
    "        show_values_on_bars(ax, vertical=False)"
   ]
  },
  {
   "cell_type": "code",
   "execution_count": 24,
   "metadata": {
    "id": "uEfbQQK7LMzW"
   },
   "outputs": [],
   "source": [
    "def filling_rate(dataframe, name='Dataframe'):\n",
    "    \"\"\"Calcuates and displays the shape of the dataframe and the filling rate\"\"\"\n",
    "    \n",
    "    sns.set()\n",
    "    \n",
    "    nb_rows, nb_columns = dataframe.shape\n",
    "    nb_data = dataframe.count().sum()\n",
    "\n",
    "    filling_rate = nb_data / (nb_rows * nb_columns)\n",
    "    print(f\"The global filling rate of the {name} is : {filling_rate:.2%}\")\n",
    "      \n",
    "    frequencies = [filling_rate, 1 - filling_rate]\n",
    "    labels = [\"Filled data\", \"Missing data\"]\n",
    "    \n",
    "    fig, ax = plt.subplots(figsize=(5, 5))\n",
    "    plt.title(\"Filling of the DataFrame\", fontsize=25)\n",
    "    ax.axis(\"equal\")\n",
    "\n",
    "    ax.pie(frequencies,\n",
    "           autopct='%1.2f%%',\n",
    "           colors=['#6C5DD8', '#94E5E2']\n",
    "          )\n",
    "    plt.legend(labels)"
   ]
  },
  {
   "cell_type": "markdown",
   "metadata": {
    "id": "kNBhRhjTLMzW"
   },
   "source": [
    "### 3.a 2015"
   ]
  },
  {
   "cell_type": "code",
   "execution_count": 25,
   "metadata": {
    "id": "tCwxmBWFLMzX",
    "outputId": "a20c0ec7-d955-4adf-bbf0-fd253843213b"
   },
   "outputs": [
    {
     "name": "stdout",
     "output_type": "stream",
     "text": [
      "The global filling rate of the Dataframe is : 83.11%\n"
     ]
    },
    {
     "data": {
      "image/png": "[encoded data removed]",
      "text/plain": [
       "<Figure size 360x360 with 1 Axes>"
      ]
     },
     "metadata": {},
     "output_type": "display_data"
    }
   ],
   "source": [
    "filling_rate(df_2015)"
   ]
  },
  {
   "cell_type": "code",
   "execution_count": 26,
   "metadata": {
    "id": "rls7YoCrLMzX",
    "outputId": "c86cda79-aeed-41bb-a77c-56d01d6f63a8"
   },
   "outputs": [
    {
     "data": {
      "image/png": "[encoded data removed]",
      "text/plain": [
       "<Figure size 576x864 with 1 Axes>"
      ]
     },
     "metadata": {},
     "output_type": "display_data"
    }
   ],
   "source": [
    "display_filling_of_col(df_2015, show_values=True, figsize=(8, 12))"
   ]
  },
  {
   "cell_type": "markdown",
   "metadata": {
    "id": "NLtu0EdeLMzX"
   },
   "source": [
    "### 3.b 2016"
   ]
  },
  {
   "cell_type": "code",
   "execution_count": 27,
   "metadata": {
    "id": "NwobomQXLMzX",
    "outputId": "bbf50a30-1ef5-4893-9a9f-597b94d4b84c"
   },
   "outputs": [
    {
     "name": "stdout",
     "output_type": "stream",
     "text": [
      "The global filling rate of the Dataframe is : 87.15%\n"
     ]
    },
    {
     "data": {
      "image/png": "[encoded data removed]",
      "text/plain": [
       "<Figure size 360x360 with 1 Axes>"
      ]
     },
     "metadata": {},
     "output_type": "display_data"
    }
   ],
   "source": [
    "filling_rate(df_2016)"
   ]
  },
  {
   "cell_type": "code",
   "execution_count": 28,
   "metadata": {
    "id": "IGgcWvvfLMzY",
    "outputId": "e19f035f-6d8f-4e12-ba29-f548ecfa990d"
   },
   "outputs": [
    {
     "data": {
      "image/png": "[encoded data removed]",
      "text/plain": [
       "<Figure size 576x864 with 1 Axes>"
      ]
     },
     "metadata": {},
     "output_type": "display_data"
    }
   ],
   "source": [
    "display_filling_of_col(df_2016, show_values=True, figsize=(8, 12))"
   ]
  },
  {
   "cell_type": "markdown",
   "metadata": {
    "id": "ea1CEfyrLMzY"
   },
   "source": [
    "## 4. EXPLICATIONS DES VARIABLES"
   ]
  },
  {
   "cell_type": "code",
   "execution_count": 29,
   "metadata": {
    "id": "f9ZOwnTZLMzY",
    "outputId": "22697856-fe86-44a1-fc0c-06ffb5b8e3fe"
   },
   "outputs": [
    {
     "data": {
      "text/plain": [
       "({'BuildingType',\n",
       "  'ComplianceStatus',\n",
       "  'CouncilDistrictCode',\n",
       "  'DataYear',\n",
       "  'DefaultData',\n",
       "  'ENERGYSTARScore',\n",
       "  'Electricity(kBtu)',\n",
       "  'Electricity(kWh)',\n",
       "  'LargestPropertyUseType',\n",
       "  'LargestPropertyUseTypeGFA',\n",
       "  'ListOfAllPropertyUseTypes',\n",
       "  'NaturalGas(kBtu)',\n",
       "  'NaturalGas(therms)',\n",
       "  'Neighborhood',\n",
       "  'NumberofBuildings',\n",
       "  'NumberofFloors',\n",
       "  'OSEBuildingID',\n",
       "  'Outlier',\n",
       "  'PrimaryPropertyType',\n",
       "  'PropertyGFABuilding(s)',\n",
       "  'PropertyGFAParking',\n",
       "  'PropertyGFATotal',\n",
       "  'PropertyName',\n",
       "  'SecondLargestPropertyUseType',\n",
       "  'SecondLargestPropertyUseTypeGFA',\n",
       "  'SiteEUI(kBtu/sf)',\n",
       "  'SiteEUIWN(kBtu/sf)',\n",
       "  'SiteEnergyUse(kBtu)',\n",
       "  'SiteEnergyUseWN(kBtu)',\n",
       "  'SourceEUI(kBtu/sf)',\n",
       "  'SourceEUIWN(kBtu/sf)',\n",
       "  'SteamUse(kBtu)',\n",
       "  'TaxParcelIdentificationNumber',\n",
       "  'ThirdLargestPropertyUseType',\n",
       "  'ThirdLargestPropertyUseTypeGFA',\n",
       "  'YearBuilt',\n",
       "  'YearsENERGYSTARCertified'},\n",
       " {'2010 Census Tracts',\n",
       "  'City Council Districts',\n",
       "  'Comment',\n",
       "  'GHGEmissions(MetricTonsCO2e)',\n",
       "  'GHGEmissionsIntensity(kgCO2e/ft2)',\n",
       "  'Location',\n",
       "  'OtherFuelUse(kBtu)',\n",
       "  'SPD Beats',\n",
       "  'Seattle Police Department Micro Community Policing Plan Areas',\n",
       "  'Zip Codes'},\n",
       " {'Address',\n",
       "  'City',\n",
       "  'Comments',\n",
       "  'GHGEmissionsIntensity',\n",
       "  'Latitude',\n",
       "  'Longitude',\n",
       "  'State',\n",
       "  'TotalGHGEmissions',\n",
       "  'ZipCode'})"
      ]
     },
     "execution_count": 29,
     "metadata": {},
     "output_type": "execute_result"
    }
   ],
   "source": [
    "inter, only_2015, only_2016"
   ]
  },
  {
   "cell_type": "markdown",
   "metadata": {
    "id": "JQVfSFAELMzZ"
   },
   "source": [
    "**1. ENERGYSTARScore :  \n",
    "Note de 1 à 100 qui évalue la performance énergétique globale d'une propriété. Un score de 50 représente la médiane nationale.**"
   ]
  },
  {
   "cell_type": "code",
   "execution_count": 30,
   "metadata": {
    "id": "x9YM4agsLMzZ",
    "outputId": "36089ffa-4556-4cc5-865c-eccdacd6aa78"
   },
   "outputs": [
    {
     "data": {
      "text/html": [
       "<div>\n",
       "<style scoped>\n",
       "    .dataframe tbody tr th:only-of-type {\n",
       "        vertical-align: middle;\n",
       "    }\n",
       "\n",
       "    .dataframe tbody tr th {\n",
       "        vertical-align: top;\n",
       "    }\n",
       "\n",
       "    .dataframe thead th {\n",
       "        text-align: right;\n",
       "    }\n",
       "</style>\n",
       "<table border=\"1\" class=\"dataframe\">\n",
       "  <thead>\n",
       "    <tr style=\"text-align: right;\">\n",
       "      <th></th>\n",
       "      <th>id</th>\n",
       "      <th>name</th>\n",
       "      <th>dataTypeName</th>\n",
       "      <th>description</th>\n",
       "      <th>fieldName</th>\n",
       "      <th>position</th>\n",
       "      <th>renderTypeName</th>\n",
       "      <th>tableColumnId</th>\n",
       "      <th>width</th>\n",
       "      <th>cachedContents</th>\n",
       "      <th>format</th>\n",
       "      <th>computationStrategy</th>\n",
       "    </tr>\n",
       "  </thead>\n",
       "  <tbody>\n",
       "    <tr>\n",
       "      <th>23</th>\n",
       "      <td>350402322</td>\n",
       "      <td>ENERGYSTARScore</td>\n",
       "      <td>number</td>\n",
       "      <td>An EPA calculated 1-100 rating that assesses a property’s overall energy performance, based on national data to control for differences among climate, building uses, and operations. A score of 50 represents the national median.</td>\n",
       "      <td>energystarscore</td>\n",
       "      <td>28</td>\n",
       "      <td>number</td>\n",
       "      <td>46302845</td>\n",
       "      <td>280.0</td>\n",
       "      <td>{'largest': '100.00', 'non_null': 2560, 'average': '67.894140625', 'null': '780', 'top': [{'item': '100.00', 'count': '106'}, {'item': '95.00', 'count': '79'}, {'item': '94.00', 'count': '70'}, {'item': '97.00', 'count': '60'}, {'item': '99', 'count': '59'}, {'item': '93.00', 'count': '56'}, {'item': '81.00', 'count': '56'}, {'item': '98.00', 'count': '54'}, {'item': '89.00', 'count': '54'}, {'item': '86.00', 'count': '52'}, {'item': '85.00', 'count': '52'}, {'item': '91.00', 'count': '51'}, {'item': '92.00', 'count': '50'}, {'item': '88.00', 'count': '49'}, {'item': '83', 'count': '48'}, {'item': '84.00', 'count': '46'}, {'item': '77.00', 'count': '44'}, {'item': '90.00', 'count': '44'}, {'item': '79.00', 'count': '43'}, {'item': '1', 'count': '42'}], 'smallest': '1.00', 'not_null': '2560', 'sum': '173809.00', 'cardinality': '100'}</td>\n",
       "      <td>{'precisionStyle': 'standard', 'noCommas': 'false', 'align': 'right'}</td>\n",
       "      <td>NaN</td>\n",
       "    </tr>\n",
       "  </tbody>\n",
       "</table>\n",
       "</div>"
      ],
      "text/plain": [
       "           id             name dataTypeName  \\\n",
       "23  350402322  ENERGYSTARScore       number   \n",
       "\n",
       "                                                                                                                                                                                                                            description  \\\n",
       "23  An EPA calculated 1-100 rating that assesses a property’s overall energy performance, based on national data to control for differences among climate, building uses, and operations. A score of 50 represents the national median.   \n",
       "\n",
       "          fieldName  position renderTypeName  tableColumnId  width  \\\n",
       "23  energystarscore        28         number       46302845  280.0   \n",
       "\n",
       "                                                                                                                                                                                                                                                                                                                                                                                                                                                                                                                                                                                                                                                                                                                                                                                                                                                                  cachedContents  \\\n",
       "23  {'largest': '100.00', 'non_null': 2560, 'average': '67.894140625', 'null': '780', 'top': [{'item': '100.00', 'count': '106'}, {'item': '95.00', 'count': '79'}, {'item': '94.00', 'count': '70'}, {'item': '97.00', 'count': '60'}, {'item': '99', 'count': '59'}, {'item': '93.00', 'count': '56'}, {'item': '81.00', 'count': '56'}, {'item': '98.00', 'count': '54'}, {'item': '89.00', 'count': '54'}, {'item': '86.00', 'count': '52'}, {'item': '85.00', 'count': '52'}, {'item': '91.00', 'count': '51'}, {'item': '92.00', 'count': '50'}, {'item': '88.00', 'count': '49'}, {'item': '83', 'count': '48'}, {'item': '84.00', 'count': '46'}, {'item': '77.00', 'count': '44'}, {'item': '90.00', 'count': '44'}, {'item': '79.00', 'count': '43'}, {'item': '1', 'count': '42'}], 'smallest': '1.00', 'not_null': '2560', 'sum': '173809.00', 'cardinality': '100'}   \n",
       "\n",
       "                                                                   format  \\\n",
       "23  {'precisionStyle': 'standard', 'noCommas': 'false', 'align': 'right'}   \n",
       "\n",
       "   computationStrategy  \n",
       "23                 NaN  "
      ]
     },
     "execution_count": 30,
     "metadata": {},
     "output_type": "execute_result"
    }
   ],
   "source": [
    "meta_col_2015[meta_col_2015['name'] == 'ENERGYSTARScore']"
   ]
  },
  {
   "cell_type": "markdown",
   "metadata": {
    "id": "SysrRP__LMzZ"
   },
   "source": [
    "**2. Electricity(kBtu) :  \n",
    "La quantité annuelle d'électricité consommée par la propriété sur place, y compris l'électricité achetée au réseau et produite par des systèmes renouvelables sur place, mesurée en milliers d'unités thermiques britanniques (kBtu).**"
   ]
  },
  {
   "cell_type": "code",
   "execution_count": 31,
   "metadata": {
    "id": "MMkbV4dbLMza",
    "outputId": "d21a7cd7-fd0c-41db-a672-c68a2e4bdc74"
   },
   "outputs": [
    {
     "data": {
      "text/html": [
       "<div>\n",
       "<style scoped>\n",
       "    .dataframe tbody tr th:only-of-type {\n",
       "        vertical-align: middle;\n",
       "    }\n",
       "\n",
       "    .dataframe tbody tr th {\n",
       "        vertical-align: top;\n",
       "    }\n",
       "\n",
       "    .dataframe thead th {\n",
       "        text-align: right;\n",
       "    }\n",
       "</style>\n",
       "<table border=\"1\" class=\"dataframe\">\n",
       "  <thead>\n",
       "    <tr style=\"text-align: right;\">\n",
       "      <th></th>\n",
       "      <th>id</th>\n",
       "      <th>name</th>\n",
       "      <th>dataTypeName</th>\n",
       "      <th>description</th>\n",
       "      <th>fieldName</th>\n",
       "      <th>position</th>\n",
       "      <th>renderTypeName</th>\n",
       "      <th>tableColumnId</th>\n",
       "      <th>width</th>\n",
       "      <th>cachedContents</th>\n",
       "      <th>format</th>\n",
       "      <th>computationStrategy</th>\n",
       "    </tr>\n",
       "  </thead>\n",
       "  <tbody>\n",
       "    <tr>\n",
       "      <th>32</th>\n",
       "      <td>350402331</td>\n",
       "      <td>Electricity(kBtu)</td>\n",
       "      <td>number</td>\n",
       "      <td>\\t\\nThe annual amount of electricity consumed by the property on-site, including electricity purchased from the grid and generated by onsite renewable systems, measured in thousands of British thermal units (kBtu).</td>\n",
       "      <td>electricity_kbtu</td>\n",
       "      <td>37</td>\n",
       "      <td>number</td>\n",
       "      <td>46302854</td>\n",
       "      <td>304.0</td>\n",
       "      <td>{'largest': '284726322', 'non_null': 3330, 'average': '3473209.381081081', 'null': '10', 'top': [{'item': '0', 'count': '2'}, {'item': '6581', 'count': '1'}, {'item': '497152', 'count': '1'}, {'item': '11442', 'count': '1'}, {'item': '17150', 'count': '1'}, {'item': '24127', 'count': '1'}, {'item': '329910', 'count': '1'}, {'item': '39033', 'count': '1'}, {'item': '42652', 'count': '1'}, {'item': '43945', 'count': '1'}, {'item': '50897', 'count': '1'}, {'item': '53404', 'count': '1'}, {'item': '64880', 'count': '1'}, {'item': '68982', 'count': '1'}, {'item': '228142', 'count': '1'}, {'item': '74704', 'count': '1'}, {'item': '75200', 'count': '1'}, {'item': '75306', 'count': '1'}, {'item': '76078', 'count': '1'}, {'item': '84073', 'count': '1'}], 'smallest': '0', 'not_null': '3330', 'sum': '11565787239', 'cardinality': '3329'}</td>\n",
       "      <td>{'precisionStyle': 'standard', 'noCommas': 'false', 'align': 'right'}</td>\n",
       "      <td>NaN</td>\n",
       "    </tr>\n",
       "  </tbody>\n",
       "</table>\n",
       "</div>"
      ],
      "text/plain": [
       "           id               name dataTypeName  \\\n",
       "32  350402331  Electricity(kBtu)       number   \n",
       "\n",
       "                                                                                                                                                                                                               description  \\\n",
       "32  \\t\\nThe annual amount of electricity consumed by the property on-site, including electricity purchased from the grid and generated by onsite renewable systems, measured in thousands of British thermal units (kBtu).   \n",
       "\n",
       "           fieldName  position renderTypeName  tableColumnId  width  \\\n",
       "32  electricity_kbtu        37         number       46302854  304.0   \n",
       "\n",
       "                                                                                                                                                                                                                                                                                                                                                                                                                                                                                                                                                                                                                                                                                                                                                                                                                                                           cachedContents  \\\n",
       "32  {'largest': '284726322', 'non_null': 3330, 'average': '3473209.381081081', 'null': '10', 'top': [{'item': '0', 'count': '2'}, {'item': '6581', 'count': '1'}, {'item': '497152', 'count': '1'}, {'item': '11442', 'count': '1'}, {'item': '17150', 'count': '1'}, {'item': '24127', 'count': '1'}, {'item': '329910', 'count': '1'}, {'item': '39033', 'count': '1'}, {'item': '42652', 'count': '1'}, {'item': '43945', 'count': '1'}, {'item': '50897', 'count': '1'}, {'item': '53404', 'count': '1'}, {'item': '64880', 'count': '1'}, {'item': '68982', 'count': '1'}, {'item': '228142', 'count': '1'}, {'item': '74704', 'count': '1'}, {'item': '75200', 'count': '1'}, {'item': '75306', 'count': '1'}, {'item': '76078', 'count': '1'}, {'item': '84073', 'count': '1'}], 'smallest': '0', 'not_null': '3330', 'sum': '11565787239', 'cardinality': '3329'}   \n",
       "\n",
       "                                                                   format  \\\n",
       "32  {'precisionStyle': 'standard', 'noCommas': 'false', 'align': 'right'}   \n",
       "\n",
       "   computationStrategy  \n",
       "32                 NaN  "
      ]
     },
     "execution_count": 31,
     "metadata": {},
     "output_type": "execute_result"
    }
   ],
   "source": [
    "meta_col_2015[meta_col_2015['name'] == 'Electricity(kBtu)']"
   ]
  },
  {
   "cell_type": "markdown",
   "metadata": {
    "id": "lZAN2c0jLMza"
   },
   "source": [
    "**3. Electricity(kWh):  \n",
    "Electricity(kBtu) en kWh.**"
   ]
  },
  {
   "cell_type": "code",
   "execution_count": 32,
   "metadata": {
    "id": "cCScbqtbLMza",
    "outputId": "90f94a04-704c-4583-b150-661b944d07a2"
   },
   "outputs": [
    {
     "data": {
      "text/html": [
       "<div>\n",
       "<style scoped>\n",
       "    .dataframe tbody tr th:only-of-type {\n",
       "        vertical-align: middle;\n",
       "    }\n",
       "\n",
       "    .dataframe tbody tr th {\n",
       "        vertical-align: top;\n",
       "    }\n",
       "\n",
       "    .dataframe thead th {\n",
       "        text-align: right;\n",
       "    }\n",
       "</style>\n",
       "<table border=\"1\" class=\"dataframe\">\n",
       "  <thead>\n",
       "    <tr style=\"text-align: right;\">\n",
       "      <th></th>\n",
       "      <th>id</th>\n",
       "      <th>name</th>\n",
       "      <th>dataTypeName</th>\n",
       "      <th>description</th>\n",
       "      <th>fieldName</th>\n",
       "      <th>position</th>\n",
       "      <th>renderTypeName</th>\n",
       "      <th>tableColumnId</th>\n",
       "      <th>width</th>\n",
       "      <th>cachedContents</th>\n",
       "      <th>format</th>\n",
       "      <th>computationStrategy</th>\n",
       "    </tr>\n",
       "  </thead>\n",
       "  <tbody>\n",
       "    <tr>\n",
       "      <th>31</th>\n",
       "      <td>350402330</td>\n",
       "      <td>Electricity(kWh)</td>\n",
       "      <td>number</td>\n",
       "      <td>\\t\\nThe annual amount of electricity consumed by the property on-site, including electricity purchased from the grid and generated by onsite renewable systems, measured in kWh.</td>\n",
       "      <td>electricity_kwh</td>\n",
       "      <td>36</td>\n",
       "      <td>number</td>\n",
       "      <td>46302853</td>\n",
       "      <td>292.0</td>\n",
       "      <td>{'largest': '83445048', 'non_null': 3330, 'average': '1017897.224924925', 'null': '10', 'top': [{'item': '0', 'count': '2'}, {'item': '221628', 'count': '2'}, {'item': '340715', 'count': '2'}, {'item': '1929', 'count': '1'}, {'item': '5026', 'count': '1'}, {'item': '7071', 'count': '1'}, {'item': '3353', 'count': '1'}, {'item': '11440', 'count': '1'}, {'item': '12500', 'count': '1'}, {'item': '12879', 'count': '1'}, {'item': '14916', 'count': '1'}, {'item': '15651', 'count': '1'}, {'item': '19015', 'count': '1'}, {'item': '20217', 'count': '1'}, {'item': '21894', 'count': '1'}, {'item': '30438', 'count': '1'}, {'item': '22039', 'count': '1'}, {'item': '22070', 'count': '1'}, {'item': '22296', 'count': '1'}, {'item': '24639', 'count': '1'}], 'smallest': '0', 'not_null': '3330', 'sum': '3389597759', 'cardinality': '3327'}</td>\n",
       "      <td>{'precisionStyle': 'standard', 'noCommas': 'false', 'align': 'right'}</td>\n",
       "      <td>NaN</td>\n",
       "    </tr>\n",
       "  </tbody>\n",
       "</table>\n",
       "</div>"
      ],
      "text/plain": [
       "           id              name dataTypeName  \\\n",
       "31  350402330  Electricity(kWh)       number   \n",
       "\n",
       "                                                                                                                                                                         description  \\\n",
       "31  \\t\\nThe annual amount of electricity consumed by the property on-site, including electricity purchased from the grid and generated by onsite renewable systems, measured in kWh.   \n",
       "\n",
       "          fieldName  position renderTypeName  tableColumnId  width  \\\n",
       "31  electricity_kwh        36         number       46302853  292.0   \n",
       "\n",
       "                                                                                                                                                                                                                                                                                                                                                                                                                                                                                                                                                                                                                                                                                                                                                                                                                                                     cachedContents  \\\n",
       "31  {'largest': '83445048', 'non_null': 3330, 'average': '1017897.224924925', 'null': '10', 'top': [{'item': '0', 'count': '2'}, {'item': '221628', 'count': '2'}, {'item': '340715', 'count': '2'}, {'item': '1929', 'count': '1'}, {'item': '5026', 'count': '1'}, {'item': '7071', 'count': '1'}, {'item': '3353', 'count': '1'}, {'item': '11440', 'count': '1'}, {'item': '12500', 'count': '1'}, {'item': '12879', 'count': '1'}, {'item': '14916', 'count': '1'}, {'item': '15651', 'count': '1'}, {'item': '19015', 'count': '1'}, {'item': '20217', 'count': '1'}, {'item': '21894', 'count': '1'}, {'item': '30438', 'count': '1'}, {'item': '22039', 'count': '1'}, {'item': '22070', 'count': '1'}, {'item': '22296', 'count': '1'}, {'item': '24639', 'count': '1'}], 'smallest': '0', 'not_null': '3330', 'sum': '3389597759', 'cardinality': '3327'}   \n",
       "\n",
       "                                                                   format  \\\n",
       "31  {'precisionStyle': 'standard', 'noCommas': 'false', 'align': 'right'}   \n",
       "\n",
       "   computationStrategy  \n",
       "31                 NaN  "
      ]
     },
     "execution_count": 32,
     "metadata": {},
     "output_type": "execute_result"
    }
   ],
   "source": [
    "meta_col_2015[meta_col_2015['name'] == 'Electricity(kWh)']"
   ]
  },
  {
   "cell_type": "markdown",
   "metadata": {
    "id": "K8XkCIr4LMzb"
   },
   "source": [
    "**4. NaturalGas(therms) :\n",
    "La quantité annuelle de gaz naturel fourni par les services publics consommée par la propriété, mesurée en thermes.**"
   ]
  },
  {
   "cell_type": "code",
   "execution_count": 33,
   "metadata": {
    "id": "Qkd31EzTLMzb",
    "outputId": "53a31649-4a4b-4a4c-b48a-72cdcce4bf4c"
   },
   "outputs": [
    {
     "data": {
      "text/html": [
       "<div>\n",
       "<style scoped>\n",
       "    .dataframe tbody tr th:only-of-type {\n",
       "        vertical-align: middle;\n",
       "    }\n",
       "\n",
       "    .dataframe tbody tr th {\n",
       "        vertical-align: top;\n",
       "    }\n",
       "\n",
       "    .dataframe thead th {\n",
       "        text-align: right;\n",
       "    }\n",
       "</style>\n",
       "<table border=\"1\" class=\"dataframe\">\n",
       "  <thead>\n",
       "    <tr style=\"text-align: right;\">\n",
       "      <th></th>\n",
       "      <th>id</th>\n",
       "      <th>name</th>\n",
       "      <th>dataTypeName</th>\n",
       "      <th>description</th>\n",
       "      <th>fieldName</th>\n",
       "      <th>position</th>\n",
       "      <th>renderTypeName</th>\n",
       "      <th>tableColumnId</th>\n",
       "      <th>width</th>\n",
       "      <th>cachedContents</th>\n",
       "      <th>format</th>\n",
       "      <th>computationStrategy</th>\n",
       "    </tr>\n",
       "  </thead>\n",
       "  <tbody>\n",
       "    <tr>\n",
       "      <th>33</th>\n",
       "      <td>350402332</td>\n",
       "      <td>NaturalGas(therms)</td>\n",
       "      <td>number</td>\n",
       "      <td>The annual amount of utility-supplied natural gas consumed by the property, measured in therms.</td>\n",
       "      <td>naturalgas_therms</td>\n",
       "      <td>38</td>\n",
       "      <td>number</td>\n",
       "      <td>46302855</td>\n",
       "      <td>316.0</td>\n",
       "      <td>{'largest': '1364484', 'non_null': 3330, 'average': '12533.04474474474', 'null': '10', 'top': [{'item': '0', 'count': '1256'}, {'item': '7584', 'count': '3'}, {'item': '2', 'count': '3'}, {'item': '10', 'count': '3'}, {'item': '4789', 'count': '3'}, {'item': '865', 'count': '2'}, {'item': '8856', 'count': '2'}, {'item': '12923', 'count': '2'}, {'item': '3019', 'count': '2'}, {'item': '7426', 'count': '2'}, {'item': '3229', 'count': '2'}, {'item': '417', 'count': '2'}, {'item': '6819', 'count': '2'}, {'item': '6880', 'count': '2'}, {'item': '11794', 'count': '2'}, {'item': '5088', 'count': '2'}, {'item': '1092', 'count': '2'}, {'item': '3479', 'count': '2'}, {'item': '1', 'count': '2'}, {'item': '23334', 'count': '2'}], 'smallest': '0', 'not_null': '3330', 'sum': '41735039', 'cardinality': '1995'}</td>\n",
       "      <td>{'precisionStyle': 'standard', 'noCommas': 'false', 'align': 'right'}</td>\n",
       "      <td>NaN</td>\n",
       "    </tr>\n",
       "  </tbody>\n",
       "</table>\n",
       "</div>"
      ],
      "text/plain": [
       "           id                name dataTypeName  \\\n",
       "33  350402332  NaturalGas(therms)       number   \n",
       "\n",
       "                                                                                        description  \\\n",
       "33  The annual amount of utility-supplied natural gas consumed by the property, measured in therms.   \n",
       "\n",
       "            fieldName  position renderTypeName  tableColumnId  width  \\\n",
       "33  naturalgas_therms        38         number       46302855  316.0   \n",
       "\n",
       "                                                                                                                                                                                                                                                                                                                                                                                                                                                                                                                                                                                                                                                                                                                                                                                                                             cachedContents  \\\n",
       "33  {'largest': '1364484', 'non_null': 3330, 'average': '12533.04474474474', 'null': '10', 'top': [{'item': '0', 'count': '1256'}, {'item': '7584', 'count': '3'}, {'item': '2', 'count': '3'}, {'item': '10', 'count': '3'}, {'item': '4789', 'count': '3'}, {'item': '865', 'count': '2'}, {'item': '8856', 'count': '2'}, {'item': '12923', 'count': '2'}, {'item': '3019', 'count': '2'}, {'item': '7426', 'count': '2'}, {'item': '3229', 'count': '2'}, {'item': '417', 'count': '2'}, {'item': '6819', 'count': '2'}, {'item': '6880', 'count': '2'}, {'item': '11794', 'count': '2'}, {'item': '5088', 'count': '2'}, {'item': '1092', 'count': '2'}, {'item': '3479', 'count': '2'}, {'item': '1', 'count': '2'}, {'item': '23334', 'count': '2'}], 'smallest': '0', 'not_null': '3330', 'sum': '41735039', 'cardinality': '1995'}   \n",
       "\n",
       "                                                                   format  \\\n",
       "33  {'precisionStyle': 'standard', 'noCommas': 'false', 'align': 'right'}   \n",
       "\n",
       "   computationStrategy  \n",
       "33                 NaN  "
      ]
     },
     "execution_count": 33,
     "metadata": {},
     "output_type": "execute_result"
    }
   ],
   "source": [
    "meta_col_2015[meta_col_2015['name'] == 'NaturalGas(therms)']"
   ]
  },
  {
   "cell_type": "markdown",
   "metadata": {
    "id": "DnbhBkLDLMzb"
   },
   "source": [
    "**5. PropertyGFABuilding(s) :  \n",
    "Surface totale au sol en pieds carrés entre les surfaces extérieures des murs d’enceinte d’un bâtiment. Cela comprend toutes les zones à l'intérieur du ou des bâtiments, telles que l'espace des locataires, les espaces communs, les cages d'escalier, les sous-sols, le stockage, etc.**"
   ]
  },
  {
   "cell_type": "code",
   "execution_count": 34,
   "metadata": {
    "id": "-ONt3OwRLMzc",
    "outputId": "e042a4db-da06-48c2-c895-594d8e3f5a86"
   },
   "outputs": [
    {
     "data": {
      "text/html": [
       "<div>\n",
       "<style scoped>\n",
       "    .dataframe tbody tr th:only-of-type {\n",
       "        vertical-align: middle;\n",
       "    }\n",
       "\n",
       "    .dataframe tbody tr th {\n",
       "        vertical-align: top;\n",
       "    }\n",
       "\n",
       "    .dataframe thead th {\n",
       "        text-align: right;\n",
       "    }\n",
       "</style>\n",
       "<table border=\"1\" class=\"dataframe\">\n",
       "  <thead>\n",
       "    <tr style=\"text-align: right;\">\n",
       "      <th></th>\n",
       "      <th>id</th>\n",
       "      <th>name</th>\n",
       "      <th>dataTypeName</th>\n",
       "      <th>description</th>\n",
       "      <th>fieldName</th>\n",
       "      <th>position</th>\n",
       "      <th>renderTypeName</th>\n",
       "      <th>tableColumnId</th>\n",
       "      <th>width</th>\n",
       "      <th>cachedContents</th>\n",
       "      <th>format</th>\n",
       "      <th>computationStrategy</th>\n",
       "    </tr>\n",
       "  </thead>\n",
       "  <tbody>\n",
       "    <tr>\n",
       "      <th>14</th>\n",
       "      <td>350402313</td>\n",
       "      <td>PropertyGFABuilding(s)</td>\n",
       "      <td>number</td>\n",
       "      <td>Total floor space in square feet between the outside surfaces of a building’s enclosing walls. This includes all areas inside the building(s), such as tenant space, common areas, stairwells, basements, storage, etc.</td>\n",
       "      <td>propertygfabuilding_s</td>\n",
       "      <td>19</td>\n",
       "      <td>number</td>\n",
       "      <td>46302836</td>\n",
       "      <td>364.0</td>\n",
       "      <td>{'largest': '2200000', 'non_null': 3340, 'average': '79718.86047904192', 'null': '0', 'top': [{'item': '21600', 'count': '9'}, {'item': '25920', 'count': '8'}, {'item': '36000', 'count': '7'}, {'item': '28800', 'count': '7'}, {'item': '24000', 'count': '6'}, {'item': '30720', 'count': '4'}, {'item': '22320', 'count': '4'}, {'item': '23100', 'count': '3'}, {'item': '21200', 'count': '3'}, {'item': '22344', 'count': '3'}, {'item': '25200', 'count': '3'}, {'item': '30000', 'count': '3'}, {'item': '24288', 'count': '3'}, {'item': '33300', 'count': '3'}, {'item': '21900', 'count': '3'}, {'item': '30240', 'count': '3'}, {'item': '20000', 'count': '3'}, {'item': '25800', 'count': '3'}, {'item': '24100', 'count': '2'}, {'item': '40800', 'count': '2'}], 'smallest': '-50550', 'not_null': '3340', 'sum': '266260994', 'cardinality': '3145'}</td>\n",
       "      <td>{'precisionStyle': 'standard', 'noCommas': 'false', 'align': 'right'}</td>\n",
       "      <td>NaN</td>\n",
       "    </tr>\n",
       "  </tbody>\n",
       "</table>\n",
       "</div>"
      ],
      "text/plain": [
       "           id                    name dataTypeName  \\\n",
       "14  350402313  PropertyGFABuilding(s)       number   \n",
       "\n",
       "                                                                                                                                                                                                                description  \\\n",
       "14  Total floor space in square feet between the outside surfaces of a building’s enclosing walls. This includes all areas inside the building(s), such as tenant space, common areas, stairwells, basements, storage, etc.   \n",
       "\n",
       "                fieldName  position renderTypeName  tableColumnId  width  \\\n",
       "14  propertygfabuilding_s        19         number       46302836  364.0   \n",
       "\n",
       "                                                                                                                                                                                                                                                                                                                                                                                                                                                                                                                                                                                                                                                                                                                                                                                                                                                             cachedContents  \\\n",
       "14  {'largest': '2200000', 'non_null': 3340, 'average': '79718.86047904192', 'null': '0', 'top': [{'item': '21600', 'count': '9'}, {'item': '25920', 'count': '8'}, {'item': '36000', 'count': '7'}, {'item': '28800', 'count': '7'}, {'item': '24000', 'count': '6'}, {'item': '30720', 'count': '4'}, {'item': '22320', 'count': '4'}, {'item': '23100', 'count': '3'}, {'item': '21200', 'count': '3'}, {'item': '22344', 'count': '3'}, {'item': '25200', 'count': '3'}, {'item': '30000', 'count': '3'}, {'item': '24288', 'count': '3'}, {'item': '33300', 'count': '3'}, {'item': '21900', 'count': '3'}, {'item': '30240', 'count': '3'}, {'item': '20000', 'count': '3'}, {'item': '25800', 'count': '3'}, {'item': '24100', 'count': '2'}, {'item': '40800', 'count': '2'}], 'smallest': '-50550', 'not_null': '3340', 'sum': '266260994', 'cardinality': '3145'}   \n",
       "\n",
       "                                                                   format  \\\n",
       "14  {'precisionStyle': 'standard', 'noCommas': 'false', 'align': 'right'}   \n",
       "\n",
       "   computationStrategy  \n",
       "14                 NaN  "
      ]
     },
     "execution_count": 34,
     "metadata": {},
     "output_type": "execute_result"
    }
   ],
   "source": [
    "meta_col_2015[meta_col_2015['name'] == 'PropertyGFABuilding(s)']"
   ]
  },
  {
   "cell_type": "markdown",
   "metadata": {
    "id": "DuopneOvLMzc"
   },
   "source": [
    "**6. PropertyGFAParking :  \n",
    "Espace total en pieds carrés de tous les types de stationnement (entièrement clos, partiellement clos et ouvert).**"
   ]
  },
  {
   "cell_type": "code",
   "execution_count": 35,
   "metadata": {
    "id": "oMgbnXv5LMzc",
    "outputId": "f777cf4e-d8b1-4fb5-a216-070cd27f20f4"
   },
   "outputs": [
    {
     "data": {
      "text/html": [
       "<div>\n",
       "<style scoped>\n",
       "    .dataframe tbody tr th:only-of-type {\n",
       "        vertical-align: middle;\n",
       "    }\n",
       "\n",
       "    .dataframe tbody tr th {\n",
       "        vertical-align: top;\n",
       "    }\n",
       "\n",
       "    .dataframe thead th {\n",
       "        text-align: right;\n",
       "    }\n",
       "</style>\n",
       "<table border=\"1\" class=\"dataframe\">\n",
       "  <thead>\n",
       "    <tr style=\"text-align: right;\">\n",
       "      <th></th>\n",
       "      <th>id</th>\n",
       "      <th>name</th>\n",
       "      <th>dataTypeName</th>\n",
       "      <th>description</th>\n",
       "      <th>fieldName</th>\n",
       "      <th>position</th>\n",
       "      <th>renderTypeName</th>\n",
       "      <th>tableColumnId</th>\n",
       "      <th>width</th>\n",
       "      <th>cachedContents</th>\n",
       "      <th>format</th>\n",
       "      <th>computationStrategy</th>\n",
       "    </tr>\n",
       "  </thead>\n",
       "  <tbody>\n",
       "    <tr>\n",
       "      <th>13</th>\n",
       "      <td>350402312</td>\n",
       "      <td>PropertyGFAParking</td>\n",
       "      <td>number</td>\n",
       "      <td>Total space in square feet of all types of parking (Fully Enclosed, Partially Enclosed, and Open).</td>\n",
       "      <td>propertygfaparking</td>\n",
       "      <td>18</td>\n",
       "      <td>number</td>\n",
       "      <td>46302835</td>\n",
       "      <td>316.0</td>\n",
       "      <td>{'largest': '512608', 'non_null': 3340, 'average': '11054.03233532934', 'null': '0', 'top': [{'item': '0', 'count': '2416'}, {'item': '25920', 'count': '3'}, {'item': '13320', 'count': '3'}, {'item': '12960', 'count': '2'}, {'item': '10800', 'count': '2'}, {'item': '6034', 'count': '2'}, {'item': '20416', 'count': '2'}, {'item': '30000', 'count': '2'}, {'item': '25800', 'count': '2'}, {'item': '22000', 'count': '2'}, {'item': '11544', 'count': '2'}, {'item': '100176', 'count': '2'}, {'item': '3000', 'count': '2'}, {'item': '24000', 'count': '2'}, {'item': '12044', 'count': '2'}, {'item': '6300', 'count': '2'}, {'item': '1496', 'count': '1'}, {'item': '1559', 'count': '1'}, {'item': '1730', 'count': '1'}, {'item': '1774', 'count': '1'}], 'smallest': '-3', 'not_null': '3340', 'sum': '36920468', 'cardinality': '908'}</td>\n",
       "      <td>{'precisionStyle': 'standard', 'noCommas': 'false', 'align': 'right'}</td>\n",
       "      <td>NaN</td>\n",
       "    </tr>\n",
       "  </tbody>\n",
       "</table>\n",
       "</div>"
      ],
      "text/plain": [
       "           id                name dataTypeName  \\\n",
       "13  350402312  PropertyGFAParking       number   \n",
       "\n",
       "                                                                                           description  \\\n",
       "13  Total space in square feet of all types of parking (Fully Enclosed, Partially Enclosed, and Open).   \n",
       "\n",
       "             fieldName  position renderTypeName  tableColumnId  width  \\\n",
       "13  propertygfaparking        18         number       46302835  316.0   \n",
       "\n",
       "                                                                                                                                                                                                                                                                                                                                                                                                                                                                                                                                                                                                                                                                                                                                                                                                                                               cachedContents  \\\n",
       "13  {'largest': '512608', 'non_null': 3340, 'average': '11054.03233532934', 'null': '0', 'top': [{'item': '0', 'count': '2416'}, {'item': '25920', 'count': '3'}, {'item': '13320', 'count': '3'}, {'item': '12960', 'count': '2'}, {'item': '10800', 'count': '2'}, {'item': '6034', 'count': '2'}, {'item': '20416', 'count': '2'}, {'item': '30000', 'count': '2'}, {'item': '25800', 'count': '2'}, {'item': '22000', 'count': '2'}, {'item': '11544', 'count': '2'}, {'item': '100176', 'count': '2'}, {'item': '3000', 'count': '2'}, {'item': '24000', 'count': '2'}, {'item': '12044', 'count': '2'}, {'item': '6300', 'count': '2'}, {'item': '1496', 'count': '1'}, {'item': '1559', 'count': '1'}, {'item': '1730', 'count': '1'}, {'item': '1774', 'count': '1'}], 'smallest': '-3', 'not_null': '3340', 'sum': '36920468', 'cardinality': '908'}   \n",
       "\n",
       "                                                                   format  \\\n",
       "13  {'precisionStyle': 'standard', 'noCommas': 'false', 'align': 'right'}   \n",
       "\n",
       "   computationStrategy  \n",
       "13                 NaN  "
      ]
     },
     "execution_count": 35,
     "metadata": {},
     "output_type": "execute_result"
    }
   ],
   "source": [
    "meta_col_2015[meta_col_2015['name'] == 'PropertyGFAParking']"
   ]
  },
  {
   "cell_type": "markdown",
   "metadata": {
    "id": "c8NkpAnELMzc"
   },
   "source": [
    "**7. SiteEUI(kBtu/sf) :  \n",
    "L'intensité énergétique du site (IUE) est la consommation énergétique du site d'un établissement divisée par sa surface de plancher brute. La consommation d'énergie du site est la quantité annuelle de toute l'énergie consommée par la propriété sur place, comme indiqué sur les factures de services publics. L'IUE du site est mesurée en milliers d'unités thermiques britanniques (kBtu) par pied carré.**"
   ]
  },
  {
   "cell_type": "code",
   "execution_count": 36,
   "metadata": {
    "id": "wUhx-EVwLMzc",
    "outputId": "871f3bab-15df-4f20-b5bd-0f61ea7558d6"
   },
   "outputs": [
    {
     "data": {
      "text/html": [
       "<div>\n",
       "<style scoped>\n",
       "    .dataframe tbody tr th:only-of-type {\n",
       "        vertical-align: middle;\n",
       "    }\n",
       "\n",
       "    .dataframe tbody tr th {\n",
       "        vertical-align: top;\n",
       "    }\n",
       "\n",
       "    .dataframe thead th {\n",
       "        text-align: right;\n",
       "    }\n",
       "</style>\n",
       "<table border=\"1\" class=\"dataframe\">\n",
       "  <thead>\n",
       "    <tr style=\"text-align: right;\">\n",
       "      <th></th>\n",
       "      <th>id</th>\n",
       "      <th>name</th>\n",
       "      <th>dataTypeName</th>\n",
       "      <th>description</th>\n",
       "      <th>fieldName</th>\n",
       "      <th>position</th>\n",
       "      <th>renderTypeName</th>\n",
       "      <th>tableColumnId</th>\n",
       "      <th>width</th>\n",
       "      <th>cachedContents</th>\n",
       "      <th>format</th>\n",
       "      <th>computationStrategy</th>\n",
       "    </tr>\n",
       "  </thead>\n",
       "  <tbody>\n",
       "    <tr>\n",
       "      <th>24</th>\n",
       "      <td>350402323</td>\n",
       "      <td>SiteEUI(kBtu/sf)</td>\n",
       "      <td>number</td>\n",
       "      <td>Site Energy Use Intensity (EUI) is a property's Site Energy Use divided by its gross floor area. Site Energy Use is the annual amount of all the energy consumed by the property on-site, as reported on utility bills. Site EUI is measured in thousands of British thermal units (kBtu) per square foot.</td>\n",
       "      <td>siteeui_kbtu_sf</td>\n",
       "      <td>29</td>\n",
       "      <td>number</td>\n",
       "      <td>46302846</td>\n",
       "      <td>292.0</td>\n",
       "      <td>{'largest': '800.60', 'non_null': 3330, 'average': '53.62612612612613', 'null': '10', 'top': [{'item': '27.20', 'count': '18'}, {'item': '28.50', 'count': '16'}, {'item': '29.30', 'count': '16'}, {'item': '29.60', 'count': '16'}, {'item': '24.70', 'count': '15'}, {'item': '29.80', 'count': '15'}, {'item': '27.90', 'count': '15'}, {'item': '30.40', 'count': '14'}, {'item': '28.90', 'count': '14'}, {'item': '27.80', 'count': '13'}, {'item': '26.80', 'count': '13'}, {'item': '26.30', 'count': '13'}, {'item': '31.40', 'count': '12'}, {'item': '27.00', 'count': '12'}, {'item': '31.00', 'count': '12'}, {'item': '37.30', 'count': '12'}, {'item': '32.40', 'count': '12'}, {'item': '26.00', 'count': '12'}, {'item': '25.30', 'count': '12'}, {'item': '25.10', 'count': '12'}], 'smallest': '0.00', 'not_null': '3330', 'sum': '178575.00', 'cardinality': '1072'}</td>\n",
       "      <td>{'precisionStyle': 'standard', 'noCommas': 'false', 'align': 'right'}</td>\n",
       "      <td>NaN</td>\n",
       "    </tr>\n",
       "  </tbody>\n",
       "</table>\n",
       "</div>"
      ],
      "text/plain": [
       "           id              name dataTypeName  \\\n",
       "24  350402323  SiteEUI(kBtu/sf)       number   \n",
       "\n",
       "                                                                                                                                                                                                                                                                                                   description  \\\n",
       "24  Site Energy Use Intensity (EUI) is a property's Site Energy Use divided by its gross floor area. Site Energy Use is the annual amount of all the energy consumed by the property on-site, as reported on utility bills. Site EUI is measured in thousands of British thermal units (kBtu) per square foot.   \n",
       "\n",
       "          fieldName  position renderTypeName  tableColumnId  width  \\\n",
       "24  siteeui_kbtu_sf        29         number       46302846  292.0   \n",
       "\n",
       "                                                                                                                                                                                                                                                                                                                                                                                                                                                                                                                                                                                                                                                                                                                                                                                                                                                                               cachedContents  \\\n",
       "24  {'largest': '800.60', 'non_null': 3330, 'average': '53.62612612612613', 'null': '10', 'top': [{'item': '27.20', 'count': '18'}, {'item': '28.50', 'count': '16'}, {'item': '29.30', 'count': '16'}, {'item': '29.60', 'count': '16'}, {'item': '24.70', 'count': '15'}, {'item': '29.80', 'count': '15'}, {'item': '27.90', 'count': '15'}, {'item': '30.40', 'count': '14'}, {'item': '28.90', 'count': '14'}, {'item': '27.80', 'count': '13'}, {'item': '26.80', 'count': '13'}, {'item': '26.30', 'count': '13'}, {'item': '31.40', 'count': '12'}, {'item': '27.00', 'count': '12'}, {'item': '31.00', 'count': '12'}, {'item': '37.30', 'count': '12'}, {'item': '32.40', 'count': '12'}, {'item': '26.00', 'count': '12'}, {'item': '25.30', 'count': '12'}, {'item': '25.10', 'count': '12'}], 'smallest': '0.00', 'not_null': '3330', 'sum': '178575.00', 'cardinality': '1072'}   \n",
       "\n",
       "                                                                   format  \\\n",
       "24  {'precisionStyle': 'standard', 'noCommas': 'false', 'align': 'right'}   \n",
       "\n",
       "   computationStrategy  \n",
       "24                 NaN  "
      ]
     },
     "execution_count": 36,
     "metadata": {},
     "output_type": "execute_result"
    }
   ],
   "source": [
    "meta_col_2015[meta_col_2015['name'] == 'SiteEUI(kBtu/sf)']"
   ]
  },
  {
   "cell_type": "markdown",
   "metadata": {
    "id": "x_ZNQWEYLMzd"
   },
   "source": [
    "**8. SiteEUIWN(kBtu/sf) :  \n",
    "L'intensité d'utilisation de l'énergie du site normalisée selon les conditions météorologiques (WN) correspond à l'énergie du site WN d'une propriété divisée par sa surface de plancher brute (en pieds carrés). L'énergie du site WN est la consommation d'énergie du site que la propriété aurait consommée pendant 30 ans dans des conditions météorologiques moyennes. WN Site EUI est mesuré en mesuré en milliers d'unités thermiques britanniques (kBtu) par pied carré.**"
   ]
  },
  {
   "cell_type": "code",
   "execution_count": 37,
   "metadata": {
    "id": "zjw1I3_wLMzd",
    "outputId": "c50df3dc-8185-4898-a929-ec3873b8a037"
   },
   "outputs": [
    {
     "data": {
      "text/html": [
       "<div>\n",
       "<style scoped>\n",
       "    .dataframe tbody tr th:only-of-type {\n",
       "        vertical-align: middle;\n",
       "    }\n",
       "\n",
       "    .dataframe tbody tr th {\n",
       "        vertical-align: top;\n",
       "    }\n",
       "\n",
       "    .dataframe thead th {\n",
       "        text-align: right;\n",
       "    }\n",
       "</style>\n",
       "<table border=\"1\" class=\"dataframe\">\n",
       "  <thead>\n",
       "    <tr style=\"text-align: right;\">\n",
       "      <th></th>\n",
       "      <th>id</th>\n",
       "      <th>name</th>\n",
       "      <th>dataTypeName</th>\n",
       "      <th>description</th>\n",
       "      <th>fieldName</th>\n",
       "      <th>position</th>\n",
       "      <th>renderTypeName</th>\n",
       "      <th>tableColumnId</th>\n",
       "      <th>width</th>\n",
       "      <th>cachedContents</th>\n",
       "      <th>format</th>\n",
       "      <th>computationStrategy</th>\n",
       "    </tr>\n",
       "  </thead>\n",
       "  <tbody>\n",
       "    <tr>\n",
       "      <th>25</th>\n",
       "      <td>350402324</td>\n",
       "      <td>SiteEUIWN(kBtu/sf)</td>\n",
       "      <td>number</td>\n",
       "      <td>\\t\\nWeather Normalized (WN) Site Energy Use Intensity (EUI) is a property's WN Site Energy divided by its gross floor area (in square feet). WN Site Energy is the Site Energy Use the property would have consumed during 30-year average weather conditions. WN Site EUI is measured in measured in thousands of British thermal units (kBtu) per square foot.</td>\n",
       "      <td>siteeuiwn_kbtu_sf</td>\n",
       "      <td>30</td>\n",
       "      <td>number</td>\n",
       "      <td>46302847</td>\n",
       "      <td>316.0</td>\n",
       "      <td>{'largest': '800.60', 'non_null': 3330, 'average': '57.58654654654655', 'null': '10', 'top': [{'item': '29.60', 'count': '15'}, {'item': '29.70', 'count': '15'}, {'item': '25.00', 'count': '14'}, {'item': '32.30', 'count': '14'}, {'item': '26.50', 'count': '14'}, {'item': '29.80', 'count': '14'}, {'item': '30.50', 'count': '14'}, {'item': '30.60', 'count': '13'}, {'item': '35.90', 'count': '13'}, {'item': '29.30', 'count': '13'}, {'item': '32.70', 'count': '13'}, {'item': '28.30', 'count': '12'}, {'item': '39.30', 'count': '12'}, {'item': '33.00', 'count': '12'}, {'item': '31.40', 'count': '12'}, {'item': '30.40', 'count': '12'}, {'item': '29.00', 'count': '12'}, {'item': '0.00', 'count': '12'}, {'item': '27.20', 'count': '12'}, {'item': '26.00', 'count': '12'}], 'smallest': '0.00', 'not_null': '3330', 'sum': '191763.20', 'cardinality': '1115'}</td>\n",
       "      <td>{'precisionStyle': 'standard', 'noCommas': 'false', 'align': 'right'}</td>\n",
       "      <td>NaN</td>\n",
       "    </tr>\n",
       "  </tbody>\n",
       "</table>\n",
       "</div>"
      ],
      "text/plain": [
       "           id                name dataTypeName  \\\n",
       "25  350402324  SiteEUIWN(kBtu/sf)       number   \n",
       "\n",
       "                                                                                                                                                                                                                                                                                                                                                         description  \\\n",
       "25  \\t\\nWeather Normalized (WN) Site Energy Use Intensity (EUI) is a property's WN Site Energy divided by its gross floor area (in square feet). WN Site Energy is the Site Energy Use the property would have consumed during 30-year average weather conditions. WN Site EUI is measured in measured in thousands of British thermal units (kBtu) per square foot.   \n",
       "\n",
       "            fieldName  position renderTypeName  tableColumnId  width  \\\n",
       "25  siteeuiwn_kbtu_sf        30         number       46302847  316.0   \n",
       "\n",
       "                                                                                                                                                                                                                                                                                                                                                                                                                                                                                                                                                                                                                                                                                                                                                                                                                                                                              cachedContents  \\\n",
       "25  {'largest': '800.60', 'non_null': 3330, 'average': '57.58654654654655', 'null': '10', 'top': [{'item': '29.60', 'count': '15'}, {'item': '29.70', 'count': '15'}, {'item': '25.00', 'count': '14'}, {'item': '32.30', 'count': '14'}, {'item': '26.50', 'count': '14'}, {'item': '29.80', 'count': '14'}, {'item': '30.50', 'count': '14'}, {'item': '30.60', 'count': '13'}, {'item': '35.90', 'count': '13'}, {'item': '29.30', 'count': '13'}, {'item': '32.70', 'count': '13'}, {'item': '28.30', 'count': '12'}, {'item': '39.30', 'count': '12'}, {'item': '33.00', 'count': '12'}, {'item': '31.40', 'count': '12'}, {'item': '30.40', 'count': '12'}, {'item': '29.00', 'count': '12'}, {'item': '0.00', 'count': '12'}, {'item': '27.20', 'count': '12'}, {'item': '26.00', 'count': '12'}], 'smallest': '0.00', 'not_null': '3330', 'sum': '191763.20', 'cardinality': '1115'}   \n",
       "\n",
       "                                                                   format  \\\n",
       "25  {'precisionStyle': 'standard', 'noCommas': 'false', 'align': 'right'}   \n",
       "\n",
       "   computationStrategy  \n",
       "25                 NaN  "
      ]
     },
     "execution_count": 37,
     "metadata": {},
     "output_type": "execute_result"
    }
   ],
   "source": [
    "meta_col_2015[meta_col_2015['name'] == 'SiteEUIWN(kBtu/sf)']"
   ]
  },
  {
   "cell_type": "markdown",
   "metadata": {
    "id": "60_VugbkLMzd"
   },
   "source": [
    "**9. SiteEnergyUse(kBtu) :  \n",
    "La quantité annuelle d'énergie consommée par la propriété à partir de toutes les sources d'énergie.**"
   ]
  },
  {
   "cell_type": "code",
   "execution_count": 38,
   "metadata": {
    "id": "MK4oPYN6LMzd",
    "outputId": "f934be35-36e3-4bb0-dca7-8610534aee1f"
   },
   "outputs": [
    {
     "data": {
      "text/html": [
       "<div>\n",
       "<style scoped>\n",
       "    .dataframe tbody tr th:only-of-type {\n",
       "        vertical-align: middle;\n",
       "    }\n",
       "\n",
       "    .dataframe tbody tr th {\n",
       "        vertical-align: top;\n",
       "    }\n",
       "\n",
       "    .dataframe thead th {\n",
       "        text-align: right;\n",
       "    }\n",
       "</style>\n",
       "<table border=\"1\" class=\"dataframe\">\n",
       "  <thead>\n",
       "    <tr style=\"text-align: right;\">\n",
       "      <th></th>\n",
       "      <th>id</th>\n",
       "      <th>name</th>\n",
       "      <th>dataTypeName</th>\n",
       "      <th>description</th>\n",
       "      <th>fieldName</th>\n",
       "      <th>position</th>\n",
       "      <th>renderTypeName</th>\n",
       "      <th>tableColumnId</th>\n",
       "      <th>width</th>\n",
       "      <th>cachedContents</th>\n",
       "      <th>format</th>\n",
       "      <th>computationStrategy</th>\n",
       "    </tr>\n",
       "  </thead>\n",
       "  <tbody>\n",
       "    <tr>\n",
       "      <th>28</th>\n",
       "      <td>350402327</td>\n",
       "      <td>SiteEnergyUse(kBtu)</td>\n",
       "      <td>number</td>\n",
       "      <td>\\t\\nThe annual amount of energy consumed by the property from all sources of energy.</td>\n",
       "      <td>siteenergyuse_kbtu</td>\n",
       "      <td>33</td>\n",
       "      <td>number</td>\n",
       "      <td>46302850</td>\n",
       "      <td>328.0</td>\n",
       "      <td>{'largest': '295812640', 'non_null': 3330, 'average': '4983106.046246246', 'null': '10', 'top': [{'item': '0', 'count': '2'}, {'item': '2074152', 'count': '2'}, {'item': '767213', 'count': '2'}, {'item': '784584', 'count': '2'}, {'item': '53401', 'count': '1'}, {'item': '56493', 'count': '1'}, {'item': '17150', 'count': '1'}, {'item': '93802', 'count': '1'}, {'item': '43943', 'count': '1'}, {'item': '93851', 'count': '1'}, {'item': '94186', 'count': '1'}, {'item': '95544', 'count': '1'}, {'item': '108795', 'count': '1'}, {'item': '109014', 'count': '1'}, {'item': '131810', 'count': '1'}, {'item': '91996', 'count': '1'}, {'item': '194839', 'count': '1'}, {'item': '132105', 'count': '1'}, {'item': '133880', 'count': '1'}, {'item': '142873', 'count': '1'}], 'smallest': '0', 'not_null': '3330', 'sum': '16593743134', 'cardinality': '3326'}</td>\n",
       "      <td>{'precisionStyle': 'standard', 'noCommas': 'false', 'align': 'right'}</td>\n",
       "      <td>NaN</td>\n",
       "    </tr>\n",
       "  </tbody>\n",
       "</table>\n",
       "</div>"
      ],
      "text/plain": [
       "           id                 name dataTypeName  \\\n",
       "28  350402327  SiteEnergyUse(kBtu)       number   \n",
       "\n",
       "                                                                             description  \\\n",
       "28  \\t\\nThe annual amount of energy consumed by the property from all sources of energy.   \n",
       "\n",
       "             fieldName  position renderTypeName  tableColumnId  width  \\\n",
       "28  siteenergyuse_kbtu        33         number       46302850  328.0   \n",
       "\n",
       "                                                                                                                                                                                                                                                                                                                                                                                                                                                                                                                                                                                                                                                                                                                                                                                                                                                                    cachedContents  \\\n",
       "28  {'largest': '295812640', 'non_null': 3330, 'average': '4983106.046246246', 'null': '10', 'top': [{'item': '0', 'count': '2'}, {'item': '2074152', 'count': '2'}, {'item': '767213', 'count': '2'}, {'item': '784584', 'count': '2'}, {'item': '53401', 'count': '1'}, {'item': '56493', 'count': '1'}, {'item': '17150', 'count': '1'}, {'item': '93802', 'count': '1'}, {'item': '43943', 'count': '1'}, {'item': '93851', 'count': '1'}, {'item': '94186', 'count': '1'}, {'item': '95544', 'count': '1'}, {'item': '108795', 'count': '1'}, {'item': '109014', 'count': '1'}, {'item': '131810', 'count': '1'}, {'item': '91996', 'count': '1'}, {'item': '194839', 'count': '1'}, {'item': '132105', 'count': '1'}, {'item': '133880', 'count': '1'}, {'item': '142873', 'count': '1'}], 'smallest': '0', 'not_null': '3330', 'sum': '16593743134', 'cardinality': '3326'}   \n",
       "\n",
       "                                                                   format  \\\n",
       "28  {'precisionStyle': 'standard', 'noCommas': 'false', 'align': 'right'}   \n",
       "\n",
       "   computationStrategy  \n",
       "28                 NaN  "
      ]
     },
     "execution_count": 38,
     "metadata": {},
     "output_type": "execute_result"
    }
   ],
   "source": [
    "meta_col_2015[meta_col_2015['name'] == 'SiteEnergyUse(kBtu)']"
   ]
  },
  {
   "cell_type": "markdown",
   "metadata": {
    "id": "AKf5T-i9LMze"
   },
   "source": [
    "**10. SourceEUI(kBtu/sf) :  \n",
    "L'intensité d'utilisation de l'énergie à la source (IUE) est la consommation d'énergie à la source d'une propriété divisée par sa surface de plancher brute. La consommation d'énergie à la source est l'énergie annuelle utilisée pour faire fonctionner la propriété, y compris les pertes liées à la production, au transport et à la distribution. La source EUI est mesurée en milliers d'unités thermiques britanniques (kBtu) par pied carré.**"
   ]
  },
  {
   "cell_type": "code",
   "execution_count": 39,
   "metadata": {
    "id": "UfBpgKkrLMze",
    "outputId": "a6fe4c6c-a423-4ec8-fb1f-233cba0a10e2"
   },
   "outputs": [
    {
     "data": {
      "text/html": [
       "<div>\n",
       "<style scoped>\n",
       "    .dataframe tbody tr th:only-of-type {\n",
       "        vertical-align: middle;\n",
       "    }\n",
       "\n",
       "    .dataframe tbody tr th {\n",
       "        vertical-align: top;\n",
       "    }\n",
       "\n",
       "    .dataframe thead th {\n",
       "        text-align: right;\n",
       "    }\n",
       "</style>\n",
       "<table border=\"1\" class=\"dataframe\">\n",
       "  <thead>\n",
       "    <tr style=\"text-align: right;\">\n",
       "      <th></th>\n",
       "      <th>id</th>\n",
       "      <th>name</th>\n",
       "      <th>dataTypeName</th>\n",
       "      <th>description</th>\n",
       "      <th>fieldName</th>\n",
       "      <th>position</th>\n",
       "      <th>renderTypeName</th>\n",
       "      <th>tableColumnId</th>\n",
       "      <th>width</th>\n",
       "      <th>cachedContents</th>\n",
       "      <th>format</th>\n",
       "      <th>computationStrategy</th>\n",
       "    </tr>\n",
       "  </thead>\n",
       "  <tbody>\n",
       "    <tr>\n",
       "      <th>26</th>\n",
       "      <td>350402325</td>\n",
       "      <td>SourceEUI(kBtu/sf)</td>\n",
       "      <td>number</td>\n",
       "      <td>Source Energy Use Intensity (EUI) is a property's Source Energy Use divided by its gross floor area. Source Energy Use is the annual energy used to operate the property, including losses from generation, transmission, &amp; distribution. Source EUI is measured in thousands of British thermal units (kBtu) per square foot.</td>\n",
       "      <td>sourceeui_kbtu_sf</td>\n",
       "      <td>31</td>\n",
       "      <td>number</td>\n",
       "      <td>46302848</td>\n",
       "      <td>316.0</td>\n",
       "      <td>{'largest': '2511.10', 'non_null': 3330, 'average': '132.7797297297297', 'null': '10', 'top': [{'item': '65.70', 'count': '9'}, {'item': '81.30', 'count': '9'}, {'item': '78.40', 'count': '9'}, {'item': '68.40', 'count': '9'}, {'item': '78.60', 'count': '9'}, {'item': '74.70', 'count': '8'}, {'item': '100.10', 'count': '8'}, {'item': '83.60', 'count': '8'}, {'item': '81.40', 'count': '8'}, {'item': '93.00', 'count': '8'}, {'item': '75.20', 'count': '8'}, {'item': '69.40', 'count': '8'}, {'item': '69.50', 'count': '7'}, {'item': '105.20', 'count': '7'}, {'item': '85.60', 'count': '7'}, {'item': '79.10', 'count': '7'}, {'item': '85.40', 'count': '7'}, {'item': '94.10', 'count': '7'}, {'item': '66.60', 'count': '7'}, {'item': '84.70', 'count': '7'}], 'smallest': '-2.00', 'not_null': '3330', 'sum': '442156.50', 'cardinality': '1673'}</td>\n",
       "      <td>{'precisionStyle': 'standard', 'noCommas': 'false', 'align': 'right'}</td>\n",
       "      <td>NaN</td>\n",
       "    </tr>\n",
       "  </tbody>\n",
       "</table>\n",
       "</div>"
      ],
      "text/plain": [
       "           id                name dataTypeName  \\\n",
       "26  350402325  SourceEUI(kBtu/sf)       number   \n",
       "\n",
       "                                                                                                                                                                                                                                                                                                                       description  \\\n",
       "26  Source Energy Use Intensity (EUI) is a property's Source Energy Use divided by its gross floor area. Source Energy Use is the annual energy used to operate the property, including losses from generation, transmission, & distribution. Source EUI is measured in thousands of British thermal units (kBtu) per square foot.   \n",
       "\n",
       "            fieldName  position renderTypeName  tableColumnId  width  \\\n",
       "26  sourceeui_kbtu_sf        31         number       46302848  316.0   \n",
       "\n",
       "                                                                                                                                                                                                                                                                                                                                                                                                                                                                                                                                                                                                                                                                                                                                                                                                                                                               cachedContents  \\\n",
       "26  {'largest': '2511.10', 'non_null': 3330, 'average': '132.7797297297297', 'null': '10', 'top': [{'item': '65.70', 'count': '9'}, {'item': '81.30', 'count': '9'}, {'item': '78.40', 'count': '9'}, {'item': '68.40', 'count': '9'}, {'item': '78.60', 'count': '9'}, {'item': '74.70', 'count': '8'}, {'item': '100.10', 'count': '8'}, {'item': '83.60', 'count': '8'}, {'item': '81.40', 'count': '8'}, {'item': '93.00', 'count': '8'}, {'item': '75.20', 'count': '8'}, {'item': '69.40', 'count': '8'}, {'item': '69.50', 'count': '7'}, {'item': '105.20', 'count': '7'}, {'item': '85.60', 'count': '7'}, {'item': '79.10', 'count': '7'}, {'item': '85.40', 'count': '7'}, {'item': '94.10', 'count': '7'}, {'item': '66.60', 'count': '7'}, {'item': '84.70', 'count': '7'}], 'smallest': '-2.00', 'not_null': '3330', 'sum': '442156.50', 'cardinality': '1673'}   \n",
       "\n",
       "                                                                   format  \\\n",
       "26  {'precisionStyle': 'standard', 'noCommas': 'false', 'align': 'right'}   \n",
       "\n",
       "   computationStrategy  \n",
       "26                 NaN  "
      ]
     },
     "execution_count": 39,
     "metadata": {},
     "output_type": "execute_result"
    }
   ],
   "source": [
    "meta_col_2015[meta_col_2015['name'] == 'SourceEUI(kBtu/sf)']"
   ]
  },
  {
   "cell_type": "markdown",
   "metadata": {
    "id": "OFW0nVElLMze"
   },
   "source": [
    "**11. SteamUse(kBtu) :  \n",
    "La quantité annuelle de vapeur consommée par la propriété sur place, mesurée en milliers d'unités thermiques britanniques (kBtu).**"
   ]
  },
  {
   "cell_type": "code",
   "execution_count": 40,
   "metadata": {
    "id": "aUPoeGTeLMze",
    "outputId": "eaf11279-64cb-465e-935d-39915bc726f5"
   },
   "outputs": [
    {
     "data": {
      "text/html": [
       "<div>\n",
       "<style scoped>\n",
       "    .dataframe tbody tr th:only-of-type {\n",
       "        vertical-align: middle;\n",
       "    }\n",
       "\n",
       "    .dataframe tbody tr th {\n",
       "        vertical-align: top;\n",
       "    }\n",
       "\n",
       "    .dataframe thead th {\n",
       "        text-align: right;\n",
       "    }\n",
       "</style>\n",
       "<table border=\"1\" class=\"dataframe\">\n",
       "  <thead>\n",
       "    <tr style=\"text-align: right;\">\n",
       "      <th></th>\n",
       "      <th>id</th>\n",
       "      <th>name</th>\n",
       "      <th>dataTypeName</th>\n",
       "      <th>description</th>\n",
       "      <th>fieldName</th>\n",
       "      <th>position</th>\n",
       "      <th>renderTypeName</th>\n",
       "      <th>tableColumnId</th>\n",
       "      <th>width</th>\n",
       "      <th>cachedContents</th>\n",
       "      <th>format</th>\n",
       "      <th>computationStrategy</th>\n",
       "    </tr>\n",
       "  </thead>\n",
       "  <tbody>\n",
       "    <tr>\n",
       "      <th>30</th>\n",
       "      <td>350402329</td>\n",
       "      <td>SteamUse(kBtu)</td>\n",
       "      <td>number</td>\n",
       "      <td>The annual amount of district steam consumed by the property on-site, measured in thousands of British thermal units (kBtu).</td>\n",
       "      <td>steamuse_kbtu</td>\n",
       "      <td>35</td>\n",
       "      <td>number</td>\n",
       "      <td>46302852</td>\n",
       "      <td>268.0</td>\n",
       "      <td>{'largest': '127869744', 'non_null': 3330, 'average': '250285.0759759760', 'null': '10', 'top': [{'item': '0', 'count': '3200'}, {'item': '14089', 'count': '1'}, {'item': '138504', 'count': '1'}, {'item': '162514', 'count': '1'}, {'item': '184557', 'count': '1'}, {'item': '208000', 'count': '1'}, {'item': '216792', 'count': '1'}, {'item': '232000', 'count': '1'}, {'item': '296619', 'count': '1'}, {'item': '305664', 'count': '1'}, {'item': '310440', 'count': '1'}, {'item': '312366', 'count': '1'}, {'item': '368153', 'count': '1'}, {'item': '372528', 'count': '1'}, {'item': '383274', 'count': '1'}, {'item': '448146', 'count': '1'}, {'item': '456687', 'count': '1'}, {'item': '486182', 'count': '1'}, {'item': '505677', 'count': '1'}, {'item': '509178', 'count': '1'}], 'smallest': '0', 'not_null': '3330', 'sum': '833449303', 'cardinality': '131'}</td>\n",
       "      <td>{'precisionStyle': 'standard', 'noCommas': 'false', 'align': 'right'}</td>\n",
       "      <td>NaN</td>\n",
       "    </tr>\n",
       "  </tbody>\n",
       "</table>\n",
       "</div>"
      ],
      "text/plain": [
       "           id            name dataTypeName  \\\n",
       "30  350402329  SteamUse(kBtu)       number   \n",
       "\n",
       "                                                                                                                     description  \\\n",
       "30  The annual amount of district steam consumed by the property on-site, measured in thousands of British thermal units (kBtu).   \n",
       "\n",
       "        fieldName  position renderTypeName  tableColumnId  width  \\\n",
       "30  steamuse_kbtu        35         number       46302852  268.0   \n",
       "\n",
       "                                                                                                                                                                                                                                                                                                                                                                                                                                                                                                                                                                                                                                                                                                                                                                                                                                                                           cachedContents  \\\n",
       "30  {'largest': '127869744', 'non_null': 3330, 'average': '250285.0759759760', 'null': '10', 'top': [{'item': '0', 'count': '3200'}, {'item': '14089', 'count': '1'}, {'item': '138504', 'count': '1'}, {'item': '162514', 'count': '1'}, {'item': '184557', 'count': '1'}, {'item': '208000', 'count': '1'}, {'item': '216792', 'count': '1'}, {'item': '232000', 'count': '1'}, {'item': '296619', 'count': '1'}, {'item': '305664', 'count': '1'}, {'item': '310440', 'count': '1'}, {'item': '312366', 'count': '1'}, {'item': '368153', 'count': '1'}, {'item': '372528', 'count': '1'}, {'item': '383274', 'count': '1'}, {'item': '448146', 'count': '1'}, {'item': '456687', 'count': '1'}, {'item': '486182', 'count': '1'}, {'item': '505677', 'count': '1'}, {'item': '509178', 'count': '1'}], 'smallest': '0', 'not_null': '3330', 'sum': '833449303', 'cardinality': '131'}   \n",
       "\n",
       "                                                                   format  \\\n",
       "30  {'precisionStyle': 'standard', 'noCommas': 'false', 'align': 'right'}   \n",
       "\n",
       "   computationStrategy  \n",
       "30                 NaN  "
      ]
     },
     "execution_count": 40,
     "metadata": {},
     "output_type": "execute_result"
    }
   ],
   "source": [
    "meta_col_2015[meta_col_2015['name'] == 'SteamUse(kBtu)']"
   ]
  },
  {
   "cell_type": "markdown",
   "metadata": {
    "id": "pMScK5wjLMzf"
   },
   "source": [
    "**12 . (2015) GHGEmissions(MetricTonsCO2e) // (2016) TotalGHGEmissions :  \n",
    "La quantité totale d'émissions de gaz à effet de serre, y compris le dioxyde de carbone, le méthane et les gaz d'oxyde nitreux rejetés dans l'atmosphère à la suite de la consommation d'énergie de la propriété, mesurée en tonnes métriques d'équivalent dioxyde de carbone. Ce calcul utilise un facteur d'émissions de GES du portefeuille de ressources de production de Seattle CIty Light. Cela utilise le facteur d'émissions 2015 de Seattle City Light de 52,44 lbs CO2e / MWh. Facteur de vapeur Enwave = 170,17 lb CO2e / MMBtu. Facteur gaz provenant de l'EPA Portfolio Manager = 53,11 kg CO2e / MBtu.**"
   ]
  },
  {
   "cell_type": "code",
   "execution_count": 41,
   "metadata": {
    "id": "Zkzs0oLMLMzf",
    "outputId": "cd1af2df-d78a-4c8e-f115-3a8384256920"
   },
   "outputs": [
    {
     "data": {
      "text/html": [
       "<div>\n",
       "<style scoped>\n",
       "    .dataframe tbody tr th:only-of-type {\n",
       "        vertical-align: middle;\n",
       "    }\n",
       "\n",
       "    .dataframe tbody tr th {\n",
       "        vertical-align: top;\n",
       "    }\n",
       "\n",
       "    .dataframe thead th {\n",
       "        text-align: right;\n",
       "    }\n",
       "</style>\n",
       "<table border=\"1\" class=\"dataframe\">\n",
       "  <thead>\n",
       "    <tr style=\"text-align: right;\">\n",
       "      <th></th>\n",
       "      <th>id</th>\n",
       "      <th>name</th>\n",
       "      <th>dataTypeName</th>\n",
       "      <th>description</th>\n",
       "      <th>fieldName</th>\n",
       "      <th>position</th>\n",
       "      <th>renderTypeName</th>\n",
       "      <th>tableColumnId</th>\n",
       "      <th>width</th>\n",
       "      <th>cachedContents</th>\n",
       "      <th>format</th>\n",
       "      <th>computationStrategy</th>\n",
       "    </tr>\n",
       "  </thead>\n",
       "  <tbody>\n",
       "    <tr>\n",
       "      <th>36</th>\n",
       "      <td>350402335</td>\n",
       "      <td>GHGEmissions(MetricTonsCO2e)</td>\n",
       "      <td>number</td>\n",
       "      <td>The total amount of greenhouse gas emissions, including carbon dioxide, methane, and nitrous oxide gases released into the atmosphere as a result of energy consumption at the property, measured in metric tons of carbon dioxide equivalent. This calculation uses a GHG emissions factor from Seattle CIty Light's portfolio of generating resources. This uses Seattle City Light's 2015 emissions factor of 52.44 lbs CO2e/MWh. Enwave steam factor = 170.17 lbs CO2e/MMBtu. Gas factor sourced from EPA Portfolio Manager = 53.11 kg CO2e/MBtu.</td>\n",
       "      <td>ghgemissions_metrictonsco2e</td>\n",
       "      <td>41</td>\n",
       "      <td>number</td>\n",
       "      <td>46302858</td>\n",
       "      <td>436.0</td>\n",
       "      <td>{'largest': '11824.89', 'non_null': 3330, 'average': '110.0941021021021', 'null': '10', 'top': [{'item': '4.65', 'count': '8'}, {'item': '3.47', 'count': '6'}, {'item': '3.54', 'count': '6'}, {'item': '4.55', 'count': '6'}, {'item': '6.71', 'count': '5'}, {'item': '4.73', 'count': '5'}, {'item': '4.26', 'count': '5'}, {'item': '3.62', 'count': '5'}, {'item': '5.87', 'count': '5'}, {'item': '3.98', 'count': '4'}, {'item': '4.44', 'count': '4'}, {'item': '6.19', 'count': '4'}, {'item': '4.32', 'count': '4'}, {'item': '9.83', 'count': '4'}, {'item': '11.82', 'count': '4'}, {'item': '3.34', 'count': '4'}, {'item': '4.86', 'count': '4'}, {'item': '5.35', 'count': '4'}, {'item': '4.25', 'count': '4'}, {'item': '4.03', 'count': '4'}], 'smallest': '0', 'not_null': '3330', 'sum': '366613.36', 'cardinality': '2763'}</td>\n",
       "      <td>{'precisionStyle': 'standard', 'noCommas': 'false', 'align': 'right'}</td>\n",
       "      <td>NaN</td>\n",
       "    </tr>\n",
       "  </tbody>\n",
       "</table>\n",
       "</div>"
      ],
      "text/plain": [
       "           id                          name dataTypeName  \\\n",
       "36  350402335  GHGEmissions(MetricTonsCO2e)       number   \n",
       "\n",
       "                                                                                                                                                                                                                                                                                                                                                                                                                                                                                                                                               description  \\\n",
       "36  The total amount of greenhouse gas emissions, including carbon dioxide, methane, and nitrous oxide gases released into the atmosphere as a result of energy consumption at the property, measured in metric tons of carbon dioxide equivalent. This calculation uses a GHG emissions factor from Seattle CIty Light's portfolio of generating resources. This uses Seattle City Light's 2015 emissions factor of 52.44 lbs CO2e/MWh. Enwave steam factor = 170.17 lbs CO2e/MMBtu. Gas factor sourced from EPA Portfolio Manager = 53.11 kg CO2e/MBtu.    \n",
       "\n",
       "                      fieldName  position renderTypeName  tableColumnId  \\\n",
       "36  ghgemissions_metrictonsco2e        41         number       46302858   \n",
       "\n",
       "    width  \\\n",
       "36  436.0   \n",
       "\n",
       "                                                                                                                                                                                                                                                                                                                                                                                                                                                                                                                                                                                                                                                                                                                                                                                                                                       cachedContents  \\\n",
       "36  {'largest': '11824.89', 'non_null': 3330, 'average': '110.0941021021021', 'null': '10', 'top': [{'item': '4.65', 'count': '8'}, {'item': '3.47', 'count': '6'}, {'item': '3.54', 'count': '6'}, {'item': '4.55', 'count': '6'}, {'item': '6.71', 'count': '5'}, {'item': '4.73', 'count': '5'}, {'item': '4.26', 'count': '5'}, {'item': '3.62', 'count': '5'}, {'item': '5.87', 'count': '5'}, {'item': '3.98', 'count': '4'}, {'item': '4.44', 'count': '4'}, {'item': '6.19', 'count': '4'}, {'item': '4.32', 'count': '4'}, {'item': '9.83', 'count': '4'}, {'item': '11.82', 'count': '4'}, {'item': '3.34', 'count': '4'}, {'item': '4.86', 'count': '4'}, {'item': '5.35', 'count': '4'}, {'item': '4.25', 'count': '4'}, {'item': '4.03', 'count': '4'}], 'smallest': '0', 'not_null': '3330', 'sum': '366613.36', 'cardinality': '2763'}   \n",
       "\n",
       "                                                                   format  \\\n",
       "36  {'precisionStyle': 'standard', 'noCommas': 'false', 'align': 'right'}   \n",
       "\n",
       "   computationStrategy  \n",
       "36                 NaN  "
      ]
     },
     "execution_count": 41,
     "metadata": {},
     "output_type": "execute_result"
    }
   ],
   "source": [
    "meta_col_2015[meta_col_2015['name'] == 'GHGEmissions(MetricTonsCO2e)']"
   ]
  },
  {
   "cell_type": "markdown",
   "metadata": {
    "id": "s1KyUxg7LMzf"
   },
   "source": [
    "**13. (2015) GHGEmissionsIntensity(kgCO2e/ft2) // (2016) GHGEmissionsIntensity:  \n",
    "Émissions totales de gaz à effet de serre divisées par la superficie de plancher brute de la propriété, mesurées en kilogrammes d'équivalent dioxyde de carbone par pied carré. Ce calcul utilise un facteur d'émissions de GES du portefeuille de ressources génératrices de Seattle City Light**"
   ]
  },
  {
   "cell_type": "code",
   "execution_count": 42,
   "metadata": {
    "id": "8Ge43du2LMzf",
    "outputId": "fa38e222-06e7-4516-d8ec-a68ccca0f8a8"
   },
   "outputs": [
    {
     "data": {
      "text/html": [
       "<div>\n",
       "<style scoped>\n",
       "    .dataframe tbody tr th:only-of-type {\n",
       "        vertical-align: middle;\n",
       "    }\n",
       "\n",
       "    .dataframe tbody tr th {\n",
       "        vertical-align: top;\n",
       "    }\n",
       "\n",
       "    .dataframe thead th {\n",
       "        text-align: right;\n",
       "    }\n",
       "</style>\n",
       "<table border=\"1\" class=\"dataframe\">\n",
       "  <thead>\n",
       "    <tr style=\"text-align: right;\">\n",
       "      <th></th>\n",
       "      <th>id</th>\n",
       "      <th>name</th>\n",
       "      <th>dataTypeName</th>\n",
       "      <th>description</th>\n",
       "      <th>fieldName</th>\n",
       "      <th>position</th>\n",
       "      <th>renderTypeName</th>\n",
       "      <th>tableColumnId</th>\n",
       "      <th>width</th>\n",
       "      <th>cachedContents</th>\n",
       "      <th>format</th>\n",
       "      <th>computationStrategy</th>\n",
       "    </tr>\n",
       "  </thead>\n",
       "  <tbody>\n",
       "    <tr>\n",
       "      <th>37</th>\n",
       "      <td>350402336</td>\n",
       "      <td>GHGEmissionsIntensity(kgCO2e/ft2)</td>\n",
       "      <td>number</td>\n",
       "      <td>\\t\\nTotal Greenhouse Gas Emissions divided by property's gross floor area, measured in kilograms of carbon dioxide equivalent per square foot. This calculation uses a GHG emissions factor from Seattle City Light's portfolio of generating resources</td>\n",
       "      <td>ghgemissionsintensity_kgco2e_ft2</td>\n",
       "      <td>42</td>\n",
       "      <td>number</td>\n",
       "      <td>46302859</td>\n",
       "      <td>496.0</td>\n",
       "      <td>{'largest': '31.38', 'non_null': 3330, 'average': '0.9853393393393393', 'null': '10', 'top': [{'item': '0.06', 'count': '258'}, {'item': '0.07', 'count': '206'}, {'item': '0.05', 'count': '154'}, {'item': '0.08', 'count': '146'}, {'item': '0.09', 'count': '81'}, {'item': '0.10', 'count': '71'}, {'item': '0.11', 'count': '51'}, {'item': '0.04', 'count': '46'}, {'item': '0.12', 'count': '42'}, {'item': '0.14', 'count': '35'}, {'item': '0.13', 'count': '32'}, {'item': '0.03', 'count': '31'}, {'item': '0.17', 'count': '28'}, {'item': '0.02', 'count': '27'}, {'item': '0.24', 'count': '24'}, {'item': '0.56', 'count': '23'}, {'item': '0.18', 'count': '23'}, {'item': '0.15', 'count': '21'}, {'item': '0.48', 'count': '20'}, {'item': '0.55', 'count': '20'}], 'smallest': '0.00', 'not_null': '3330', 'sum': '3281.18', 'cardinality': '471'}</td>\n",
       "      <td>{'precisionStyle': 'standard', 'noCommas': 'false', 'align': 'right'}</td>\n",
       "      <td>NaN</td>\n",
       "    </tr>\n",
       "  </tbody>\n",
       "</table>\n",
       "</div>"
      ],
      "text/plain": [
       "           id                               name dataTypeName  \\\n",
       "37  350402336  GHGEmissionsIntensity(kgCO2e/ft2)       number   \n",
       "\n",
       "                                                                                                                                                                                                                                                description  \\\n",
       "37  \\t\\nTotal Greenhouse Gas Emissions divided by property's gross floor area, measured in kilograms of carbon dioxide equivalent per square foot. This calculation uses a GHG emissions factor from Seattle City Light's portfolio of generating resources   \n",
       "\n",
       "                           fieldName  position renderTypeName  tableColumnId  \\\n",
       "37  ghgemissionsintensity_kgco2e_ft2        42         number       46302859   \n",
       "\n",
       "    width  \\\n",
       "37  496.0   \n",
       "\n",
       "                                                                                                                                                                                                                                                                                                                                                                                                                                                                                                                                                                                                                                                                                                                                                                                                                                                            cachedContents  \\\n",
       "37  {'largest': '31.38', 'non_null': 3330, 'average': '0.9853393393393393', 'null': '10', 'top': [{'item': '0.06', 'count': '258'}, {'item': '0.07', 'count': '206'}, {'item': '0.05', 'count': '154'}, {'item': '0.08', 'count': '146'}, {'item': '0.09', 'count': '81'}, {'item': '0.10', 'count': '71'}, {'item': '0.11', 'count': '51'}, {'item': '0.04', 'count': '46'}, {'item': '0.12', 'count': '42'}, {'item': '0.14', 'count': '35'}, {'item': '0.13', 'count': '32'}, {'item': '0.03', 'count': '31'}, {'item': '0.17', 'count': '28'}, {'item': '0.02', 'count': '27'}, {'item': '0.24', 'count': '24'}, {'item': '0.56', 'count': '23'}, {'item': '0.18', 'count': '23'}, {'item': '0.15', 'count': '21'}, {'item': '0.48', 'count': '20'}, {'item': '0.55', 'count': '20'}], 'smallest': '0.00', 'not_null': '3330', 'sum': '3281.18', 'cardinality': '471'}   \n",
       "\n",
       "                                                                   format  \\\n",
       "37  {'precisionStyle': 'standard', 'noCommas': 'false', 'align': 'right'}   \n",
       "\n",
       "   computationStrategy  \n",
       "37                 NaN  "
      ]
     },
     "execution_count": 42,
     "metadata": {},
     "output_type": "execute_result"
    }
   ],
   "source": [
    "meta_col_2015[meta_col_2015['name'] == 'GHGEmissionsIntensity(kgCO2e/ft2)']"
   ]
  },
  {
   "cell_type": "markdown",
   "metadata": {
    "id": "NXTmqwo_LMzg"
   },
   "source": [
    "## 5. DOUBLONS?"
   ]
  },
  {
   "cell_type": "code",
   "execution_count": 43,
   "metadata": {
    "id": "-AG1xecDLMzg",
    "outputId": "c1abad83-49f7-44d9-c2cc-02bafc08298e"
   },
   "outputs": [
    {
     "name": "stdout",
     "output_type": "stream",
     "text": [
      "Il y a 0 doublons.\n"
     ]
    }
   ],
   "source": [
    "print(f\"Il y a {df_2015.shape[0] - df_2015.drop_duplicates('OSEBuildingID', keep='first').shape[0]} doublons.\")"
   ]
  },
  {
   "cell_type": "code",
   "execution_count": 44,
   "metadata": {
    "id": "1KGgsCZbLMzg",
    "outputId": "83b61efc-187f-4854-a879-7f08af25e748"
   },
   "outputs": [
    {
     "name": "stdout",
     "output_type": "stream",
     "text": [
      "Il y a 0 doublons.\n"
     ]
    }
   ],
   "source": [
    "print(f\"Il y a {df_2016.shape[0] - df_2016.drop_duplicates('OSEBuildingID', keep='first').shape[0]} doublons.\")"
   ]
  },
  {
   "cell_type": "markdown",
   "metadata": {
    "id": "-W81C0rULMzh"
   },
   "source": [
    "## 6. ANALYSE UNIVARIÉE"
   ]
  },
  {
   "cell_type": "code",
   "execution_count": 45,
   "metadata": {
    "id": "8OqwZEn-LMzh",
    "outputId": "d1a69487-842a-4ffc-e40c-05317b8ba983"
   },
   "outputs": [
    {
     "data": {
      "text/html": [
       "<div>\n",
       "<style scoped>\n",
       "    .dataframe tbody tr th:only-of-type {\n",
       "        vertical-align: middle;\n",
       "    }\n",
       "\n",
       "    .dataframe tbody tr th {\n",
       "        vertical-align: top;\n",
       "    }\n",
       "\n",
       "    .dataframe thead th {\n",
       "        text-align: right;\n",
       "    }\n",
       "</style>\n",
       "<table border=\"1\" class=\"dataframe\">\n",
       "  <thead>\n",
       "    <tr style=\"text-align: right;\">\n",
       "      <th></th>\n",
       "      <th>SiteEnergyUse(kBtu)</th>\n",
       "      <th>GHGEmissions(MetricTonsCO2e)</th>\n",
       "    </tr>\n",
       "  </thead>\n",
       "  <tbody>\n",
       "    <tr>\n",
       "      <th>count</th>\n",
       "      <td>3.330000e+03</td>\n",
       "      <td>3330.000000</td>\n",
       "    </tr>\n",
       "    <tr>\n",
       "      <th>mean</th>\n",
       "      <td>4.983106e+06</td>\n",
       "      <td>110.094102</td>\n",
       "    </tr>\n",
       "    <tr>\n",
       "      <th>std</th>\n",
       "      <td>1.375330e+07</td>\n",
       "      <td>409.450179</td>\n",
       "    </tr>\n",
       "    <tr>\n",
       "      <th>min</th>\n",
       "      <td>0.000000e+00</td>\n",
       "      <td>0.000000</td>\n",
       "    </tr>\n",
       "    <tr>\n",
       "      <th>25%</th>\n",
       "      <td>9.139300e+05</td>\n",
       "      <td>9.265000</td>\n",
       "    </tr>\n",
       "    <tr>\n",
       "      <th>50%</th>\n",
       "      <td>1.776219e+06</td>\n",
       "      <td>32.740000</td>\n",
       "    </tr>\n",
       "    <tr>\n",
       "      <th>75%</th>\n",
       "      <td>4.044277e+06</td>\n",
       "      <td>88.642500</td>\n",
       "    </tr>\n",
       "    <tr>\n",
       "      <th>max</th>\n",
       "      <td>2.958126e+08</td>\n",
       "      <td>11824.890000</td>\n",
       "    </tr>\n",
       "  </tbody>\n",
       "</table>\n",
       "</div>"
      ],
      "text/plain": [
       "       SiteEnergyUse(kBtu)  GHGEmissions(MetricTonsCO2e)\n",
       "count         3.330000e+03                   3330.000000\n",
       "mean          4.983106e+06                    110.094102\n",
       "std           1.375330e+07                    409.450179\n",
       "min           0.000000e+00                      0.000000\n",
       "25%           9.139300e+05                      9.265000\n",
       "50%           1.776219e+06                     32.740000\n",
       "75%           4.044277e+06                     88.642500\n",
       "max           2.958126e+08                  11824.890000"
      ]
     },
     "execution_count": 45,
     "metadata": {},
     "output_type": "execute_result"
    }
   ],
   "source": [
    "df_2015[['SiteEnergyUse(kBtu)', 'GHGEmissions(MetricTonsCO2e)']].describe()"
   ]
  },
  {
   "cell_type": "code",
   "execution_count": 46,
   "metadata": {
    "id": "eUzir5tOLMzh",
    "outputId": "db73c779-90f7-4e0d-d799-b51562e04889"
   },
   "outputs": [
    {
     "data": {
      "text/html": [
       "<div>\n",
       "<style scoped>\n",
       "    .dataframe tbody tr th:only-of-type {\n",
       "        vertical-align: middle;\n",
       "    }\n",
       "\n",
       "    .dataframe tbody tr th {\n",
       "        vertical-align: top;\n",
       "    }\n",
       "\n",
       "    .dataframe thead th {\n",
       "        text-align: right;\n",
       "    }\n",
       "</style>\n",
       "<table border=\"1\" class=\"dataframe\">\n",
       "  <thead>\n",
       "    <tr style=\"text-align: right;\">\n",
       "      <th></th>\n",
       "      <th>SiteEnergyUse(kBtu)</th>\n",
       "      <th>TotalGHGEmissions</th>\n",
       "    </tr>\n",
       "  </thead>\n",
       "  <tbody>\n",
       "    <tr>\n",
       "      <th>count</th>\n",
       "      <td>3.371000e+03</td>\n",
       "      <td>3367.000000</td>\n",
       "    </tr>\n",
       "    <tr>\n",
       "      <th>mean</th>\n",
       "      <td>5.403667e+06</td>\n",
       "      <td>119.723971</td>\n",
       "    </tr>\n",
       "    <tr>\n",
       "      <th>std</th>\n",
       "      <td>2.161063e+07</td>\n",
       "      <td>538.832227</td>\n",
       "    </tr>\n",
       "    <tr>\n",
       "      <th>min</th>\n",
       "      <td>0.000000e+00</td>\n",
       "      <td>-0.800000</td>\n",
       "    </tr>\n",
       "    <tr>\n",
       "      <th>25%</th>\n",
       "      <td>9.251286e+05</td>\n",
       "      <td>9.495000</td>\n",
       "    </tr>\n",
       "    <tr>\n",
       "      <th>50%</th>\n",
       "      <td>1.803753e+06</td>\n",
       "      <td>33.920000</td>\n",
       "    </tr>\n",
       "    <tr>\n",
       "      <th>75%</th>\n",
       "      <td>4.222455e+06</td>\n",
       "      <td>93.940000</td>\n",
       "    </tr>\n",
       "    <tr>\n",
       "      <th>max</th>\n",
       "      <td>8.739237e+08</td>\n",
       "      <td>16870.980000</td>\n",
       "    </tr>\n",
       "  </tbody>\n",
       "</table>\n",
       "</div>"
      ],
      "text/plain": [
       "       SiteEnergyUse(kBtu)  TotalGHGEmissions\n",
       "count         3.371000e+03        3367.000000\n",
       "mean          5.403667e+06         119.723971\n",
       "std           2.161063e+07         538.832227\n",
       "min           0.000000e+00          -0.800000\n",
       "25%           9.251286e+05           9.495000\n",
       "50%           1.803753e+06          33.920000\n",
       "75%           4.222455e+06          93.940000\n",
       "max           8.739237e+08       16870.980000"
      ]
     },
     "execution_count": 46,
     "metadata": {},
     "output_type": "execute_result"
    }
   ],
   "source": [
    "df_2016[['SiteEnergyUse(kBtu)', 'TotalGHGEmissions']].describe()"
   ]
  },
  {
   "cell_type": "markdown",
   "metadata": {
    "id": "GwTHmxSqLMzh"
   },
   "source": [
    "### 6.a SiteEnergyUse(kBtu) initiale"
   ]
  },
  {
   "cell_type": "code",
   "execution_count": 47,
   "metadata": {
    "id": "JAvkHtOlLMzi",
    "outputId": "13f70400-e322-4efa-907d-f48bac88891e"
   },
   "outputs": [
    {
     "data": {
      "image/png": "[encoded data removed]",
      "text/plain": [
       "<Figure size 864x288 with 1 Axes>"
      ]
     },
     "metadata": {},
     "output_type": "display_data"
    }
   ],
   "source": [
    "sns.set_style(\"whitegrid\")\n",
    "\n",
    "fig, ax = plt.subplots(figsize=(12, 4))\n",
    "ax = sns.boxplot(x=df_2015['SiteEnergyUse(kBtu)'])\n",
    "plt.title('CONSOMMATION ÉNERGÉTIQUE EN 2015', fontsize=20);"
   ]
  },
  {
   "cell_type": "code",
   "execution_count": 48,
   "metadata": {
    "id": "pVA9jYpgLMzi",
    "outputId": "35871db1-4b4f-4692-c042-79a14cec3ab2"
   },
   "outputs": [
    {
     "data": {
      "image/png": "[encoded data removed]",
      "text/plain": [
       "<Figure size 864x288 with 1 Axes>"
      ]
     },
     "metadata": {},
     "output_type": "display_data"
    }
   ],
   "source": [
    "fig, ax = plt.subplots(figsize=(12, 4))\n",
    "ax = sns.histplot(df_2015, x='SiteEnergyUse(kBtu)')\n",
    "plt.title('CONSOMMATION ÉNERGÉTIQUE EN 2015', fontsize=20);"
   ]
  },
  {
   "cell_type": "code",
   "execution_count": 49,
   "metadata": {
    "id": "FODoy1ppLMzi",
    "outputId": "6b0910f0-63eb-4a2f-a4ac-5271d3b8b172"
   },
   "outputs": [
    {
     "data": {
      "image/png": "[encoded data removed]",
      "text/plain": [
       "<Figure size 864x288 with 1 Axes>"
      ]
     },
     "metadata": {},
     "output_type": "display_data"
    }
   ],
   "source": [
    "fig, ax = plt.subplots(figsize=(12, 4))\n",
    "ax = sns.boxplot(x=df_2016['SiteEnergyUse(kBtu)'])\n",
    "plt.title('CONSOMMATION ÉNERGÉTIQUE EN 2016', fontsize=20);"
   ]
  },
  {
   "cell_type": "code",
   "execution_count": 50,
   "metadata": {
    "id": "6_vY2mAeLMzj",
    "outputId": "436edcb3-13a5-46ca-c803-4bd8bfb97ad2"
   },
   "outputs": [
    {
     "data": {
      "image/png": "[encoded data removed]",
      "text/plain": [
       "<Figure size 864x288 with 1 Axes>"
      ]
     },
     "metadata": {},
     "output_type": "display_data"
    }
   ],
   "source": [
    "fig, ax = plt.subplots(figsize=(12, 4))\n",
    "ax = sns.histplot(df_2016, x='SiteEnergyUse(kBtu)')\n",
    "plt.title('CONSOMMATION ÉNERGÉTIQUE EN 2016', fontsize=20);"
   ]
  },
  {
   "cell_type": "markdown",
   "metadata": {
    "id": "aN6TUldeLMzk"
   },
   "source": [
    "### Transformation logarithmique"
   ]
  },
  {
   "cell_type": "code",
   "execution_count": 51,
   "metadata": {
    "id": "zcYbE0UvLMzk",
    "outputId": "24c50dac-0760-418a-d610-97ad962213a4"
   },
   "outputs": [
    {
     "data": {
      "image/png": "[encoded data removed]",
      "text/plain": [
       "<Figure size 864x288 with 1 Axes>"
      ]
     },
     "metadata": {},
     "output_type": "display_data"
    }
   ],
   "source": [
    "sns.set_style(\"whitegrid\")\n",
    "\n",
    "fig, ax = plt.subplots(figsize=(12, 4))\n",
    "ax = sns.boxplot(x=np.log(df_2015['SiteEnergyUse(kBtu)'] + 0.5))\n",
    "plt.title('CONSOMMATION ÉNERGÉTIQUE EN 2015', fontsize=20);"
   ]
  },
  {
   "cell_type": "code",
   "execution_count": 52,
   "metadata": {
    "id": "nCgcGj9yLMzk",
    "outputId": "99be8e7a-71a1-4b9e-bb1f-c2ea108d4039"
   },
   "outputs": [
    {
     "data": {
      "image/png": "[encoded data removed]",
      "text/plain": [
       "<Figure size 864x288 with 1 Axes>"
      ]
     },
     "metadata": {},
     "output_type": "display_data"
    }
   ],
   "source": [
    "fig, ax = plt.subplots(figsize=(12, 4))\n",
    "ax = sns.histplot(df_2015, x=np.log(df_2015['SiteEnergyUse(kBtu)'] + 0.5))\n",
    "plt.title('CONSOMMATION ÉNERGÉTIQUE EN 2015', fontsize=20);"
   ]
  },
  {
   "cell_type": "code",
   "execution_count": 53,
   "metadata": {
    "id": "fauILOVNLMzk",
    "outputId": "3342caa0-6079-4659-e248-d8be4201fc59"
   },
   "outputs": [
    {
     "data": {
      "image/png": "[encoded data removed]",
      "text/plain": [
       "<Figure size 864x288 with 1 Axes>"
      ]
     },
     "metadata": {},
     "output_type": "display_data"
    }
   ],
   "source": [
    "fig, ax = plt.subplots(figsize=(12, 4))\n",
    "ax = sns.boxplot(x=np.log(df_2016['SiteEnergyUse(kBtu)'] + 0.5))\n",
    "plt.title('CONSOMMATION ÉNERGÉTIQUE EN 2016', fontsize=20);"
   ]
  },
  {
   "cell_type": "code",
   "execution_count": 54,
   "metadata": {
    "id": "hvFr2CnYLMzp",
    "outputId": "197651a7-b1fc-4ecd-c7fe-10b42f97b9e5"
   },
   "outputs": [
    {
     "data": {
      "image/png": "[encoded data removed]",
      "text/plain": [
       "<Figure size 864x288 with 1 Axes>"
      ]
     },
     "metadata": {},
     "output_type": "display_data"
    }
   ],
   "source": [
    "fig, ax = plt.subplots(figsize=(12, 4))\n",
    "ax = sns.histplot(df_2016, x=np.log(df_2016['SiteEnergyUse(kBtu)'] + 0.5))\n",
    "plt.title('CONSOMMATION ÉNERGÉTIQUE EN 2016', fontsize=20);"
   ]
  },
  {
   "cell_type": "markdown",
   "metadata": {
    "id": "CIPzdB-5LMzp"
   },
   "source": [
    "### Test de normalité (Shapiro-Wilk)  \n",
    "    H0 : La distribtuion de SiteEnergyUse(kBtu) est normal.  \n",
    "    H1 : La ditribution de SiteEnergyUse(kBtu) n'est pas normal"
   ]
  },
  {
   "cell_type": "code",
   "execution_count": 55,
   "metadata": {
    "id": "cO6Mbr7LLMzq"
   },
   "outputs": [],
   "source": [
    "def shapiro_wilk(dataframe, feature):\n",
    "    '''This function proceed to the Shapiro-Wilk test (for gaussian distribution).\n",
    "    It takes a dataframe and the name of the feature to test.\n",
    "    It filters for non-null vallues of the feature and print the results.'''\n",
    "    \n",
    "    # filtering non-null data for the feature\n",
    "    mask = dataframe[feature].notnull()\n",
    "    data_view = dataframe[mask][feature]\n",
    "\n",
    "    # processing the Shopiro-Wilk test on the filtered data\n",
    "    results = shapiro(data_view)\n",
    "\n",
    "    # Print results\n",
    "    print(\"Shapiro-Wilk test's statistic value is: W = {}\".format(results[0]))\n",
    "    print(\"Shapiro-Wilk test's p-value is: p = {}\".format(results[1]))\n",
    "    print(\"\\nGaussian distribution hypothesis for \\'{}\\' can be rejected at a risk of {:.2f}%.\".format(feature, results[1]*100))"
   ]
  },
  {
   "cell_type": "code",
   "execution_count": 56,
   "metadata": {
    "id": "L1c86YvFLMzq",
    "outputId": "2194ea8a-29fb-4383-8685-2ed14dc052db"
   },
   "outputs": [
    {
     "name": "stdout",
     "output_type": "stream",
     "text": [
      "Shapiro-Wilk test's statistic value is: W = 0.2760465145111084\n",
      "Shapiro-Wilk test's p-value is: p = 0.0\n",
      "\n",
      "Gaussian distribution hypothesis for 'SiteEnergyUse(kBtu)' can be rejected at a risk of 0.00%.\n"
     ]
    }
   ],
   "source": [
    "shapiro_wilk(df_2015, 'SiteEnergyUse(kBtu)')"
   ]
  },
  {
   "cell_type": "code",
   "execution_count": 57,
   "metadata": {
    "id": "pdbfiaXZLMzq",
    "outputId": "9e2e5c23-327b-4c37-f16b-2d2722de2faf"
   },
   "outputs": [
    {
     "name": "stdout",
     "output_type": "stream",
     "text": [
      "Shapiro-Wilk test's statistic value is: W = 0.15326350927352905\n",
      "Shapiro-Wilk test's p-value is: p = 0.0\n",
      "\n",
      "Gaussian distribution hypothesis for 'SiteEnergyUse(kBtu)' can be rejected at a risk of 0.00%.\n"
     ]
    }
   ],
   "source": [
    "shapiro_wilk(df_2016, 'SiteEnergyUse(kBtu)')"
   ]
  },
  {
   "cell_type": "markdown",
   "metadata": {
    "id": "Vb7aRLekLMzr"
   },
   "source": [
    "### 6.b TotalGHGEmissions"
   ]
  },
  {
   "cell_type": "code",
   "execution_count": 58,
   "metadata": {
    "id": "X0vokteELMzr",
    "outputId": "d056fafb-81d5-4bfe-d265-55ae8842f9be"
   },
   "outputs": [
    {
     "data": {
      "image/png": "[encoded data removed]",
      "text/plain": [
       "<Figure size 864x288 with 1 Axes>"
      ]
     },
     "metadata": {},
     "output_type": "display_data"
    }
   ],
   "source": [
    "sns.set_style(\"whitegrid\")\n",
    "\n",
    "fig, ax = plt.subplots(figsize=(12, 4))\n",
    "ax = sns.boxplot(x=df_2015['TotalGHGEmissions'])\n",
    "plt.title('ÉMISSION DE CO2 EN 2015', fontsize=20);"
   ]
  },
  {
   "cell_type": "code",
   "execution_count": 59,
   "metadata": {
    "id": "eyfyq4CXLMzr",
    "outputId": "2c6bdd19-9a39-4126-bb76-f78f069da0ce"
   },
   "outputs": [
    {
     "data": {
      "image/png": "[encoded data removed]",
      "text/plain": [
       "<Figure size 864x288 with 1 Axes>"
      ]
     },
     "metadata": {},
     "output_type": "display_data"
    }
   ],
   "source": [
    "fig, ax = plt.subplots(figsize=(12, 4))\n",
    "ax = sns.histplot(df_2015, x='TotalGHGEmissions')\n",
    "plt.title('ÉMISSION DE CO2 EN 2015', fontsize=20);"
   ]
  },
  {
   "cell_type": "code",
   "execution_count": 60,
   "metadata": {
    "id": "eyQx3z9pLMzs",
    "outputId": "420d4612-88c5-45d2-e636-57dc89f67973"
   },
   "outputs": [
    {
     "data": {
      "image/png": "[encoded data removed]",
      "text/plain": [
       "<Figure size 864x288 with 1 Axes>"
      ]
     },
     "metadata": {},
     "output_type": "display_data"
    }
   ],
   "source": [
    "fig, ax = plt.subplots(figsize=(12, 4))\n",
    "ax = sns.boxplot(x=df_2016['TotalGHGEmissions'])\n",
    "plt.title('ÉMISSION DE CO2 EN 2016', fontsize=20);"
   ]
  },
  {
   "cell_type": "code",
   "execution_count": 61,
   "metadata": {
    "id": "1PyXOgsiLMzs",
    "outputId": "a82f73d0-1eb4-4bc9-a0da-d939a3570784"
   },
   "outputs": [
    {
     "data": {
      "image/png": "[encoded data removed]",
      "text/plain": [
       "<Figure size 864x288 with 1 Axes>"
      ]
     },
     "metadata": {},
     "output_type": "display_data"
    }
   ],
   "source": [
    "fig, ax = plt.subplots(figsize=(12, 4))\n",
    "ax = sns.histplot(df_2016, x='TotalGHGEmissions')\n",
    "plt.title('ÉMISSION DE CO2 EN 2016', fontsize=20);"
   ]
  },
  {
   "cell_type": "markdown",
   "metadata": {
    "id": "Ana5Q9TULMzt"
   },
   "source": [
    "### Transformation logarithmique"
   ]
  },
  {
   "cell_type": "code",
   "execution_count": 107,
   "metadata": {
    "id": "4sME9njOLMzt",
    "outputId": "710b0591-3752-496c-e0a5-40c6c84da8ef"
   },
   "outputs": [
    {
     "data": {
      "image/png": "[encoded data removed]",
      "text/plain": [
       "<Figure size 864x288 with 1 Axes>"
      ]
     },
     "metadata": {},
     "output_type": "display_data"
    }
   ],
   "source": [
    "sns.set_style(\"whitegrid\")\n",
    "\n",
    "fig, ax = plt.subplots(figsize=(12, 4))\n",
    "ax = sns.boxplot(x=np.log(df_2015['TotalGHGEmissions'] + 1))\n",
    "plt.title('ÉMISSION DE CO2 EN 2015', fontsize=20);"
   ]
  },
  {
   "cell_type": "code",
   "execution_count": 106,
   "metadata": {
    "id": "ldgnt3-8LMzu",
    "outputId": "8badaea0-17ae-43d0-c914-29b98766828d"
   },
   "outputs": [
    {
     "data": {
      "image/png": "[encoded data removed]",
      "text/plain": [
       "<Figure size 864x288 with 1 Axes>"
      ]
     },
     "metadata": {},
     "output_type": "display_data"
    }
   ],
   "source": [
    "fig, ax = plt.subplots(figsize=(12, 4))\n",
    "ax = sns.histplot(df_2015, x=np.log(df_2015['TotalGHGEmissions'] + 1))\n",
    "plt.title('ÉMISSION DE CO2 EN 2015', fontsize=20);"
   ]
  },
  {
   "cell_type": "code",
   "execution_count": 64,
   "metadata": {
    "id": "Kn8uBDY6LMzu",
    "outputId": "35483316-3bc3-4753-81de-0d80f8b8ceb3"
   },
   "outputs": [
    {
     "data": {
      "image/png": "[encoded data removed]",
      "text/plain": [
       "<Figure size 864x288 with 1 Axes>"
      ]
     },
     "metadata": {},
     "output_type": "display_data"
    }
   ],
   "source": [
    "fig, ax = plt.subplots(figsize=(12, 4))\n",
    "ax = sns.boxplot(x=np.log(df_2016['TotalGHGEmissions'] + 1))\n",
    "plt.title('ÉMISSION DE CO2 EN 2016', fontsize=20);"
   ]
  },
  {
   "cell_type": "code",
   "execution_count": 65,
   "metadata": {
    "id": "xlCEiqvLLMzu",
    "outputId": "9d57b1f5-eaf6-4ad7-e816-692047ffd61a"
   },
   "outputs": [
    {
     "data": {
      "image/png": "[encoded data removed]",
      "text/plain": [
       "<Figure size 864x288 with 1 Axes>"
      ]
     },
     "metadata": {},
     "output_type": "display_data"
    }
   ],
   "source": [
    "fig, ax = plt.subplots(figsize=(12, 4))\n",
    "ax = sns.histplot(df_2016, x=np.log(df_2016['TotalGHGEmissions'] + 1))\n",
    "plt.title('ÉMISSION DE CO2 EN 2016', fontsize=20);"
   ]
  },
  {
   "cell_type": "markdown",
   "metadata": {
    "id": "P7iyip1uLMzu"
   },
   "source": [
    "### Test de normalité (Shapiro-Wilk)  \n",
    "    H0 : La distribtuion de SiteEnergyUse(kBtu) est normal.  \n",
    "    H1 : La ditribution de SiteEnergyUse(kBtu) n'est pas normal"
   ]
  },
  {
   "cell_type": "code",
   "execution_count": 66,
   "metadata": {
    "id": "h7tPgGBNLMzv"
   },
   "outputs": [],
   "source": [
    "def shapiro_wilk(dataframe, feature):\n",
    "    '''This function proceed to the Shapiro-Wilk test (for gaussian distribution).\n",
    "    It takes a dataframe and the name of the feature to test.\n",
    "    It filters for non-null vallues of the feature and print the results.'''\n",
    "    \n",
    "    # filtering non-null data for the feature\n",
    "    mask = dataframe[feature].notnull()\n",
    "    data_view = dataframe[mask][feature]\n",
    "\n",
    "    # processing the Shopiro-Wilk test on the filtered data\n",
    "    results = shapiro(data_view)\n",
    "\n",
    "    # Print results\n",
    "    print(\"Shapiro-Wilk test's statistic value is: W = {}\".format(results[0]))\n",
    "    print(\"Shapiro-Wilk test's p-value is: p = {}\".format(results[1]))\n",
    "    print(\"\\nGaussian distribution hypothesis for \\'{}\\' can be rejected at a risk of {:.2f}%.\".format(feature, results[1]*100))"
   ]
  },
  {
   "cell_type": "code",
   "execution_count": 67,
   "metadata": {
    "id": "YetlrypFLMzv",
    "outputId": "a2e47153-ee60-45f1-ec93-27572e4c0b1e"
   },
   "outputs": [
    {
     "name": "stdout",
     "output_type": "stream",
     "text": [
      "Shapiro-Wilk test's statistic value is: W = 0.19610530138015747\n",
      "Shapiro-Wilk test's p-value is: p = 0.0\n",
      "\n",
      "Gaussian distribution hypothesis for 'GHGEmissions(MetricTonsCO2e)' can be rejected at a risk of 0.00%.\n"
     ]
    }
   ],
   "source": [
    "shapiro_wilk(df_2015, 'GHGEmissions(MetricTonsCO2e)')"
   ]
  },
  {
   "cell_type": "code",
   "execution_count": 68,
   "metadata": {
    "id": "8pnJnclKLMzw",
    "outputId": "b5b35fb5-d643-48dc-f753-8be1cfe9f37e"
   },
   "outputs": [
    {
     "name": "stdout",
     "output_type": "stream",
     "text": [
      "Shapiro-Wilk test's statistic value is: W = 0.14604246616363525\n",
      "Shapiro-Wilk test's p-value is: p = 0.0\n",
      "\n",
      "Gaussian distribution hypothesis for 'TotalGHGEmissions' can be rejected at a risk of 0.00%.\n"
     ]
    }
   ],
   "source": [
    "shapiro_wilk(df_2016, 'TotalGHGEmissions')"
   ]
  },
  {
   "cell_type": "markdown",
   "metadata": {
    "id": "p3vt3f6aLMzw"
   },
   "source": [
    "## 7. SÉLECTION DES FEATURES"
   ]
  },
  {
   "cell_type": "code",
   "execution_count": 69,
   "metadata": {},
   "outputs": [],
   "source": [
    "features_selected = {'BuildingType'\n",
    "                    ,'ComplianceStatus' # état de conformité\n",
    "                    ,'CouncilDistrictCode' # Propriété District municipal de la ville de Seattle\n",
    "                    #,'DataYear' #?\n",
    "                    ,'DefaultData'\n",
    "                    #,'LargestPropertyUseType' # type de batiment --> primaryPropertyType\n",
    "                    #,'LargestPropertyUseTypeGFA' #?  --> primaryPropertyType\n",
    "                    ,'ListOfAllPropertyUseTypes' # all types\n",
    "                    ,'Neighborhood' # qurtier\n",
    "                    ,'NumberofBuildings'\n",
    "                    ,'NumberofFloors'\n",
    "                    ,'Outlier'\n",
    "                    ,'PrimaryPropertyType'\n",
    "                    ,'PropertyGFABuilding' #surface brute intérieure\n",
    "                    ,'PropertyGFAParking'\n",
    "                    ,'PropertyGFATotal'\n",
    "                    ,'YearBuilt'\n",
    "                    ,'Latitude'\n",
    "                    ,'Longitude'} "
   ]
  },
  {
   "cell_type": "markdown",
   "metadata": {},
   "source": [
    "### 7.a Comparaison 2015 - 1016"
   ]
  },
  {
   "cell_type": "code",
   "execution_count": 105,
   "metadata": {},
   "outputs": [
    {
     "name": "stderr",
     "output_type": "stream",
     "text": [
      "C:\\Users\\tfavr\\anaconda3\\envs\\Work\\lib\\site-packages\\seaborn\\_decorators.py:36: FutureWarning:\n",
      "\n",
      "Pass the following variables as keyword args: x, y. From version 0.12, the only valid positional argument will be `data`, and passing other arguments without an explicit keyword will result in an error or misinterpretation.\n",
      "\n"
     ]
    },
    {
     "data": {
      "text/plain": [
       "Text(0.5, 1.0, 'EMISSION DE CO2 EN 2015 ET 2016')"
      ]
     },
     "execution_count": 105,
     "metadata": {},
     "output_type": "execute_result"
    },
    {
     "data": {
      "image/png": "[encoded data removed]",
      "text/plain": [
       "<Figure size 576x324 with 1 Axes>"
      ]
     },
     "metadata": {},
     "output_type": "display_data"
    }
   ],
   "source": [
    "fig, ax = plt.subplots(figsize=(8, 4.5))\n",
    "\n",
    "sns.scatterplot(df_2015.loc[df_2015['OSEBuildingID'].map(lambda x: x in ID_inter), 'TotalGHGEmissions']\n",
    "               ,df_2016.loc[df_2016['OSEBuildingID'].map(lambda x: x in ID_inter), 'TotalGHGEmissions']\n",
    "               ,alpha=0.8)\n",
    "\n",
    "ax.set_xlabel('Emission de CO2 en 2015', fontsize=15)\n",
    "ax.set_ylabel('Emission de CO2 en 2016', fontsize=15)\n",
    "plt.title('EMISSION DE CO2 EN 2015 ET 2016', fontsize=20)"
   ]
  },
  {
   "cell_type": "code",
   "execution_count": 104,
   "metadata": {},
   "outputs": [
    {
     "name": "stderr",
     "output_type": "stream",
     "text": [
      "C:\\Users\\tfavr\\anaconda3\\envs\\Work\\lib\\site-packages\\seaborn\\_decorators.py:36: FutureWarning:\n",
      "\n",
      "Pass the following variables as keyword args: x, y. From version 0.12, the only valid positional argument will be `data`, and passing other arguments without an explicit keyword will result in an error or misinterpretation.\n",
      "\n"
     ]
    },
    {
     "data": {
      "text/plain": [
       "Text(0.5, 1.0, \"CONSOMATION D'ÉNERGIE EN 2015 ET 2016\")"
      ]
     },
     "execution_count": 104,
     "metadata": {},
     "output_type": "execute_result"
    },
    {
     "data": {
      "image/png": "[encoded data removed]",
      "text/plain": [
       "<Figure size 576x324 with 1 Axes>"
      ]
     },
     "metadata": {},
     "output_type": "display_data"
    }
   ],
   "source": [
    "fig, ax = plt.subplots(figsize=(8, 4.5))\n",
    "\n",
    "sns.scatterplot(df_2015.loc[df_2015['OSEBuildingID'].map(lambda x: x in ID_inter), 'SiteEnergyUse(kBtu)']\n",
    "               ,df_2016.loc[df_2016['OSEBuildingID'].map(lambda x: x in ID_inter), 'SiteEnergyUse(kBtu)']\n",
    "               ,alpha=0.8)\n",
    "\n",
    "ax.set_xlabel('Consomation d\\'énergie en 2015', fontsize=15)\n",
    "ax.set_ylabel('Consomation d\\'énergie en 2016', fontsize=15)\n",
    "plt.title('CONSOMATION D\\'ÉNERGIE EN 2015 ET 2016', fontsize=20)"
   ]
  },
  {
   "cell_type": "markdown",
   "metadata": {},
   "source": [
    "### 7.b Nettoyage des features utiles"
   ]
  },
  {
   "cell_type": "code",
   "execution_count": 108,
   "metadata": {},
   "outputs": [
    {
     "data": {
      "text/plain": [
       "(6716, 52)"
      ]
     },
     "execution_count": 108,
     "metadata": {},
     "output_type": "execute_result"
    }
   ],
   "source": [
    "#On concatène nos 2 df.\n",
    "df = pd.concat([df_2015, df_2016], axis=0, join='outer',ignore_index = True)\n",
    "df.shape"
   ]
  },
  {
   "cell_type": "code",
   "execution_count": 109,
   "metadata": {},
   "outputs": [
    {
     "data": {
      "text/plain": [
       "(6716, 47)"
      ]
     },
     "execution_count": 109,
     "metadata": {},
     "output_type": "execute_result"
    }
   ],
   "source": [
    "#Suppression de variables non utiles\n",
    "df.drop(['SPD Beats', 'Seattle Police Department Micro Community Policing Plan Areas','City Council Districts',\\\n",
    "        'Zip Codes','2010 Census Tracts'], axis='columns', inplace=True)\n",
    "df.shape"
   ]
  },
  {
   "cell_type": "code",
   "execution_count": 111,
   "metadata": {},
   "outputs": [
    {
     "data": {
      "text/html": [
       "<div>\n",
       "<style scoped>\n",
       "    .dataframe tbody tr th:only-of-type {\n",
       "        vertical-align: middle;\n",
       "    }\n",
       "\n",
       "    .dataframe tbody tr th {\n",
       "        vertical-align: top;\n",
       "    }\n",
       "\n",
       "    .dataframe thead th {\n",
       "        text-align: right;\n",
       "    }\n",
       "</style>\n",
       "<table border=\"1\" class=\"dataframe\">\n",
       "  <thead>\n",
       "    <tr style=\"text-align: right;\">\n",
       "      <th></th>\n",
       "      <th>OSEBuildingID</th>\n",
       "      <th>DataYear</th>\n",
       "      <th>Comments</th>\n",
       "    </tr>\n",
       "  </thead>\n",
       "  <tbody>\n",
       "    <tr>\n",
       "      <th>62</th>\n",
       "      <td>87</td>\n",
       "      <td>2015</td>\n",
       "      <td>Under construction starting 6/2013 (old building demolished) and ending 9/2016. New Building re-opened 9/2016. Year built changed from 1948 to 2016.</td>\n",
       "    </tr>\n",
       "    <tr>\n",
       "      <th>436</th>\n",
       "      <td>594</td>\n",
       "      <td>2015</td>\n",
       "      <td>Part of McKinstry's campus, property operates a fabrication and production shop and is conditioned by natural gas overhead radiant unit heaters with no cooling. Learn more at www.mckinstry.com.</td>\n",
       "    </tr>\n",
       "    <tr>\n",
       "      <th>437</th>\n",
       "      <td>595</td>\n",
       "      <td>2015</td>\n",
       "      <td>One of two office buildings on McKinstry's campus partially remodeled in 2009 from warehouse to office space. Served by rooftop air handling units with underfloor VAVs.  Self-performed energy efficiency upgrades in 2015 include a long-term LED lighting re</td>\n",
       "    </tr>\n",
       "    <tr>\n",
       "      <th>595</th>\n",
       "      <td>792</td>\n",
       "      <td>2015</td>\n",
       "      <td>Part of McKinstry’s campus, this remodeled warehouse is mainly office but includes a full-size basketball court and gym with locker rooms, bistro with a full kitchen, and data center. Served by rooftop package units for heating and cooling. Upgrades inclu</td>\n",
       "    </tr>\n",
       "    <tr>\n",
       "      <th>719</th>\n",
       "      <td>19694</td>\n",
       "      <td>2015</td>\n",
       "      <td>Construction completed in mid 2015. The building was unoccupied for most of 2015.</td>\n",
       "    </tr>\n",
       "    <tr>\n",
       "      <th>1358</th>\n",
       "      <td>21570</td>\n",
       "      <td>2015</td>\n",
       "      <td>Under construction starting 6/2013 (old building demolished) and ending 9/2016. New Building re-opened 9/2016.  Year built changed from 1950 to 2016.</td>\n",
       "    </tr>\n",
       "    <tr>\n",
       "      <th>1360</th>\n",
       "      <td>21578</td>\n",
       "      <td>2015</td>\n",
       "      <td>Under construction starting 6/2013 (old building demolished) and ending 9/2016. New Building re-opened 9/2016. Year built changed from 1949 to 2016.</td>\n",
       "    </tr>\n",
       "    <tr>\n",
       "      <th>1373</th>\n",
       "      <td>21616</td>\n",
       "      <td>2015</td>\n",
       "      <td>Under construction starting 6/2015 (old building demolished) and ending 9/2017. New Building re-opens 9/2017. Year built changed from 1954 to 2017.</td>\n",
       "    </tr>\n",
       "    <tr>\n",
       "      <th>2108</th>\n",
       "      <td>24408</td>\n",
       "      <td>2015</td>\n",
       "      <td>Under construction starting 09/2014 (old building demolished) and ending 9/2017. New Buildings (two) re-open 9/2017. Year built changed from 1953 to 2017.</td>\n",
       "    </tr>\n",
       "    <tr>\n",
       "      <th>2230</th>\n",
       "      <td>24780</td>\n",
       "      <td>2015</td>\n",
       "      <td>Part of McKinstry's campus, the office space for this building sites on the 3rd floor above a 2-story parking garage and is served by rooftop package units for both heating and cooling. Learn more at www.mckinstryinnovationcenter.com.</td>\n",
       "    </tr>\n",
       "    <tr>\n",
       "      <th>2319</th>\n",
       "      <td>25163</td>\n",
       "      <td>2015</td>\n",
       "      <td>Part of McKinstry's campus, property includes a warehouse, a local pipe supplier, and a local insulation contractor.  Learn more at www.mckinstry.com.</td>\n",
       "    </tr>\n",
       "    <tr>\n",
       "      <th>2381</th>\n",
       "      <td>25361</td>\n",
       "      <td>2015</td>\n",
       "      <td>Property now has two buildings: Thornton Creek Elementary School and the Decatur Building. New Thornton Creek Elementary built on Decatur Property and under construction from 6/2013 - 9/2016.</td>\n",
       "    </tr>\n",
       "    <tr>\n",
       "      <th>2641</th>\n",
       "      <td>26240</td>\n",
       "      <td>2015</td>\n",
       "      <td>Recent energy efficiency upgrades include replaced toilets with low flow models in all units and participation in lighting rebate program to replace bulbs with CFLs or LEDs. Future improvements include whole building window replacement in 2016.</td>\n",
       "    </tr>\n",
       "  </tbody>\n",
       "</table>\n",
       "</div>"
      ],
      "text/plain": [
       "      OSEBuildingID  DataYear  \\\n",
       "62               87      2015   \n",
       "436             594      2015   \n",
       "437             595      2015   \n",
       "595             792      2015   \n",
       "719           19694      2015   \n",
       "1358          21570      2015   \n",
       "1360          21578      2015   \n",
       "1373          21616      2015   \n",
       "2108          24408      2015   \n",
       "2230          24780      2015   \n",
       "2319          25163      2015   \n",
       "2381          25361      2015   \n",
       "2641          26240      2015   \n",
       "\n",
       "                                                                                                                                                                                                                                                             Comments  \n",
       "62                                                                                                               Under construction starting 6/2013 (old building demolished) and ending 9/2016. New Building re-opened 9/2016. Year built changed from 1948 to 2016.  \n",
       "436                                                                 Part of McKinstry's campus, property operates a fabrication and production shop and is conditioned by natural gas overhead radiant unit heaters with no cooling. Learn more at www.mckinstry.com.  \n",
       "437   One of two office buildings on McKinstry's campus partially remodeled in 2009 from warehouse to office space. Served by rooftop air handling units with underfloor VAVs.  Self-performed energy efficiency upgrades in 2015 include a long-term LED lighting re  \n",
       "595   Part of McKinstry’s campus, this remodeled warehouse is mainly office but includes a full-size basketball court and gym with locker rooms, bistro with a full kitchen, and data center. Served by rooftop package units for heating and cooling. Upgrades inclu  \n",
       "719                                                                                                                                                                                 Construction completed in mid 2015. The building was unoccupied for most of 2015.  \n",
       "1358                                                                                                            Under construction starting 6/2013 (old building demolished) and ending 9/2016. New Building re-opened 9/2016.  Year built changed from 1950 to 2016.  \n",
       "1360                                                                                                             Under construction starting 6/2013 (old building demolished) and ending 9/2016. New Building re-opened 9/2016. Year built changed from 1949 to 2016.  \n",
       "1373                                                                                                              Under construction starting 6/2015 (old building demolished) and ending 9/2017. New Building re-opens 9/2017. Year built changed from 1954 to 2017.  \n",
       "2108                                                                                                       Under construction starting 09/2014 (old building demolished) and ending 9/2017. New Buildings (two) re-open 9/2017. Year built changed from 1953 to 2017.  \n",
       "2230                       Part of McKinstry's campus, the office space for this building sites on the 3rd floor above a 2-story parking garage and is served by rooftop package units for both heating and cooling. Learn more at www.mckinstryinnovationcenter.com.  \n",
       "2319                                                                                                           Part of McKinstry's campus, property includes a warehouse, a local pipe supplier, and a local insulation contractor.  Learn more at www.mckinstry.com.  \n",
       "2381                                                                  Property now has two buildings: Thornton Creek Elementary School and the Decatur Building. New Thornton Creek Elementary built on Decatur Property and under construction from 6/2013 - 9/2016.  \n",
       "2641             Recent energy efficiency upgrades include replaced toilets with low flow models in all units and participation in lighting rebate program to replace bulbs with CFLs or LEDs. Future improvements include whole building window replacement in 2016.  "
      ]
     },
     "execution_count": 111,
     "metadata": {},
     "output_type": "execute_result"
    }
   ],
   "source": [
    "#Reccupération des commentaires pour extraire de l'information sur les récentes rénovations\n",
    "pd.options.display.max_colwidth = 600\n",
    "Commentaire = df[['OSEBuildingID','DataYear','Comments']][df['Comments'].notna()]\n",
    "Commentaire"
   ]
  },
  {
   "cell_type": "code",
   "execution_count": 113,
   "metadata": {},
   "outputs": [
    {
     "data": {
      "text/plain": [
       "3432"
      ]
     },
     "execution_count": 113,
     "metadata": {},
     "output_type": "execute_result"
    }
   ],
   "source": [
    "# Drop duplicate : On garde uniquement les données sur une année quand elles sont disponibles sur les deux années.\n",
    "df.drop_duplicates(subset = ['OSEBuildingID'], keep = 'last', inplace = True)\n",
    "df.shape[0]"
   ]
  },
  {
   "cell_type": "code",
   "execution_count": 114,
   "metadata": {},
   "outputs": [],
   "source": [
    "# On Crée une variable où l'on notifie les bâtiments qui ont eu des travaux récents d'amélioriation de l'efficacité\n",
    "df['RecentUpgrade'] = 'No'\n",
    "#On sélectionne les index des batiments avec des travaux récents d'amélioration et on leur attribue la valeur Yes\n",
    "Reno = df[(df['OSEBuildingID'] == 595) | (df['OSEBuildingID'] == 792) | (df['OSEBuildingID'] == 26240)].index.values\n",
    "df.loc[Reno, 'RecentUpgrade'] = 'Yes'"
   ]
  },
  {
   "cell_type": "code",
   "execution_count": 115,
   "metadata": {},
   "outputs": [
    {
     "data": {
      "text/plain": [
       "13"
      ]
     },
     "execution_count": 115,
     "metadata": {},
     "output_type": "execute_result"
    }
   ],
   "source": [
    "# On uniformise l'écriture pour ne pas avoir de doublons.\n",
    "df['Neighborhood'] = df['Neighborhood'].str.capitalize()\n",
    "Delridge = df.index[df['Neighborhood']== 'Delridge neighborhoods'].tolist()\n",
    "df.loc[Delridge, 'Neighborhood'] = 'Delridge'\n",
    "df['Neighborhood'].nunique()"
   ]
  },
  {
   "cell_type": "code",
   "execution_count": 117,
   "metadata": {},
   "outputs": [
    {
     "data": {
      "text/plain": [
       "PrimaryPropertyType\n",
       "Distribution Center              53\n",
       "High-Rise Multifamily           105\n",
       "Hospital                         10\n",
       "Hotel                            77\n",
       "K-12 School                     141\n",
       "Laboratory                       10\n",
       "Large Office                    176\n",
       "Low-Rise Multifamily           1009\n",
       "Medical Office                   42\n",
       "Mid-Rise Multifamily            568\n",
       "Mixed Use Property              134\n",
       "Non-Refrigerated Warehouse        2\n",
       "Office                            3\n",
       "Other                           263\n",
       "Refrigerated Warehouse           12\n",
       "Residence Hall                   23\n",
       "Restaurant                       12\n",
       "Restaurant\\n                      1\n",
       "Retail Store                     94\n",
       "Self-Storage Facility            28\n",
       "Senior Care Community            45\n",
       "Small- and Mid-Sized Office     300\n",
       "Supermarket / Grocery Store      40\n",
       "University                       25\n",
       "Warehouse                       187\n",
       "Worship Facility                 72\n",
       "Name: OSEBuildingID, dtype: int64"
      ]
     },
     "execution_count": 117,
     "metadata": {},
     "output_type": "execute_result"
    }
   ],
   "source": [
    "df.groupby('PrimaryPropertyType')['OSEBuildingID'].nunique()"
   ]
  },
  {
   "cell_type": "code",
   "execution_count": 118,
   "metadata": {},
   "outputs": [
    {
     "name": "stdout",
     "output_type": "stream",
     "text": [
      " nombre avant transformation :  26\n",
      " nombre après transformation :  22\n"
     ]
    }
   ],
   "source": [
    "# On réduit le nombre de primary property type pour augmenter l'efficacité des algo de prédiction.\n",
    "print(\" nombre avant transformation : \" , df['PrimaryPropertyType'].nunique()  )\n",
    "\n",
    "Restau = df.index[df['PrimaryPropertyType']== 'Restaurant\\n'].tolist()\n",
    "df.loc[Restau, 'PrimaryPropertyType'] = 'Restaurant'\n",
    "\n",
    "Warehouse = df.index[df['PrimaryPropertyType']== 'Non-Refrigerated Warehouse'].tolist()\n",
    "df.loc[Warehouse, 'PrimaryPropertyType'] = 'Warehouse'\n",
    "\n",
    "Office = df.index[(df['PrimaryPropertyType']== 'Large Office') | \\\n",
    "                  (df['PrimaryPropertyType']== 'Small- and Mid-Sized Office') ].tolist()\n",
    "df.loc[Office, 'PrimaryPropertyType'] = 'Office'\n",
    "\n",
    "print(\" nombre après transformation : \" ,df['PrimaryPropertyType'].nunique())"
   ]
  },
  {
   "cell_type": "code",
   "execution_count": 119,
   "metadata": {},
   "outputs": [],
   "source": [
    "# On réduit le nombre de building type pour augmenter l'efficacité des algo de prédiction.\n",
    "NoRes = df.index[df['BuildingType']== 'Nonresidential WA'].tolist()\n",
    "df.loc[NoRes, 'BuildingType'] = 'NonResidential'"
   ]
  },
  {
   "cell_type": "code",
   "execution_count": 120,
   "metadata": {},
   "outputs": [
    {
     "data": {
      "text/plain": [
       "Outlier\n",
       "High outlier     9\n",
       "Low Outlier      3\n",
       "Low outlier     23\n",
       "Name: OSEBuildingID, dtype: int64"
      ]
     },
     "execution_count": 120,
     "metadata": {},
     "output_type": "execute_result"
    }
   ],
   "source": [
    "df.groupby('Outlier')['OSEBuildingID'].nunique()"
   ]
  },
  {
   "cell_type": "code",
   "execution_count": 121,
   "metadata": {},
   "outputs": [
    {
     "data": {
      "text/plain": [
       "(3397, 48)"
      ]
     },
     "execution_count": 121,
     "metadata": {},
     "output_type": "execute_result"
    }
   ],
   "source": [
    "#Filtre sur les Outlier\n",
    "No_Outlier = (df['Outlier'] != 'High Outlier') & (df['Outlier'] != 'Low Outlier') & (df['Outlier'] != 'High outlier') &\\\n",
    "(df['Outlier'] != 'Low outlier')\n",
    "df = df[No_Outlier]\n",
    "df.shape"
   ]
  },
  {
   "cell_type": "code",
   "execution_count": 122,
   "metadata": {},
   "outputs": [
    {
     "name": "stderr",
     "output_type": "stream",
     "text": [
      "C:\\Users\\tfavr\\anaconda3\\envs\\Work\\lib\\site-packages\\pandas\\core\\series.py:4517: SettingWithCopyWarning:\n",
      "\n",
      "\n",
      "A value is trying to be set on a copy of a slice from a DataFrame\n",
      "\n",
      "See the caveats in the documentation: https://pandas.pydata.org/pandas-docs/stable/user_guide/indexing.html#returning-a-view-versus-a-copy\n",
      "\n"
     ]
    },
    {
     "data": {
      "text/plain": [
       "(3341, 48)"
      ]
     },
     "execution_count": 122,
     "metadata": {},
     "output_type": "execute_result"
    }
   ],
   "source": [
    "# Filtre de cohérence sur l'énergie en prenant en compte un arrondi pour ne pas éliminer trop d'individus.\n",
    "df['OtherFuelUse(kBtu)'].fillna(0,inplace=True)\n",
    "df['SteamUse(kBtu)'].fillna(0,inplace=True)\n",
    "df['Electricity(kBtu)'].fillna(0,inplace=True)\n",
    "df['NaturalGas(kBtu)'].fillna(0,inplace=True)\n",
    "Check_Total_Energy =  (df['SiteEnergyUse(kBtu)'] - df['SteamUse(kBtu)'] - df['Electricity(kBtu)'] - \\\n",
    "                   df['NaturalGas(kBtu)'] - df['OtherFuelUse(kBtu)'])  < (0.001 * df['SiteEnergyUse(kBtu)'])\n",
    "df = df[Check_Total_Energy]\n",
    "Check_Electricity = df['Electricity(kBtu)'] != 0\n",
    "df = df[Check_Electricity]\n",
    "df.shape"
   ]
  },
  {
   "cell_type": "code",
   "execution_count": 123,
   "metadata": {},
   "outputs": [],
   "source": [
    "dill.dump_session('kernels/p4_explor_kernel.db')"
   ]
  },
  {
   "cell_type": "code",
   "execution_count": null,
   "metadata": {},
   "outputs": [],
   "source": []
  }
 ],
 "metadata": {
  "colab": {
   "collapsed_sections": [
    "jEELrXuPLMzU",
    "VUR8yjz4LMzV",
    "kNBhRhjTLMzW",
    "NLtu0EdeLMzX",
    "ea1CEfyrLMzY",
    "NXTmqwo_LMzg",
    "-W81C0rULMzh",
    "GwTHmxSqLMzh",
    "aN6TUldeLMzk",
    "CIPzdB-5LMzp",
    "Vb7aRLekLMzr",
    "Ana5Q9TULMzt",
    "P7iyip1uLMzu"
   ],
   "name": "p4 (1).ipynb",
   "provenance": [],
   "toc_visible": true
  },
  "kernelspec": {
   "display_name": "Python 3",
   "language": "python",
   "name": "python3"
  },
  "language_info": {
   "codemirror_mode": {
    "name": "ipython",
    "version": 3
   },
   "file_extension": ".py",
   "mimetype": "text/x-python",
   "name": "python",
   "nbconvert_exporter": "python",
   "pygments_lexer": "ipython3",
   "version": "3.8.5"
  },
  "toc-autonumbering": false
 },
 "nbformat": 4,
 "nbformat_minor": 4
}
